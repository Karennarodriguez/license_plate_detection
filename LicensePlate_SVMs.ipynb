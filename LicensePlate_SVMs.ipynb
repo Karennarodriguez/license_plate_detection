{
 "cells": [
  {
   "cell_type": "markdown",
   "id": "93e06c61",
   "metadata": {},
   "source": [
    "## Charcter Recognition with SVMs"
   ]
  },
  {
   "cell_type": "code",
   "execution_count": 79,
   "id": "9b0e6f55",
   "metadata": {},
   "outputs": [],
   "source": [
    "from sklearn.metrics import accuracy_score \n",
    "import os\n",
    "os.environ['TF_CPP_MIN_LOG_LEVEL'] = '3'\n",
    "import numpy as np\n",
    "import numpy.random as r \n",
    "import matplotlib.pyplot as plt \n",
    "import cv2\n",
    "\n",
    "import glob\n",
    "import matplotlib.gridspec as gridspec #A grid layout to place subplots within a figure.\n",
    "from keras.preprocessing.image import ImageDataGenerator\n",
    "from keras.preprocessing.image import load_img\n",
    "from keras.preprocessing.image import img_to_array\n",
    "\n",
    "%matplotlib inline \n",
    "from sklearn.model_selection import train_test_split \n",
    "from sklearn import metrics,svm\n",
    "from sklearn.metrics import confusion_matrix\n",
    "import seaborn as sn #for visualization"
   ]
  },
  {
   "cell_type": "markdown",
   "id": "3a26f70d",
   "metadata": {},
   "source": [
    "### Reading in one license plate "
   ]
  },
  {
   "cell_type": "code",
   "execution_count": 80,
   "id": "90c1a57d",
   "metadata": {},
   "outputs": [
    {
     "name": "stdout",
     "output_type": "stream",
     "text": [
      "['test_lps/3P8757M/M.jpg', 'test_lps/3P8757M/8.jpg', 'test_lps/3P8757M/7_1.jpg', 'test_lps/3P8757M/5.jpg', 'test_lps/3P8757M/7.jpg', 'test_lps/3P8757M/3.jpg', 'test_lps/3P8757M/P.jpg']\n"
     ]
    }
   ],
   "source": [
    "license_plate = glob.glob(\"test_lps/3P8757M/*.jpg\")\n",
    "print(license_plate)"
   ]
  },
  {
   "cell_type": "code",
   "execution_count": 81,
   "id": "dfdab67c",
   "metadata": {},
   "outputs": [
    {
     "name": "stdout",
     "output_type": "stream",
     "text": [
      "7\n"
     ]
    },
    {
     "data": {
      "text/plain": [
       "<Figure size 576x576 with 0 Axes>"
      ]
     },
     "metadata": {},
     "output_type": "display_data"
    }
   ],
   "source": [
    "fig = plt.figure(figsize=(8,8))\n",
    "plt.rcParams.update({\"font.size\":14})\n",
    "print(len(license_plate))"
   ]
  },
  {
   "cell_type": "code",
   "execution_count": 103,
   "id": "6af56977",
   "metadata": {},
   "outputs": [
    {
     "name": "stdout",
     "output_type": "stream",
     "text": [
      "M\n",
      "8\n",
      "7\n",
      "5\n",
      "7\n",
      "3\n",
      "P\n"
     ]
    },
    {
     "data": {
      "image/png": "[encoded data removed]",
      "text/plain": [
       "<Figure size 432x288 with 1 Axes>"
      ]
     },
     "metadata": {
      "needs_background": "light"
     },
     "output_type": "display_data"
    }
   ],
   "source": [
    "for i in range(len(license_plate)):\n",
    "    image = load_img(license_plate[i])\n",
    "    #image = cv2.imread(license_plate[i])\n",
    "    label = license_plate[i].split(\"/\")[2][0]\n",
    "    print(label)\n",
    "    plt.title('\"{:s}\"'.format(label))\n",
    "    plt.axis(False)\n",
    "    plt.imshow(image)"
   ]
  },
  {
   "cell_type": "code",
   "execution_count": 104,
   "id": "4eb23ddf",
   "metadata": {},
   "outputs": [
    {
     "name": "stdout",
     "output_type": "stream",
     "text": [
      "test_lps/3P8757M/M.jpg\n",
      "test_lps/3P8757M/8.jpg\n",
      "test_lps/3P8757M/7_1.jpg\n",
      "test_lps/3P8757M/5.jpg\n",
      "test_lps/3P8757M/7.jpg\n",
      "test_lps/3P8757M/3.jpg\n",
      "test_lps/3P8757M/P.jpg\n",
      "(28, 28)\n",
      "784\n"
     ]
    },
    {
     "data": {
      "image/png": "[encoded data removed]",
      "text/plain": [
       "<Figure size 432x288 with 1 Axes>"
      ]
     },
     "metadata": {
      "needs_background": "light"
     },
     "output_type": "display_data"
    }
   ],
   "source": [
    "X=[]\n",
    "labels =[]\n",
    "\n",
    "for image_path in license_plate:\n",
    "    print(image_path)\n",
    "    image = cv2.imread(image_path, 0) #0 = grayscale\n",
    "    \n",
    "    PADDING = [0,0,0]\n",
    "    PAD = 30\n",
    "    image= cv2.copyMakeBorder(image,PAD,PAD+10,PAD,PAD+10,cv2.BORDER_CONSTANT,value=PADDING)         \n",
    "    image = cv2.resize(image, (28, 28))\n",
    "    plt.imshow(image)\n",
    "    #print(image)\n",
    "    X.append(image)\n",
    "    label = image_path.split(\"/\")[2][0]\n",
    "    labels.append(label)\n",
    "\n",
    "    \n",
    "print(image.shape)\n",
    "print(image.size)\n",
    " \n",
    "X_test = np.array(X, dtype = \"float\")"
   ]
  },
  {
   "cell_type": "code",
   "execution_count": 105,
   "id": "7a6bc3db",
   "metadata": {},
   "outputs": [
    {
     "name": "stdout",
     "output_type": "stream",
     "text": [
      "(7,)\n"
     ]
    }
   ],
   "source": [
    "y_test = np.array(labels)\n",
    "print(y_test.shape)"
   ]
  },
  {
   "cell_type": "markdown",
   "id": "bb09695d",
   "metadata": {},
   "source": [
    "### Reading our character and digit dataset"
   ]
  },
  {
   "cell_type": "code",
   "execution_count": 106,
   "id": "4e6fb410",
   "metadata": {},
   "outputs": [
    {
     "data": {
      "image/png": "[encoded data removed]",
      "text/plain": [
       "<Figure size 576x576 with 12 Axes>"
      ]
     },
     "metadata": {
      "needs_background": "light"
     },
     "output_type": "display_data"
    }
   ],
   "source": [
    "characters = glob.glob(\"dataset_characters/**/*.jpg\")\n",
    "cols=4\n",
    "rows=3\n",
    "fig = plt.figure(figsize=(8,8))\n",
    "plt.rcParams.update({\"font.size\":14})\n",
    "grid = gridspec.GridSpec(ncols=cols,nrows=rows,figure=fig)\n",
    "\n",
    "# create a random list of images will be displayed\n",
    "np.random.seed(45)\n",
    "rand = np.random.randint(0,len(characters),size=(cols*rows))\n",
    "\n",
    "# Plot example images\n",
    "for i in range(cols*rows):\n",
    "    fig.add_subplot(grid[i])\n",
    "    image = load_img(characters[rand[i]])\n",
    "    label = characters[rand[i]].split(os.path.sep)[-2]\n",
    "    plt.title('\"{:s}\"'.format(label))\n",
    "    plt.axis(False)\n",
    "    plt.imshow(image)"
   ]
  },
  {
   "cell_type": "code",
   "execution_count": 107,
   "id": "9140712d",
   "metadata": {},
   "outputs": [
    {
     "name": "stdout",
     "output_type": "stream",
     "text": [
      "(28, 28)\n",
      "784\n",
      "[[  2.   0.   0.   1.   2.   0.   0.   0.   0.   0.   0.   0.   0.   0.\n",
      "    0.   0.   0.   3.   0.   0.   2.   1.   0.   2.   0.   0.   0.   0.]\n",
      " [  0.   5.   0.   0.   2.   0.   0.   0.   0.   0.   0.   0.   0.   0.\n",
      "    0.   0.   0.   0.   0.   3.   0.   0.   0.   1.   0.   0.   0.   0.]\n",
      " [  0.   0.   0.   3.   0.   0.   1.   1.   0.   0.   0.   0.   0.   0.\n",
      "    0.   0.   1.   0.   2.   3.   0.   1.   4.   0.   0.   0.   0.   0.]\n",
      " [  2.   0.   0.   0.   0.   5.   0. 254. 255. 255. 255. 255. 255. 255.\n",
      "  255. 255. 255. 255. 252. 252. 255. 253.   0.   0.   0.   0.   0.   0.]\n",
      " [  1.   1.   1.   1.   2.   0.   0. 255. 255. 255. 255. 255. 255. 255.\n",
      "  255. 255. 254. 255. 255. 255. 253. 255.   2.   3.   0.   0.   0.   0.]\n",
      " [  0.   0.   0.   0.   0.   0.   4. 254. 255. 255. 255. 255. 255. 255.\n",
      "  255. 255. 255. 255. 255. 252. 253. 255.   0.   0.   0.   0.   0.   0.]\n",
      " [  1.   2.   2.   0.   0.   2.   0.   1.   0.   0.   0.   0.   0.   0.\n",
      "    0.   0.   0.   1. 255. 255. 255.  41.   0.   3.   0.   0.   0.   0.]\n",
      " [  0.   0.   0.   0.   2.   0.   3.   0.   0.   0.   0.   0.   0.   0.\n",
      "    0.   0.   0. 229. 255. 254. 212.   1.   1.   0.   0.   0.   0.   0.]\n",
      " [  0.   0.   0.   0.   0.   0.   0.   0.   0.   0.   2.   0.   2.   0.\n",
      "    0.   1.  86. 255. 254. 253.   2.   0.   1.   0.   0.   0.   0.   0.]\n",
      " [  0.   0.   0.   0.   0.   0.   0.   0.   2.   0.   1.   0.   0.   0.\n",
      "    2.   0. 255. 250. 255.   1.   0.   1.   1.   0.   0.   0.   0.   0.]\n",
      " [  0.   0.   0.   0.   0.   0.   0.   0.   1.   0.   2.   0.   0.   4.\n",
      "    0. 255. 253. 255.   0.   4.   0.   0.   2.   1.   0.   0.   0.   0.]\n",
      " [  0.   0.   0.   0.   0.   0.   0.   0.   0.   4.   0.   1.   0.   0.\n",
      "  253. 255. 255. 121.   0.   0.   3.   2.   0.   0.   0.   0.   0.   0.]\n",
      " [  0.   0.   0.   0.   0.   0.   0.   0.   0.   0.   1.   0.   0. 185.\n",
      "  255. 251. 255.   0.   0.   0.   1.   0.   0.   4.   0.   0.   0.   0.]\n",
      " [  0.   0.   0.   0.   0.   0.   0.   0.   2.   1.   0.   0.  33. 255.\n",
      "  250. 255.   0.   4.   2.   0.   0.   2.   0.   0.   0.   0.   0.   0.]\n",
      " [  0.   0.   0.   0.   0.   0.   0.   0.   0.   0.   1.   0. 255. 253.\n",
      "  255.   0.   0.   0.   0.   2.   0.   0.   1.   0.   0.   0.   0.   0.]\n",
      " [  0.   0.   0.   0.   0.   0.   0.   0.   0.   1.   0. 255. 254. 255.\n",
      "    0.   1.   1.   0.   0.   2.   0.   0.   2.   0.   0.   0.   0.   0.]\n",
      " [  0.   1.   0.   2.   1.   0.   1.   0.   0.   1. 246. 255. 255.  12.\n",
      "    3.   0.   0.   3.   0.   0.   1.   0.   1.   0.   0.   0.   0.   0.]\n",
      " [  1.   0.   2.   0.   2.   1.   0.   2.   3. 113. 255. 255. 175.   0.\n",
      "    0.   1.   0.   0.   3.   0.   0.   2.   0.   1.   0.   0.   0.   0.]\n",
      " [  0.   1.   2.   0.   0.   1.   0.   2.   3. 255. 255. 251.   0.   0.\n",
      "    2.   0.   1.   3.   0.   0.   1.   0.   0.   0.   0.   0.   0.   0.]\n",
      " [  2.   0.   0.   3.   0.   0.   1.   0. 255. 253. 255.   0.   2.   1.\n",
      "    0.   0.   0.   0.   2.   0.   2.   2.   1.   0.   0.   0.   0.   0.]\n",
      " [  0.   1.   0.   3.   0.   1.   3. 254. 255. 251.   2.   0.   0.   0.\n",
      "    2.   0.   0.   0.   3.   1.   0.   0.   0.   1.   0.   0.   0.   0.]\n",
      " [  2.   0.   1.   0.   0.   0. 211. 255. 255.  71.   0.   0.   2.   2.\n",
      "    0.   0.   1.   1.   0.   0.   1.   1.   1.   0.   0.   0.   0.   0.]\n",
      " [  0.   0.   0.   0.   0.   1. 255. 253. 254. 254. 255. 253. 254. 254.\n",
      "  255. 255. 253. 254. 255. 255. 255. 253.   2.   0.   0.   0.   0.   0.]\n",
      " [  0.   0.   1.   0.   0.   0. 254. 255. 255. 252. 255. 255. 254. 255.\n",
      "  253. 254. 255. 255. 254. 253. 255. 255.   0.   0.   0.   0.   0.   0.]\n",
      " [  1.   0.   0.   1.   0.   0. 255. 255. 255. 255. 255. 255. 255. 255.\n",
      "  255. 255. 255. 255. 255. 254. 255. 255.   0.   0.   0.   0.   0.   0.]\n",
      " [  0.   2.   0.   0.   7.   0.   0.   0.   0.   0.   0.   0.   0.   0.\n",
      "    0.   0.   1.   0.   0.   4.   0.   0.   1.   0.   0.   0.   0.   0.]\n",
      " [  0.   1.   0.   1.   0.   0.   1.   2.   0.   0.   0.   0.   0.   0.\n",
      "    0.   0.   2.   0.   1.   0.   1.   2.   0.   0.   0.   0.   0.   0.]\n",
      " [  1.   0.   2.   0.   0.   1.   0.   0.   0.   0.   0.   0.   0.   0.\n",
      "    0.   0.   0.   1.   0.   0.   0.   0.   2.   0.   0.   0.   0.   0.]]\n",
      "(37623, 28, 28)\n"
     ]
    }
   ],
   "source": [
    "X=[]\n",
    "labels_train =[]\n",
    "\n",
    "for image_path in characters:\n",
    "    image = cv2.imread(image_path, 0) #0 = grayscale\n",
    "    image = cv2.resize(image, (28, 28)) \n",
    "    X.append(image)\n",
    "    label = image_path.split(os.path.sep)[-2]\n",
    "    labels_train.append(label)\n",
    "\n",
    "    \n",
    "print(image.shape)\n",
    "print(image.size)\n",
    " \n",
    "X = np.array(X, dtype = \"float\")\n",
    "print(X[10000])\n",
    "print(X.shape)"
   ]
  },
  {
   "cell_type": "code",
   "execution_count": 108,
   "id": "3b1bad65",
   "metadata": {},
   "outputs": [
    {
     "name": "stdout",
     "output_type": "stream",
     "text": [
      "(37623,)\n"
     ]
    }
   ],
   "source": [
    "y = np.array(labels_train)\n",
    "print(y.shape)"
   ]
  },
  {
   "cell_type": "markdown",
   "id": "7bf62291",
   "metadata": {},
   "source": [
    "## SVMs"
   ]
  },
  {
   "cell_type": "code",
   "execution_count": 206,
   "id": "da57c36a",
   "metadata": {},
   "outputs": [],
   "source": [
    "X_train, x_, y_train, y_ = train_test_split(X, y, test_size = 0.96, random_state = 42)"
   ]
  },
  {
   "cell_type": "code",
   "execution_count": 207,
   "id": "34d39eed",
   "metadata": {},
   "outputs": [
    {
     "name": "stdout",
     "output_type": "stream",
     "text": [
      "(1504, 28, 28)\n",
      "(7, 784)\n",
      "(1504,)\n",
      "(7,)\n"
     ]
    }
   ],
   "source": [
    "print(X_train.shape)\n",
    "print(X_test.shape)\n",
    "print(y_train.shape)\n",
    "print(y_test.shape)"
   ]
  },
  {
   "cell_type": "code",
   "execution_count": 208,
   "id": "96d02a2b",
   "metadata": {},
   "outputs": [
    {
     "name": "stdout",
     "output_type": "stream",
     "text": [
      "(1504, 784)\n",
      "(7, 784)\n"
     ]
    }
   ],
   "source": [
    "num_pixels = 784 #28*28\n",
    "X_train = X_train.reshape(X_train.shape[0], num_pixels)\n",
    "X_test = X_test.reshape(X_test.shape[0], num_pixels)\n",
    "print(X_train.shape)\n",
    "print(X_test.shape)"
   ]
  },
  {
   "cell_type": "code",
   "execution_count": 209,
   "id": "a90b602e",
   "metadata": {},
   "outputs": [],
   "source": [
    "#linear kernel\n",
    "\n",
    "param_C = 100\n",
    "param_gamma = 0.0001\n",
    "model = svm.SVC(kernel = 'linear', C=param_C,gamma=param_gamma) #'poly', 'rbf'"
   ]
  },
  {
   "cell_type": "code",
   "execution_count": 210,
   "id": "427524e0",
   "metadata": {},
   "outputs": [
    {
     "data": {
      "text/plain": [
       "SVC(C=100, gamma=0.0001, kernel='linear')"
      ]
     },
     "execution_count": 210,
     "metadata": {},
     "output_type": "execute_result"
    }
   ],
   "source": [
    "model.fit(X_train, y_train)"
   ]
  },
  {
   "cell_type": "code",
   "execution_count": 211,
   "id": "79b01bb9",
   "metadata": {},
   "outputs": [],
   "source": [
    "expected = y_test \n",
    "predicted = model.predict(X_test)"
   ]
  },
  {
   "cell_type": "code",
   "execution_count": 212,
   "id": "9ce610fc",
   "metadata": {},
   "outputs": [
    {
     "data": {
      "text/plain": [
       "1.0"
      ]
     },
     "execution_count": 212,
     "metadata": {},
     "output_type": "execute_result"
    }
   ],
   "source": [
    "model.score(X_test, y_test)#how good the model is "
   ]
  },
  {
   "cell_type": "code",
   "execution_count": 213,
   "id": "e7c2db75",
   "metadata": {},
   "outputs": [
    {
     "data": {
      "text/plain": [
       "Text(65.0, 0.5, 'Truth')"
      ]
     },
     "execution_count": 213,
     "metadata": {},
     "output_type": "execute_result"
    },
    {
     "data": {
      "image/png": "[encoded data removed]",
      "text/plain": [
       "<Figure size 720x504 with 2 Axes>"
      ]
     },
     "metadata": {
      "needs_background": "light"
     },
     "output_type": "display_data"
    }
   ],
   "source": [
    "cm = metrics.confusion_matrix(expected, predicted)\n",
    "plt.figure(figsize = (10, 7))\n",
    "sn.heatmap(cm, annot=True)\n",
    "plt.xlabel('Predicted')\n",
    "plt.ylabel('Truth')"
   ]
  },
  {
   "cell_type": "code",
   "execution_count": 214,
   "id": "c5f6d50b",
   "metadata": {},
   "outputs": [
    {
     "name": "stdout",
     "output_type": "stream",
     "text": [
      "              precision    recall  f1-score   support\n",
      "\n",
      "           3       1.00      1.00      1.00         1\n",
      "           5       1.00      1.00      1.00         1\n",
      "           7       1.00      1.00      1.00         2\n",
      "           8       1.00      1.00      1.00         1\n",
      "           M       1.00      1.00      1.00         1\n",
      "           P       1.00      1.00      1.00         1\n",
      "\n",
      "    accuracy                           1.00         7\n",
      "   macro avg       1.00      1.00      1.00         7\n",
      "weighted avg       1.00      1.00      1.00         7\n",
      "\n"
     ]
    }
   ],
   "source": [
    "print(metrics.classification_report(expected, predicted))"
   ]
  },
  {
   "cell_type": "code",
   "execution_count": 215,
   "id": "eab9c311",
   "metadata": {},
   "outputs": [],
   "source": [
    "acc_train_svm_linear = []\n",
    "acc_test_svm_linear = []\n",
    "c_svm_linear = []\n"
   ]
  },
  {
   "cell_type": "code",
   "execution_count": 216,
   "id": "c2567e5e",
   "metadata": {},
   "outputs": [],
   "source": [
    "from sklearn import svm\n",
    "\n",
    "# Complete the function below:\n",
    "# In this function and next 2 functions, we are not passing the data matrices as parameters \n",
    "# because we can use global variables inside the functions.\n",
    "def svm_linear(c):\n",
    "    # TODO - Create an object of svm.SVC(probability = False, kernel = 'linear', C = c) - 5 points\n",
    "    svc_linear = svm.SVC(probability = False, kernel = 'linear', C = c)\n",
    "    \n",
    "    # TODO - Fit the classifier on the training set - 5 points\n",
    "    svc_linear.fit(X_train, y_train)\n",
    "    # TODO - Find the prediction and accuracy on the training set - 5 points\n",
    "    Yhat_svc_linear_train = svc_linear.predict(X_train)\n",
    "    acc_train = svc_linear.score(X_train, y_train)\n",
    "    \n",
    "    # Adding testing accuracy to acc_train_svm\n",
    "    acc_train_svm_linear.append(acc_train)\n",
    "    print('Train Accuracy = {0:f}'.format(acc_train))\n",
    "    \n",
    "    # TODO - Find the prediction and accuracy on the test set - 5 points\n",
    "    Yhat_svc_linear_test = svc_linear.predict(X_test)\n",
    "    acc_test = svc_linear.score(X_test, y_test)\n",
    "    \n",
    "    # Adding testing accuracy to acc_test_svm\n",
    "    acc_test_svm_linear.append(acc_test)\n",
    "    print('Test Accuracy = {0:f}'.format(acc_test))\n",
    "    \n",
    "    # Appending value of c for graphing purposes\n",
    "    c_svm_linear.append(c)"
   ]
  },
  {
   "cell_type": "code",
   "execution_count": 217,
   "id": "06fe8853",
   "metadata": {},
   "outputs": [
    {
     "name": "stdout",
     "output_type": "stream",
     "text": [
      "Train Accuracy = 0.992686\n",
      "Test Accuracy = 1.000000\n",
      "Train Accuracy = 1.000000\n",
      "Test Accuracy = 1.000000\n",
      "Train Accuracy = 1.000000\n",
      "Test Accuracy = 1.000000\n",
      "Train Accuracy = 1.000000\n",
      "Test Accuracy = 1.000000\n",
      "Train Accuracy = 1.000000\n",
      "Test Accuracy = 1.000000\n"
     ]
    }
   ],
   "source": [
    "for c in cVals:\n",
    "    svm_linear(c)"
   ]
  },
  {
   "cell_type": "code",
   "execution_count": 218,
   "id": "c91b254a",
   "metadata": {},
   "outputs": [
    {
     "data": {
      "text/plain": [
       "<matplotlib.legend.Legend at 0x7fbbee9c51c0>"
      ]
     },
     "execution_count": 218,
     "metadata": {},
     "output_type": "execute_result"
    },
    {
     "data": {
      "image/png": "[encoded data removed]",
      "text/plain": [
       "<Figure size 432x288 with 1 Axes>"
      ]
     },
     "metadata": {
      "needs_background": "light"
     },
     "output_type": "display_data"
    }
   ],
   "source": [
    "plt.plot(cVals, acc_train_svm_linear, color=\"green\", marker=\"o\")\n",
    "plt.plot(cVals, acc_test_svm_linear, color=\"blue\", marker=\"o\")\n",
    "plt.xscale(\"log\")\n",
    "plt.grid()\n",
    "plt.xlabel(\"c\")\n",
    "plt.ylabel(\"Accuracy\")\n",
    "plt.title(\"Accuracy vs c\")\n",
    "\n",
    "# Use the following function to have a legend\n",
    "plt.legend(['Training Accuracy', 'Test Accuracy'], loc='upper right')"
   ]
  },
  {
   "cell_type": "code",
   "execution_count": null,
   "id": "4d1bf9b1",
   "metadata": {},
   "outputs": [],
   "source": []
  },
  {
   "cell_type": "code",
   "execution_count": null,
   "id": "5c7fb6ba",
   "metadata": {},
   "outputs": [],
   "source": []
  }
 ],
 "metadata": {
  "kernelspec": {
   "display_name": "Python 3",
   "language": "python",
   "name": "python3"
  },
  "language_info": {
   "codemirror_mode": {
    "name": "ipython",
    "version": 3
   },
   "file_extension": ".py",
   "mimetype": "text/x-python",
   "name": "python",
   "nbconvert_exporter": "python",
   "pygments_lexer": "ipython3",
   "version": "3.8.8"
  }
 },
 "nbformat": 4,
 "nbformat_minor": 5
}
