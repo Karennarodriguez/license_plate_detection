{
 "cells": [
  {
   "cell_type": "code",
   "execution_count": 196,
   "id": "ecb438c2",
   "metadata": {},
   "outputs": [],
   "source": [
    "from sklearn.preprocessing import StandardScaler  # It is important in neural networks to scale the date\n",
    "from sklearn.metrics import accuracy_score \n",
    "import os\n",
    "os.environ['TF_CPP_MIN_LOG_LEVEL'] = '3'\n",
    "import numpy as np\n",
    "import numpy.random as r \n",
    "import matplotlib.pyplot as plt \n",
    "import cv2\n",
    "\n",
    "import glob\n",
    "import matplotlib.gridspec as gridspec #A grid layout to place subplots within a figure.\n",
    "from keras.preprocessing.image import ImageDataGenerator\n",
    "from keras.preprocessing.image import load_img\n",
    "from keras.preprocessing.image import img_to_array\n",
    "from sklearn.preprocessing import LabelEncoder\n",
    "from tensorflow.keras.utils import to_categorical\n",
    "\n",
    "%matplotlib inline \n",
    "from sklearn.datasets import load_digits\n",
    "from sklearn.model_selection import train_test_split \n",
    "from sklearn import metrics\n",
    "from sklearn.metrics import confusion_matrix\n",
    "import seaborn as sn #for visualization"
   ]
  },
  {
   "cell_type": "code",
   "execution_count": 197,
   "id": "2f984bdb",
   "metadata": {},
   "outputs": [
    {
     "name": "stdout",
     "output_type": "stream",
     "text": [
      "['test_lps/3P8757M/M.jpg', 'test_lps/3P8757M/8.jpg', 'test_lps/3P8757M/7_1.jpg', 'test_lps/3P8757M/5.jpg', 'test_lps/3P8757M/7.jpg', 'test_lps/3P8757M/3.jpg', 'test_lps/3P8757M/P.jpg']\n"
     ]
    }
   ],
   "source": [
    "license_plate = glob.glob(\"test_lps/3P8757M/*.jpg\")\n",
    "print(license_plate)"
   ]
  },
  {
   "cell_type": "code",
   "execution_count": 198,
   "id": "fe7df75b",
   "metadata": {},
   "outputs": [
    {
     "name": "stdout",
     "output_type": "stream",
     "text": [
      "7\n"
     ]
    },
    {
     "data": {
      "text/plain": [
       "<Figure size 576x576 with 0 Axes>"
      ]
     },
     "metadata": {},
     "output_type": "display_data"
    }
   ],
   "source": [
    "cols=3\n",
    "rows=2\n",
    "fig = plt.figure(figsize=(8,8))\n",
    "plt.rcParams.update({\"font.size\":14})\n",
    "grid = gridspec.GridSpec(ncols=cols,nrows=rows,figure=fig)\n",
    "print(len(license_plate))"
   ]
  },
  {
   "cell_type": "code",
   "execution_count": 340,
   "id": "9ca1100c",
   "metadata": {},
   "outputs": [
    {
     "name": "stdout",
     "output_type": "stream",
     "text": [
      "M\n",
      "8\n",
      "7\n",
      "5\n",
      "7\n",
      "3\n",
      "P\n"
     ]
    },
    {
     "name": "stderr",
     "output_type": "stream",
     "text": [
      "<ipython-input-340-ca665ddc6f2b>:2: MatplotlibDeprecationWarning: Adding an axes using the same arguments as a previous axes currently reuses the earlier instance.  In a future version, a new instance will always be created and returned.  Meanwhile, this warning can be suppressed, and the future behavior ensured, by passing a unique label to each axes instance.\n",
      "  fig.add_subplot(grid[i])\n"
     ]
    },
    {
     "data": {
      "image/png": "[encoded data removed]",
      "text/plain": [
       "<Figure size 432x288 with 1 Axes>"
      ]
     },
     "metadata": {
      "needs_background": "light"
     },
     "output_type": "display_data"
    }
   ],
   "source": [
    "for i in range(len(license_plate)):\n",
    "    fig.add_subplot(grid[i])\n",
    "    image = load_img(license_plate[i])\n",
    "    #image = cv2.imread(license_plate[i])\n",
    "    \n",
    "    label = license_plate[i].split(\"/\")[2][0]\n",
    "    print(label)\n",
    "    plt.title('\"{:s}\"'.format(label))\n",
    "    plt.axis(False)\n",
    "    plt.imshow(image)"
   ]
  },
  {
   "cell_type": "code",
   "execution_count": 341,
   "id": "336f2d0e",
   "metadata": {},
   "outputs": [
    {
     "name": "stdout",
     "output_type": "stream",
     "text": [
      "test_lps/3P8757M/M.jpg\n",
      "test_lps/3P8757M/8.jpg\n",
      "test_lps/3P8757M/7_1.jpg\n",
      "test_lps/3P8757M/5.jpg\n",
      "test_lps/3P8757M/7.jpg\n",
      "test_lps/3P8757M/3.jpg\n",
      "test_lps/3P8757M/P.jpg\n",
      "(28, 28)\n",
      "784\n",
      "[[  0.   0.   0.   0.   0.   0.   0.   0.   0.   0.   0.   0.   0.   0.\n",
      "    0.   0.   0.   0.   0.   0.   0.   0.   0.   0.   0.   0.   0.   0.]\n",
      " [  0.   0.   0.   0.   0.   0.   0.   0.   0.   0.   0.   0.   0.   0.\n",
      "    0.   0.   0.   0.   0.   0.   0.   0.   0.   0.   0.   0.   0.   0.]\n",
      " [  0.   0.   0.   0.   0.   0.   0.   0.   0.   0.   0.   0.   0.   0.\n",
      "    0.   0.   0.   0.   0.   0.   0.   0.   0.   0.   0.   0.   0.   0.]\n",
      " [  0.   0.   0.   0.   0. 255. 255. 255. 255. 255.   0.   0.   0.   0.\n",
      "    0.   0.   0. 255. 255. 255. 255. 255.   0.   0.   0.   0.   0.   0.]\n",
      " [  0.   0.   0.   0.   0. 255. 255. 255. 255. 255. 254.   0.   0.   0.\n",
      "    0.   0. 254. 255. 255. 255. 255. 255.   0.   0.   0.   0.   0.   0.]\n",
      " [  0.   0.   0.   0.   0. 255. 255. 255. 255. 255. 255. 255.   0.   0.\n",
      "    0.   5. 250. 255. 255. 255. 255. 255.   0.   0.   0.   0.   0.   0.]\n",
      " [  0.   0.   0.   0.   0. 255. 255. 255. 255. 255. 255. 248.   0.   0.\n",
      "    0. 254. 255. 255. 255. 255. 255. 255.   0.   0.   0.   0.   0.   0.]\n",
      " [  0.   0.   0.   0.   0. 255. 255. 255. 255. 255. 255. 255.   0.   1.\n",
      "  168. 254. 255. 255. 255. 255. 255. 255.   0.   0.   0.   0.   0.   0.]\n",
      " [  0.   0.   0.   0.   0. 255. 255. 255. 255. 255. 255. 249. 165.   3.\n",
      "  224. 255. 255. 255. 255. 255. 255. 255.   0.   0.   0.   0.   0.   0.]\n",
      " [  0.   0.   0.   0.   0. 255. 255. 255. 255. 255. 255. 255. 248. 254.\n",
      "  255. 255. 255. 255. 255. 255. 255. 255.   0.   0.   0.   0.   0.   0.]\n",
      " [  0.   0.   0.   0.   0. 255. 255. 255. 255. 255. 255. 255. 255. 255.\n",
      "  255. 255. 255. 255. 255. 255. 255. 255.   0.   0.   0.   0.   0.   0.]\n",
      " [  0.   0.   0.   0.   0. 255. 255. 255. 255. 255. 255. 255. 255. 255.\n",
      "  255. 255. 255. 255. 255. 255. 255. 255.   0.   0.   0.   0.   0.   0.]\n",
      " [  0.   0.   0.   0.   0. 255. 255. 255. 255. 255. 255. 255. 255. 255.\n",
      "  255. 255. 255. 255. 255. 255. 255. 255.   0.   0.   0.   0.   0.   0.]\n",
      " [  0.   0.   0.   0.   0. 255. 255. 255. 255. 255. 255. 255. 255. 255.\n",
      "  255. 255. 255. 255. 255. 255. 255. 255.   0.   0.   0.   0.   0.   0.]\n",
      " [  0.   0.   0.   0.   0. 255. 255. 255. 255. 255. 255. 255. 255. 255.\n",
      "  255. 252. 252. 255. 255. 255. 255. 255.   0.   0.   0.   0.   0.   0.]\n",
      " [  0.   0.   0.   0.   0. 255. 255. 255. 254.   0. 250. 255. 255. 255.\n",
      "  255. 240. 253. 255. 255. 255. 255.   0.   0.   0.   0.   0.   0.   0.]\n",
      " [  0.   0.   0.   0.   0. 255. 255. 255. 254.   0. 255. 255. 255. 255.\n",
      "  255.   0.   0. 255. 255. 255. 255.   0.   0.   0.   0.   0.   0.   0.]\n",
      " [  0.   0.   0.   0.   0. 255. 255. 255. 254.   0.   0. 255. 255. 255.\n",
      "   82.   4.   0. 255. 255. 255. 255.   0.   0.   0.   0.   0.   0.   0.]\n",
      " [  0.   0.   0.   0.   0. 255. 255. 255. 254.   0.   0.   0. 255. 255.\n",
      "   82.   0.   0. 255. 255. 255. 255.   0.   0.   0.   0.   0.   0.   0.]\n",
      " [  0.   0.   0.   0.   0. 255. 255. 255. 254.   0.   0.   0.   0.   0.\n",
      "    0.   0.   0. 255. 255. 255. 255.   0.   0.   0.   0.   0.   0.   0.]\n",
      " [  0.   0.   0.   0.   0. 255. 255. 255. 254.   0.   0.   0.   0.   0.\n",
      "    0.   0. 252. 255. 255. 255. 255.   0.   0.   0.   0.   0.   0.   0.]\n",
      " [  0.   0.   0.   0.   0. 255. 255. 255. 254.   0.   0.   0.   0.   0.\n",
      "    0.   0. 254. 255. 255. 255. 255.   0.   0.   0.   0.   0.   0.   0.]\n",
      " [  0.   0.   0.   0.   0. 255. 255. 255. 254.   0.   0.   0.   0.   0.\n",
      "    0.   0. 254. 255. 255. 255. 255.   0.   0.   0.   0.   0.   0.   0.]\n",
      " [  0.   0.   0.   0.   0. 255. 255. 255. 254.   1.   0.   0.   0.   0.\n",
      "    0.   0. 254. 255. 255. 255. 255.   0.   0.   0.   0.   0.   0.   0.]\n",
      " [  0.   0.   0.   0.   0.   0.   0.   0.   0.   0.   0.   0.   0.   0.\n",
      "    0.   0.   0.   0.   0.   0.   0.   0.   0.   0.   0.   0.   0.   0.]\n",
      " [  0.   0.   0.   0.   0.   0.   0.   0.   0.   0.   0.   0.   0.   0.\n",
      "    0.   0.   0.   0.   0.   0.   0.   0.   0.   0.   0.   0.   0.   0.]\n",
      " [  0.   0.   0.   0.   0.   0.   0.   0.   0.   0.   0.   0.   0.   0.\n",
      "    0.   0.   0.   0.   0.   0.   0.   0.   0.   0.   0.   0.   0.   0.]\n",
      " [  0.   0.   0.   0.   0.   0.   0.   0.   0.   0.   0.   0.   0.   0.\n",
      "    0.   0.   0.   0.   0.   0.   0.   0.   0.   0.   0.   0.   0.   0.]]\n",
      "[[  0.   0.   0.   0.   0.   0.   0.   0.   0.   0.   0.   0.   0.   0.\n",
      "    0.   0.   0.   0.   0.   0.   0.   0.   0.   0.   0.   0.   0.   0.]\n",
      " [  0.   0.   0.   0.   0.   0.   0.   0.   0.   0.   0.   0.   0.   0.\n",
      "    0.   0.   0.   0.   0.   0.   0.   0.   0.   0.   0.   0.   0.   0.]\n",
      " [  0.   0.   0.   0.   0.   0.   0.   0.   0.   0.   0.   0.   0.   0.\n",
      "    0.   0.   0.   0.   0.   0.   0.   0.   0.   0.   0.   0.   0.   0.]\n",
      " [  0.   0.   0.   0.   0.   0.   0.  23. 253. 255. 255. 255. 255. 255.\n",
      "  255. 255. 255. 255. 254. 252.   0.   0.   0.   0.   0.   0.   0.   0.]\n",
      " [  0.   0.   0.   0.   0.   2.   1. 255. 254. 255. 255. 255. 255. 255.\n",
      "  255. 255. 255. 255. 255. 255. 252.   0.   0.   0.   0.   0.   0.   0.]\n",
      " [  0.   0.   0.   0.   0.   1. 255. 255. 255. 255. 255. 255. 255. 255.\n",
      "  255. 255. 255. 255. 255. 255. 255. 255.   0.   0.   0.   0.   0.   0.]\n",
      " [  0.   0.   0.   0.   0. 254. 255. 255. 255. 255. 255. 255. 253.   1.\n",
      "    1.   9. 253. 255. 255. 255. 255. 255.   0.   0.   0.   0.   0.   0.]\n",
      " [  0.   0.   0.   0.   0. 255. 255. 255. 255. 255. 255.   4.   4.   3.\n",
      "    0.   0.   3. 255. 255. 255. 255. 255.   0.   0.   0.   0.   0.   0.]\n",
      " [  0.   0.   0.   0.   0. 255. 255. 255. 255. 255. 254.   0.   0.   0.\n",
      "    0.   0.   0. 255. 255. 255. 255. 255.   0.   0.   0.   0.   0.   0.]\n",
      " [  0.   0.   0.   0.   0. 255. 255. 255. 255. 255.   0.   0.   0.   0.\n",
      "    0.   0.   0. 255. 255. 255. 255. 255.   0.   0.   0.   0.   0.   0.]\n",
      " [  0.   0.   0.   0.   0. 255. 255. 255. 255. 255.   5.   0.   0.   0.\n",
      "    0.   0.   0. 255. 255. 255. 255. 255.   0.   0.   0.   0.   0.   0.]\n",
      " [  0.   0.   0.   0.   0. 255. 255. 255. 255. 255. 255.   0.   0.   1.\n",
      "    1.   0. 252. 255. 255. 255. 255. 255.   0.   0.   0.   0.   0.   0.]\n",
      " [  0.   0.   0.   0.   0. 252. 255. 255. 255. 255. 255. 253. 254. 253.\n",
      "  246. 255. 255. 255. 255. 255. 255. 255.   0.   0.   0.   0.   0.   0.]\n",
      " [  0.   0.   0.   0.   0.  33. 255. 255. 255. 255. 255. 255. 255. 255.\n",
      "  255. 255. 255. 255. 255. 255. 255.  32.   0.   0.   0.   0.   0.   0.]\n",
      " [  0.   0.   0.   0.   0.   1. 255. 255. 255. 255. 255. 255. 255. 255.\n",
      "  255. 255. 255. 255. 255. 255. 254.  11.   0.   0.   0.   0.   0.   0.]\n",
      " [  0.   0.   0.   0.   0. 249. 255. 255. 255. 255. 255. 252. 254. 254.\n",
      "  254. 252. 255. 255. 255. 255. 255.   3.   0.   0.   0.   0.   0.   0.]\n",
      " [  0.   0.   0.   0.   0. 255. 255. 255. 255. 255. 255. 255.   0.   0.\n",
      "    0.   9. 250. 255. 255. 255. 255. 255.   0.   0.   0.   0.   0.   0.]\n",
      " [  0.   0.   0.   0.   0. 255. 255. 255. 255. 255.   0.   0.   0.   0.\n",
      "    0.   0. 254. 255. 255. 255. 255. 255.   0.   0.   0.   0.   0.   0.]\n",
      " [  0.   0.   0.   0.   0. 255. 255. 255. 255. 255.   1.   0.   0.   0.\n",
      "    0.   0.   0. 255. 255. 255. 255. 255.   0.   0.   0.   0.   0.   0.]\n",
      " [  0.   0.   0.   0.   0. 255. 255. 255. 255. 255.   3.   0.   0.   0.\n",
      "    0.   0.   2. 255. 255. 255. 255. 255.   0.   0.   0.   0.   0.   0.]\n",
      " [  0.   0.   0.   0.   0. 255. 255. 255. 255. 255.   6.   0.   0.   0.\n",
      "    0.   0. 254. 255. 255. 255. 255. 255.   0.   0.   0.   0.   0.   0.]\n",
      " [  0.   0.   0.   0.   0. 255. 255. 255. 255. 255. 255. 250. 254. 252.\n",
      "  252. 255. 255. 255. 255. 255. 255.   2.   0.   0.   0.   0.   0.   0.]\n",
      " [  0.   0.   0.   0.   0. 252. 254. 255. 255. 255. 255. 255. 255. 255.\n",
      "  255. 255. 255. 255. 254. 253. 254.   0.   0.   0.   0.   0.   0.   0.]\n",
      " [  0.   0.   0.   0.   0.   0.   7. 253. 253. 255. 255. 255. 255. 255.\n",
      "  255. 255. 255. 254. 253.   3.   0.   0.   0.   0.   0.   0.   0.   0.]\n",
      " [  0.   0.   0.   0.   0.   0.   0.   0.   0.   0.   0.   0.   0.   0.\n",
      "    0.   0.   0.   0.   0.   0.   0.   0.   0.   0.   0.   0.   0.   0.]\n",
      " [  0.   0.   0.   0.   0.   0.   0.   0.   0.   0.   0.   0.   0.   0.\n",
      "    0.   0.   0.   0.   0.   0.   0.   0.   0.   0.   0.   0.   0.   0.]\n",
      " [  0.   0.   0.   0.   0.   0.   0.   0.   0.   0.   0.   0.   0.   0.\n",
      "    0.   0.   0.   0.   0.   0.   0.   0.   0.   0.   0.   0.   0.   0.]\n",
      " [  0.   0.   0.   0.   0.   0.   0.   0.   0.   0.   0.   0.   0.   0.\n",
      "    0.   0.   0.   0.   0.   0.   0.   0.   0.   0.   0.   0.   0.   0.]]\n",
      "[[  0.   0.   0.   0.   0.   0.   0.   0.   0.   0.   0.   0.   0.   0.\n",
      "    0.   0.   0.   0.   0.   0.   0.   0.   0.   0.   0.   0.   0.   0.]\n",
      " [  0.   0.   0.   0.   0.   0.   0.   0.   0.   0.   0.   0.   0.   0.\n",
      "    0.   0.   0.   0.   0.   0.   0.   0.   0.   0.   0.   0.   0.   0.]\n",
      " [  0.   0.   0.   0.   0.   0.   0.   0.   0.   0.   0.   0.   0.   0.\n",
      "    0.   0.   0.   0.   0.   0.   0.   0.   0.   0.   0.   0.   0.   0.]\n",
      " [  0.   0.   0.   0.   0. 255. 255. 255. 255. 255. 255. 255. 255. 255.\n",
      "  255. 255. 255. 255. 255. 255. 255. 255.   0.   0.   0.   0.   0.   0.]\n",
      " [  0.   0.   0.   0.   0. 255. 255. 255. 255. 255. 255. 255. 255. 255.\n",
      "  255. 255. 255. 255. 255. 255. 255. 255.   0.   0.   0.   0.   0.   0.]\n",
      " [  0.   0.   0.   0.   0. 255. 255. 255. 255. 255. 255. 255. 255. 255.\n",
      "  255. 255. 255. 255. 255. 255. 255. 255.   0.   0.   0.   0.   0.   0.]\n",
      " [  0.   0.   0.   0.   0.   0.   0.   0.   0.   0.   0.   0.   0.   0.\n",
      "    0.  13. 255. 255. 255. 255. 255. 255.   0.   0.   0.   0.   0.   0.]\n",
      " [  0.   0.   0.   0.   0.   0.   0.   0.   0.   0.   0.   0.   0.   0.\n",
      "    0. 248. 255. 255. 255. 255. 255.   6.   0.   0.   0.   0.   0.   0.]\n",
      " [  0.   0.   0.   0.   0.   0.   0.   0.   0.   0.   0.   0.   0.   0.\n",
      "  224. 255. 255. 255. 255. 255. 254.   0.   0.   0.   0.   0.   0.   0.]\n",
      " [  0.   0.   0.   0.   0.   0.   0.   0.   0.   0.   0.   0.   0.   0.\n",
      "  253. 255. 255. 255. 255. 255. 255.   0.   0.   0.   0.   0.   0.   0.]\n",
      " [  0.   0.   0.   0.   0.   0.   0.   0.   0.   0.   0.   0.   3. 251.\n",
      "  255. 255. 255. 255. 255. 137.   0.   0.   0.   0.   0.   0.   0.   0.]\n",
      " [  0.   0.   0.   0.   0.   0.   0.   0.   0.   0.   0.   2.   0. 254.\n",
      "  255. 255. 255. 254. 255.   2.   0.   0.   0.   0.   0.   0.   0.   0.]\n",
      " [  0.   0.   0.   0.   0.   0.   0.   0.   0.   0.   0.   1. 255. 255.\n",
      "  255. 255. 255. 254.   1.   0.   0.   0.   0.   0.   0.   0.   0.   0.]\n",
      " [  0.   0.   0.   0.   0.   0.   0.   0.   0.   0.   0. 219. 255. 255.\n",
      "  255. 255. 255. 254.   0.   0.   0.   0.   0.   0.   0.   0.   0.   0.]\n",
      " [  0.   0.   0.   0.   0.   0.   0.   0.   0.   0.   0. 255. 255. 255.\n",
      "  255. 255. 255.   0.   0.   0.   0.   0.   0.   0.   0.   0.   0.   0.]\n",
      " [  0.   0.   0.   0.   0.   0.   0.   0.   0.   0. 247. 255. 255. 255.\n",
      "  255. 255. 252.   0.   0.   0.   0.   0.   0.   0.   0.   0.   0.   0.]\n",
      " [  0.   0.   0.   0.   0.   0.   0.   0.   3. 243. 246. 255. 255. 255.\n",
      "  255. 255.   1.   0.   0.   0.   0.   0.   0.   0.   0.   0.   0.   0.]\n",
      " [  0.   0.   0.   0.   0.   0.   0.   0.   0. 254. 255. 255. 255. 255.\n",
      "  255. 242.   0.   0.   0.   0.   0.   0.   0.   0.   0.   0.   0.   0.]\n",
      " [  0.   0.   0.   0.   0.   0.   0.   2. 255. 255. 255. 255. 255. 255.\n",
      "  255.   0.   0.   0.   0.   0.   0.   0.   0.   0.   0.   0.   0.   0.]\n",
      " [  0.   0.   0.   0.   0.   0.   0.  20. 253. 255. 255. 255. 255. 254.\n",
      "   51.   0.   0.   0.   0.   0.   0.   0.   0.   0.   0.   0.   0.   0.]\n",
      " [  0.   0.   0.   0.   0.   0.   0.  45. 255. 255. 255. 255. 254.  11.\n",
      "    2.   0.   0.   0.   0.   0.   0.   0.   0.   0.   0.   0.   0.   0.]\n",
      " [  0.   0.   0.   0.   0.   0.   0.   0. 254. 255. 255. 255. 255. 255.\n",
      "    1.   0.   0.   0.   0.   0.   0.   0.   0.   0.   0.   0.   0.   0.]\n",
      " [  0.   0.   0.   0.   0.   0.   3. 255. 255. 255. 250. 255. 254. 251.\n",
      "    4.   0.   0.   0.   0.   0.   0.   0.   0.   0.   0.   0.   0.   0.]\n",
      " [  0.   0.   0.   0.   0.   0. 207. 255. 254.   4. 254. 255. 249.   4.\n",
      "    0.   0.   0.   0.   0.   0.   0.   0.   0.   0.   0.   0.   0.   0.]\n",
      " [  0.   0.   0.   0.   0.   0.   0.   0.   0.   0.   0.   0.   0.   0.\n",
      "    0.   0.   0.   0.   0.   0.   0.   0.   0.   0.   0.   0.   0.   0.]\n",
      " [  0.   0.   0.   0.   0.   0.   0.   0.   0.   0.   0.   0.   0.   0.\n",
      "    0.   0.   0.   0.   0.   0.   0.   0.   0.   0.   0.   0.   0.   0.]\n",
      " [  0.   0.   0.   0.   0.   0.   0.   0.   0.   0.   0.   0.   0.   0.\n",
      "    0.   0.   0.   0.   0.   0.   0.   0.   0.   0.   0.   0.   0.   0.]\n",
      " [  0.   0.   0.   0.   0.   0.   0.   0.   0.   0.   0.   0.   0.   0.\n",
      "    0.   0.   0.   0.   0.   0.   0.   0.   0.   0.   0.   0.   0.   0.]]\n"
     ]
    },
    {
     "data": {
      "image/png": "[encoded data removed]",
      "text/plain": [
       "<Figure size 432x288 with 1 Axes>"
      ]
     },
     "metadata": {
      "needs_background": "light"
     },
     "output_type": "display_data"
    }
   ],
   "source": [
    "X=[]\n",
    "labels =[]\n",
    "\n",
    "for image_path in license_plate:\n",
    "    print(image_path)\n",
    "    image = cv2.imread(image_path, 0) #0 = grayscale\n",
    "    \n",
    "    PADDING = [0,0,0]\n",
    "    PAD = 30\n",
    "    image= cv2.copyMakeBorder(image,PAD,PAD+10,PAD,PAD+10,cv2.BORDER_CONSTANT,value=PADDING)         \n",
    "    image = cv2.resize(image, (28, 28))\n",
    "    plt.imshow(image)\n",
    "    #print(image)\n",
    "    X.append(image)\n",
    "    label = image_path.split(\"/\")[2][0]\n",
    "    labels.append(label)\n",
    "\n",
    "    \n",
    "print(image.shape)\n",
    "print(image.size)\n",
    " \n",
    "X_test = np.array(X, dtype = \"float\")\n",
    "print(X_test[0])\n",
    "print(X_test[1])\n",
    "print(X_test[2])\n",
    "\n",
    "#print(X_test[6-2])"
   ]
  },
  {
   "cell_type": "code",
   "execution_count": 342,
   "id": "2fc718e9",
   "metadata": {},
   "outputs": [
    {
     "name": "stdout",
     "output_type": "stream",
     "text": [
      "(7,)\n"
     ]
    }
   ],
   "source": [
    "y_test = np.array(labels)\n",
    "print(y_test.shape)"
   ]
  },
  {
   "cell_type": "markdown",
   "id": "76511309",
   "metadata": {},
   "source": [
    "## CHARACTERS"
   ]
  },
  {
   "cell_type": "code",
   "execution_count": 343,
   "id": "317cd2f9",
   "metadata": {},
   "outputs": [
    {
     "data": {
      "image/png": "[encoded data removed]",
      "text/plain": [
       "<Figure size 576x576 with 12 Axes>"
      ]
     },
     "metadata": {
      "needs_background": "light"
     },
     "output_type": "display_data"
    }
   ],
   "source": [
    "characters = glob.glob(\"dataset_characters/**/*.jpg\")\n",
    "cols=4\n",
    "rows=3\n",
    "fig = plt.figure(figsize=(8,8))\n",
    "plt.rcParams.update({\"font.size\":14})\n",
    "grid = gridspec.GridSpec(ncols=cols,nrows=rows,figure=fig)\n",
    "\n",
    "# create a random list of images will be displayed\n",
    "np.random.seed(45)\n",
    "rand = np.random.randint(0,len(characters),size=(cols*rows))\n",
    "\n",
    "# Plot example images\n",
    "for i in range(cols*rows):\n",
    "    fig.add_subplot(grid[i])\n",
    "    image = load_img(characters[rand[i]])\n",
    "    label = characters[rand[i]].split(os.path.sep)[-2]\n",
    "    plt.title('\"{:s}\"'.format(label))\n",
    "    plt.axis(False)\n",
    "    plt.imshow(image)"
   ]
  },
  {
   "cell_type": "code",
   "execution_count": 344,
   "id": "c98636a3",
   "metadata": {},
   "outputs": [
    {
     "name": "stdout",
     "output_type": "stream",
     "text": [
      "(28, 28)\n",
      "784\n",
      "[[  2.   0.   0.   1.   2.   0.   0.   0.   0.   0.   0.   0.   0.   0.\n",
      "    0.   0.   0.   3.   0.   0.   2.   1.   0.   2.   0.   0.   0.   0.]\n",
      " [  0.   5.   0.   0.   2.   0.   0.   0.   0.   0.   0.   0.   0.   0.\n",
      "    0.   0.   0.   0.   0.   3.   0.   0.   0.   1.   0.   0.   0.   0.]\n",
      " [  0.   0.   0.   3.   0.   0.   1.   1.   0.   0.   0.   0.   0.   0.\n",
      "    0.   0.   1.   0.   2.   3.   0.   1.   4.   0.   0.   0.   0.   0.]\n",
      " [  2.   0.   0.   0.   0.   5.   0. 254. 255. 255. 255. 255. 255. 255.\n",
      "  255. 255. 255. 255. 252. 252. 255. 253.   0.   0.   0.   0.   0.   0.]\n",
      " [  1.   1.   1.   1.   2.   0.   0. 255. 255. 255. 255. 255. 255. 255.\n",
      "  255. 255. 254. 255. 255. 255. 253. 255.   2.   3.   0.   0.   0.   0.]\n",
      " [  0.   0.   0.   0.   0.   0.   4. 254. 255. 255. 255. 255. 255. 255.\n",
      "  255. 255. 255. 255. 255. 252. 253. 255.   0.   0.   0.   0.   0.   0.]\n",
      " [  1.   2.   2.   0.   0.   2.   0.   1.   0.   0.   0.   0.   0.   0.\n",
      "    0.   0.   0.   1. 255. 255. 255.  41.   0.   3.   0.   0.   0.   0.]\n",
      " [  0.   0.   0.   0.   2.   0.   3.   0.   0.   0.   0.   0.   0.   0.\n",
      "    0.   0.   0. 229. 255. 254. 212.   1.   1.   0.   0.   0.   0.   0.]\n",
      " [  0.   0.   0.   0.   0.   0.   0.   0.   0.   0.   2.   0.   2.   0.\n",
      "    0.   1.  86. 255. 254. 253.   2.   0.   1.   0.   0.   0.   0.   0.]\n",
      " [  0.   0.   0.   0.   0.   0.   0.   0.   2.   0.   1.   0.   0.   0.\n",
      "    2.   0. 255. 250. 255.   1.   0.   1.   1.   0.   0.   0.   0.   0.]\n",
      " [  0.   0.   0.   0.   0.   0.   0.   0.   1.   0.   2.   0.   0.   4.\n",
      "    0. 255. 253. 255.   0.   4.   0.   0.   2.   1.   0.   0.   0.   0.]\n",
      " [  0.   0.   0.   0.   0.   0.   0.   0.   0.   4.   0.   1.   0.   0.\n",
      "  253. 255. 255. 121.   0.   0.   3.   2.   0.   0.   0.   0.   0.   0.]\n",
      " [  0.   0.   0.   0.   0.   0.   0.   0.   0.   0.   1.   0.   0. 185.\n",
      "  255. 251. 255.   0.   0.   0.   1.   0.   0.   4.   0.   0.   0.   0.]\n",
      " [  0.   0.   0.   0.   0.   0.   0.   0.   2.   1.   0.   0.  33. 255.\n",
      "  250. 255.   0.   4.   2.   0.   0.   2.   0.   0.   0.   0.   0.   0.]\n",
      " [  0.   0.   0.   0.   0.   0.   0.   0.   0.   0.   1.   0. 255. 253.\n",
      "  255.   0.   0.   0.   0.   2.   0.   0.   1.   0.   0.   0.   0.   0.]\n",
      " [  0.   0.   0.   0.   0.   0.   0.   0.   0.   1.   0. 255. 254. 255.\n",
      "    0.   1.   1.   0.   0.   2.   0.   0.   2.   0.   0.   0.   0.   0.]\n",
      " [  0.   1.   0.   2.   1.   0.   1.   0.   0.   1. 246. 255. 255.  12.\n",
      "    3.   0.   0.   3.   0.   0.   1.   0.   1.   0.   0.   0.   0.   0.]\n",
      " [  1.   0.   2.   0.   2.   1.   0.   2.   3. 113. 255. 255. 175.   0.\n",
      "    0.   1.   0.   0.   3.   0.   0.   2.   0.   1.   0.   0.   0.   0.]\n",
      " [  0.   1.   2.   0.   0.   1.   0.   2.   3. 255. 255. 251.   0.   0.\n",
      "    2.   0.   1.   3.   0.   0.   1.   0.   0.   0.   0.   0.   0.   0.]\n",
      " [  2.   0.   0.   3.   0.   0.   1.   0. 255. 253. 255.   0.   2.   1.\n",
      "    0.   0.   0.   0.   2.   0.   2.   2.   1.   0.   0.   0.   0.   0.]\n",
      " [  0.   1.   0.   3.   0.   1.   3. 254. 255. 251.   2.   0.   0.   0.\n",
      "    2.   0.   0.   0.   3.   1.   0.   0.   0.   1.   0.   0.   0.   0.]\n",
      " [  2.   0.   1.   0.   0.   0. 211. 255. 255.  71.   0.   0.   2.   2.\n",
      "    0.   0.   1.   1.   0.   0.   1.   1.   1.   0.   0.   0.   0.   0.]\n",
      " [  0.   0.   0.   0.   0.   1. 255. 253. 254. 254. 255. 253. 254. 254.\n",
      "  255. 255. 253. 254. 255. 255. 255. 253.   2.   0.   0.   0.   0.   0.]\n",
      " [  0.   0.   1.   0.   0.   0. 254. 255. 255. 252. 255. 255. 254. 255.\n",
      "  253. 254. 255. 255. 254. 253. 255. 255.   0.   0.   0.   0.   0.   0.]\n",
      " [  1.   0.   0.   1.   0.   0. 255. 255. 255. 255. 255. 255. 255. 255.\n",
      "  255. 255. 255. 255. 255. 254. 255. 255.   0.   0.   0.   0.   0.   0.]\n",
      " [  0.   2.   0.   0.   7.   0.   0.   0.   0.   0.   0.   0.   0.   0.\n",
      "    0.   0.   1.   0.   0.   4.   0.   0.   1.   0.   0.   0.   0.   0.]\n",
      " [  0.   1.   0.   1.   0.   0.   1.   2.   0.   0.   0.   0.   0.   0.\n",
      "    0.   0.   2.   0.   1.   0.   1.   2.   0.   0.   0.   0.   0.   0.]\n",
      " [  1.   0.   2.   0.   0.   1.   0.   0.   0.   0.   0.   0.   0.   0.\n",
      "    0.   0.   0.   1.   0.   0.   0.   0.   2.   0.   0.   0.   0.   0.]]\n"
     ]
    }
   ],
   "source": [
    "X=[]\n",
    "labels_train =[]\n",
    "\n",
    "for image_path in characters:\n",
    "    image = cv2.imread(image_path, 0) #0 = grayscale\n",
    "    image = cv2.resize(image, (28, 28)) \n",
    "    X.append(image)\n",
    "    label = image_path.split(os.path.sep)[-2]\n",
    "    labels_train.append(label)\n",
    "\n",
    "    \n",
    "print(image.shape)\n",
    "print(image.size)\n",
    " \n",
    "X = np.array(X, dtype = \"float\")\n",
    "print(X[10000])"
   ]
  },
  {
   "cell_type": "code",
   "execution_count": 345,
   "id": "c2dddb72",
   "metadata": {},
   "outputs": [
    {
     "name": "stdout",
     "output_type": "stream",
     "text": [
      "(37623,)\n"
     ]
    }
   ],
   "source": [
    "y = np.array(labels_train)\n",
    "print(y.shape)"
   ]
  },
  {
   "cell_type": "code",
   "execution_count": 346,
   "id": "69a149ae",
   "metadata": {},
   "outputs": [],
   "source": [
    "X_train, x_ , y_train, y_ = train_test_split(X, y, test_size = 0.90, random_state = 42)"
   ]
  },
  {
   "cell_type": "code",
   "execution_count": 347,
   "id": "48d72704",
   "metadata": {},
   "outputs": [
    {
     "name": "stdout",
     "output_type": "stream",
     "text": [
      "(3762, 28, 28)\n",
      "(7, 28, 28)\n",
      "(3762,)\n",
      "(7,)\n"
     ]
    }
   ],
   "source": [
    "print(X_train.shape)\n",
    "print(X_test.shape)\n",
    "print(y_train.shape)\n",
    "print(y_test.shape)"
   ]
  },
  {
   "cell_type": "code",
   "execution_count": 348,
   "id": "7fb58f28",
   "metadata": {},
   "outputs": [],
   "source": [
    "from sklearn.linear_model import LogisticRegression \n",
    "model = LogisticRegression(penalty= \"l2\", C = 10) "
   ]
  },
  {
   "cell_type": "code",
   "execution_count": 354,
   "id": "f7650bb8",
   "metadata": {},
   "outputs": [
    {
     "name": "stdout",
     "output_type": "stream",
     "text": [
      "(3762, 784)\n",
      "(7, 784)\n",
      "[[0. 0. 0. ... 0. 0. 0.]\n",
      " [0. 0. 0. ... 0. 0. 0.]\n",
      " [0. 0. 0. ... 0. 0. 0.]\n",
      " ...\n",
      " [0. 0. 0. ... 0. 0. 0.]\n",
      " [0. 0. 0. ... 0. 0. 0.]\n",
      " [0. 0. 0. ... 0. 0. 0.]]\n",
      "['M' '8' '7' '5' '7' '3' 'P']\n"
     ]
    }
   ],
   "source": [
    "num_pixels = 784 #28*28\n",
    "X_train = X_train.reshape(X_train.shape[0], num_pixels)\n",
    "X_test = X_test.reshape(X_test.shape[0], num_pixels)\n",
    "print(X_train.shape)\n",
    "print(X_test.shape)\n",
    "\n",
    "print(X_test)\n",
    "print(y_test)"
   ]
  },
  {
   "cell_type": "code",
   "execution_count": 350,
   "id": "8c70f589",
   "metadata": {},
   "outputs": [
    {
     "name": "stderr",
     "output_type": "stream",
     "text": [
      "/Users/liner1/opt/anaconda3/lib/python3.8/site-packages/sklearn/linear_model/_logistic.py:814: ConvergenceWarning: lbfgs failed to converge (status=1):\n",
      "STOP: TOTAL NO. of ITERATIONS REACHED LIMIT.\n",
      "\n",
      "Increase the number of iterations (max_iter) or scale the data as shown in:\n",
      "    https://scikit-learn.org/stable/modules/preprocessing.html\n",
      "Please also refer to the documentation for alternative solver options:\n",
      "    https://scikit-learn.org/stable/modules/linear_model.html#logistic-regression\n",
      "  n_iter_i = _check_optimize_result(\n"
     ]
    },
    {
     "data": {
      "text/plain": [
       "LogisticRegression(C=10)"
      ]
     },
     "execution_count": 350,
     "metadata": {},
     "output_type": "execute_result"
    }
   ],
   "source": [
    "model.fit(X_train, y_train)"
   ]
  },
  {
   "cell_type": "code",
   "execution_count": 351,
   "id": "a17406e5",
   "metadata": {},
   "outputs": [
    {
     "data": {
      "text/plain": [
       "0.8571428571428571"
      ]
     },
     "execution_count": 351,
     "metadata": {},
     "output_type": "execute_result"
    }
   ],
   "source": [
    "model.score(X_test, y_test)#how good the model is "
   ]
  },
  {
   "cell_type": "code",
   "execution_count": 352,
   "id": "7a573bef",
   "metadata": {},
   "outputs": [
    {
     "data": {
      "text/plain": [
       "array([[1, 0, 0, 0, 0, 0, 0],\n",
       "       [0, 1, 0, 0, 0, 0, 0],\n",
       "       [0, 0, 2, 0, 0, 0, 0],\n",
       "       [0, 0, 0, 0, 0, 0, 1],\n",
       "       [0, 0, 0, 0, 1, 0, 0],\n",
       "       [0, 0, 0, 0, 0, 1, 0],\n",
       "       [0, 0, 0, 0, 0, 0, 0]])"
      ]
     },
     "execution_count": 352,
     "metadata": {},
     "output_type": "execute_result"
    }
   ],
   "source": [
    "y_predicted = model.predict(X_test)\n",
    "cm = confusion_matrix(y_test, y_predicted)\n",
    "cm"
   ]
  },
  {
   "cell_type": "code",
   "execution_count": 353,
   "id": "da077255",
   "metadata": {},
   "outputs": [
    {
     "name": "stdout",
     "output_type": "stream",
     "text": [
      "              precision    recall  f1-score   support\n",
      "\n",
      "           3       1.00      1.00      1.00         1\n",
      "           5       1.00      1.00      1.00         1\n",
      "           7       1.00      1.00      1.00         2\n",
      "           8       0.00      0.00      0.00         1\n",
      "           M       1.00      1.00      1.00         1\n",
      "           P       1.00      1.00      1.00         1\n",
      "           R       0.00      0.00      0.00         0\n",
      "\n",
      "    accuracy                           0.86         7\n",
      "   macro avg       0.71      0.71      0.71         7\n",
      "weighted avg       0.86      0.86      0.86         7\n",
      "\n"
     ]
    },
    {
     "name": "stderr",
     "output_type": "stream",
     "text": [
      "/Users/liner1/opt/anaconda3/lib/python3.8/site-packages/sklearn/metrics/_classification.py:1308: UndefinedMetricWarning: Precision and F-score are ill-defined and being set to 0.0 in labels with no predicted samples. Use `zero_division` parameter to control this behavior.\n",
      "  _warn_prf(average, modifier, msg_start, len(result))\n",
      "/Users/liner1/opt/anaconda3/lib/python3.8/site-packages/sklearn/metrics/_classification.py:1308: UndefinedMetricWarning: Recall and F-score are ill-defined and being set to 0.0 in labels with no true samples. Use `zero_division` parameter to control this behavior.\n",
      "  _warn_prf(average, modifier, msg_start, len(result))\n",
      "/Users/liner1/opt/anaconda3/lib/python3.8/site-packages/sklearn/metrics/_classification.py:1308: UndefinedMetricWarning: Precision and F-score are ill-defined and being set to 0.0 in labels with no predicted samples. Use `zero_division` parameter to control this behavior.\n",
      "  _warn_prf(average, modifier, msg_start, len(result))\n",
      "/Users/liner1/opt/anaconda3/lib/python3.8/site-packages/sklearn/metrics/_classification.py:1308: UndefinedMetricWarning: Recall and F-score are ill-defined and being set to 0.0 in labels with no true samples. Use `zero_division` parameter to control this behavior.\n",
      "  _warn_prf(average, modifier, msg_start, len(result))\n",
      "/Users/liner1/opt/anaconda3/lib/python3.8/site-packages/sklearn/metrics/_classification.py:1308: UndefinedMetricWarning: Precision and F-score are ill-defined and being set to 0.0 in labels with no predicted samples. Use `zero_division` parameter to control this behavior.\n",
      "  _warn_prf(average, modifier, msg_start, len(result))\n",
      "/Users/liner1/opt/anaconda3/lib/python3.8/site-packages/sklearn/metrics/_classification.py:1308: UndefinedMetricWarning: Recall and F-score are ill-defined and being set to 0.0 in labels with no true samples. Use `zero_division` parameter to control this behavior.\n",
      "  _warn_prf(average, modifier, msg_start, len(result))\n"
     ]
    }
   ],
   "source": [
    "print(metrics.classification_report(y_test, y_predicted)) "
   ]
  },
  {
   "cell_type": "code",
   "execution_count": null,
   "id": "f294a21f",
   "metadata": {},
   "outputs": [],
   "source": []
  },
  {
   "cell_type": "code",
   "execution_count": null,
   "id": "6c5424d4",
   "metadata": {},
   "outputs": [],
   "source": []
  }
 ],
 "metadata": {
  "kernelspec": {
   "display_name": "Python 3",
   "language": "python",
   "name": "python3"
  },
  "language_info": {
   "codemirror_mode": {
    "name": "ipython",
    "version": 3
   },
   "file_extension": ".py",
   "mimetype": "text/x-python",
   "name": "python",
   "nbconvert_exporter": "python",
   "pygments_lexer": "ipython3",
   "version": "3.8.8"
  }
 },
 "nbformat": 4,
 "nbformat_minor": 5
}
