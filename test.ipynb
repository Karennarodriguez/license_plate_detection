{
 "cells": [
  {
   "cell_type": "code",
   "execution_count": 2,
   "id": "a01d6505",
   "metadata": {},
   "outputs": [],
   "source": [
    "from sklearn.preprocessing import StandardScaler  # It is important in neural networks to scale the date\n",
    "from sklearn.metrics import accuracy_score \n",
    "import os\n",
    "os.environ['TF_CPP_MIN_LOG_LEVEL'] = '3'\n",
    "import numpy as np\n",
    "import numpy.random as r \n",
    "import matplotlib.pyplot as plt \n",
    "import cv2\n",
    "\n",
    "import glob\n",
    "import matplotlib.gridspec as gridspec #A grid layout to place subplots within a figure.\n",
    "from keras.preprocessing.image import ImageDataGenerator\n",
    "from keras.preprocessing.image import load_img\n",
    "from keras.preprocessing.image import img_to_array\n",
    "from sklearn.preprocessing import LabelEncoder\n",
    "from tensorflow.keras.utils import to_categorical\n",
    "\n",
    "%matplotlib inline \n",
    "from sklearn.datasets import load_digits\n",
    "from sklearn.model_selection import train_test_split \n",
    "from sklearn import metrics\n",
    "from sklearn.metrics import confusion_matrix\n",
    "from sklearn import linear_model\n",
    "import seaborn as sn #for visualization"
   ]
  },
  {
   "cell_type": "markdown",
   "id": "5c384bfd",
   "metadata": {},
   "source": [
    "## Data Pre-Processing "
   ]
  },
  {
   "cell_type": "code",
   "execution_count": 3,
   "id": "d3e2e3ad",
   "metadata": {},
   "outputs": [
    {
     "data": {
      "image/png": "[encoded data removed]",
      "text/plain": [
       "<Figure size 576x576 with 12 Axes>"
      ]
     },
     "metadata": {
      "needs_background": "light"
     },
     "output_type": "display_data"
    }
   ],
   "source": [
    "characters = glob.glob(\"dataset_characters/**/*.jpg\")\n",
    "cols=4\n",
    "rows=3\n",
    "fig = plt.figure(figsize=(8,8))\n",
    "plt.rcParams.update({\"font.size\":14})\n",
    "grid = gridspec.GridSpec(ncols=cols,nrows=rows,figure=fig)\n",
    "\n",
    "# create a random list of images will be displayed\n",
    "np.random.seed(45)\n",
    "rand = np.random.randint(0,len(characters),size=(cols*rows))\n",
    "\n",
    "# Plot example images\n",
    "for i in range(cols*rows):\n",
    "    fig.add_subplot(grid[i])\n",
    "    image = load_img(characters[rand[i]])\n",
    "    label = characters[rand[i]].split(os.path.sep)[-2]\n",
    "    plt.title('\"{:s}\"'.format(label))\n",
    "    plt.axis(False)\n",
    "    plt.imshow(image)"
   ]
  },
  {
   "cell_type": "code",
   "execution_count": 45,
   "id": "f04232fb",
   "metadata": {},
   "outputs": [
    {
     "name": "stdout",
     "output_type": "stream",
     "text": [
      "(8, 8)\n",
      "64\n",
      "[[  3.   0.   0.   0.   0.   2.   1.   0.]\n",
      " [  0.   0. 255. 255. 255. 253.   1.   0.]\n",
      " [  0.   0.   0.   1.  32. 206.   1.   0.]\n",
      " [  0.   0.   0.   0. 253.   0.   1.   0.]\n",
      " [  0.   0.   0. 254.   1.   1.   1.   0.]\n",
      " [  0.   0. 207.  17.   0.   0.   1.   0.]\n",
      " [  0.   1. 254. 254. 254. 255.   1.   0.]\n",
      " [  1.   0.   0.   0.   0.   1.   0.   0.]]\n",
      "Z\n",
      "37623\n",
      "The shape of the X dataset\n",
      "(37623, 8, 8)\n",
      "Reshaping X\n",
      "(37623, 64)\n"
     ]
    }
   ],
   "source": [
    "X=[]\n",
    "labels =[]\n",
    "\n",
    "for image_path in characters:\n",
    "    image = cv2.imread(image_path, 0) #0 = grayscale\n",
    "    image = cv2.resize(image, (8, 8)) \n",
    "    X.append(image)\n",
    "    label = image_path.split(os.path.sep)[-2]\n",
    "    labels.append(label)\n",
    "\n",
    "    \n",
    "print(image.shape)\n",
    "print(image.size)\n",
    " \n",
    "X = np.array(X, dtype = \"float\")\n",
    "print(X[10000])\n",
    "print(labels[10000])\n",
    "print(len(labels))\n",
    "print(\"The shape of the X dataset\")\n",
    "print(X.shape)\n",
    "print(\"Reshaping X\")\n",
    "X = X.reshape(X.shape[0],  X.shape[1]*X.shape[2])\n",
    "print(X.shape)"
   ]
  },
  {
   "cell_type": "code",
   "execution_count": 46,
   "id": "2126808e",
   "metadata": {},
   "outputs": [],
   "source": [
    "def map_to_index(character):\n",
    "    if not character.isalpha():\n",
    "        return int(character)\n",
    "    else:\n",
    "        letter_ind = ord(character)-ord(\"A\")\n",
    "        return 10 + letter_ind\n",
    "# print(map_to_index(\"A\"))"
   ]
  },
  {
   "cell_type": "code",
   "execution_count": 47,
   "id": "7db75f22",
   "metadata": {},
   "outputs": [],
   "source": [
    "def convert_y_to_vect(y):\n",
    "    y_vect = np.zeros((len(y), 36))\n",
    "    for i in range(len(y)):\n",
    "        y_vect[i, map_to_index(y[i])] = 1\n",
    "    return y_vect"
   ]
  },
  {
   "cell_type": "code",
   "execution_count": 48,
   "id": "9a6386a8",
   "metadata": {},
   "outputs": [
    {
     "name": "stdout",
     "output_type": "stream",
     "text": [
      "R\n"
     ]
    }
   ],
   "source": [
    "#print(X[0])\n",
    "y = np.array(labels)\n",
    "#y = y.reshape(y.shape[0],1)\n",
    "print(y[0])"
   ]
  },
  {
   "cell_type": "code",
   "execution_count": 67,
   "id": "3eea5322",
   "metadata": {},
   "outputs": [],
   "source": [
    "X_train, X_test, y_train, y_test = train_test_split(X, y, test_size = 0.8, random_state = 42)"
   ]
  },
  {
   "cell_type": "code",
   "execution_count": 68,
   "id": "01d10302",
   "metadata": {},
   "outputs": [
    {
     "name": "stdout",
     "output_type": "stream",
     "text": [
      "(7524, 64)\n",
      "(30099, 64)\n",
      "(7524,)\n",
      "(30099,)\n"
     ]
    }
   ],
   "source": [
    "print(X_train.shape)\n",
    "print(X_test.shape)\n",
    "print(y_train.shape)\n",
    "print(y_test.shape)"
   ]
  },
  {
   "cell_type": "code",
   "execution_count": 69,
   "id": "0dc99b14",
   "metadata": {},
   "outputs": [],
   "source": [
    "y_v_train = convert_y_to_vect(y_train)\n",
    "y_v_test = convert_y_to_vect(y_test)"
   ]
  },
  {
   "cell_type": "code",
   "execution_count": 70,
   "id": "d1470ae4",
   "metadata": {},
   "outputs": [
    {
     "name": "stdout",
     "output_type": "stream",
     "text": [
      "['Z' 'Z' '6' '7']\n",
      "[[0. 0. 0. 0. 0. 0. 0. 0. 0. 0. 0. 0. 0. 0. 0. 0. 0. 0. 0. 0. 0. 0. 0. 0.\n",
      "  0. 0. 0. 0. 0. 0. 0. 0. 0. 0. 0. 1.]\n",
      " [0. 0. 0. 0. 0. 0. 0. 0. 0. 0. 0. 0. 0. 0. 0. 0. 0. 0. 0. 0. 0. 0. 0. 0.\n",
      "  0. 0. 0. 0. 0. 0. 0. 0. 0. 0. 0. 1.]\n",
      " [0. 0. 0. 0. 0. 0. 1. 0. 0. 0. 0. 0. 0. 0. 0. 0. 0. 0. 0. 0. 0. 0. 0. 0.\n",
      "  0. 0. 0. 0. 0. 0. 0. 0. 0. 0. 0. 0.]\n",
      " [0. 0. 0. 0. 0. 0. 0. 1. 0. 0. 0. 0. 0. 0. 0. 0. 0. 0. 0. 0. 0. 0. 0. 0.\n",
      "  0. 0. 0. 0. 0. 0. 0. 0. 0. 0. 0. 0.]]\n"
     ]
    }
   ],
   "source": [
    "print(y_train[0:4])\n",
    "print(y_v_train[0:4])"
   ]
  },
  {
   "cell_type": "code",
   "execution_count": 71,
   "id": "7f50976b",
   "metadata": {
    "scrolled": true
   },
   "outputs": [],
   "source": [
    "def f(z):\n",
    "    return 1 / (1 + np.exp(-z))\n",
    "    #return np.maximum(0,z) #ReLU\n",
    "    #return (np.exp(z)-np.exp(-z))/(np.exp(z)+np.exp(-z)) #tanh\n",
    "\n",
    "\n",
    "def f_deriv(z):\n",
    "    return f(z) * (1 - f(z))\n",
    "    #return np.greater(z, 0).astype(int) #ReLU\n",
    "    #return 1-(np.square(f(z))) #tanh"
   ]
  },
  {
   "cell_type": "code",
   "execution_count": 72,
   "id": "09a25357",
   "metadata": {},
   "outputs": [],
   "source": [
    "def setup_and_init_weights(nn_structure):\n",
    "    W = {} #creating a dictionary i.e. a set of key: value pairs\n",
    "    b = {}\n",
    "    for l in range(1, len(nn_structure)):\n",
    "        W[l] = r.random_sample((nn_structure[l], nn_structure[l-1])) #Return “continuous uniform” random floats in the half-open interval [0.0, 1.0). \n",
    "        b[l] = r.random_sample((nn_structure[l],))\n",
    "    return W, b"
   ]
  },
  {
   "cell_type": "code",
   "execution_count": 73,
   "id": "62cd3471",
   "metadata": {},
   "outputs": [],
   "source": [
    "def init_tri_values(nn_structure):\n",
    "    tri_W = {}\n",
    "    tri_b = {}\n",
    "    for l in range(1, len(nn_structure)):\n",
    "        tri_W[l] = np.zeros((nn_structure[l], nn_structure[l-1]))\n",
    "        tri_b[l] = np.zeros((nn_structure[l],))\n",
    "    return tri_W, tri_b"
   ]
  },
  {
   "cell_type": "code",
   "execution_count": 74,
   "id": "56f57774",
   "metadata": {},
   "outputs": [],
   "source": [
    "def feed_forward(x, W, b):\n",
    "    a = {1: x} # create a dictionary for holding the a values for all levels\n",
    "    z = { } # create a dictionary for holding the z values for all the layers\n",
    "    for l in range(1, len(W) + 1): # for each layer\n",
    "        node_in = a[l]\n",
    "        z[l+1] = W[l].dot(node_in) + b[l]  # z^(l+1) = W^(l)*a^(l) + b^(l)\n",
    "        a[l+1] = f(z[l+1]) # a^(l+1) = f(z^(l+1))\n",
    "    return a, z"
   ]
  },
  {
   "cell_type": "code",
   "execution_count": 75,
   "id": "9bf7aeff",
   "metadata": {},
   "outputs": [],
   "source": [
    "def calculate_out_layer_delta(y, a_out, z_out):\n",
    "    # delta^(nl) = -(y_i - a_i^(nl)) * f'(z_i^(nl))\n",
    "    return -(y-a_out) * f_deriv(z_out) \n",
    "\n",
    "\n",
    "def calculate_hidden_delta(delta_plus_1, w_l, z_l):\n",
    "    # delta^(l) = (transpose(W^(l)) * delta^(l+1)) * f'(z^(l))\n",
    "    return np.dot(np.transpose(w_l), delta_plus_1) * f_deriv(z_l)"
   ]
  },
  {
   "cell_type": "code",
   "execution_count": 76,
   "id": "b994134a",
   "metadata": {},
   "outputs": [],
   "source": [
    "import time\n",
    "def train_nn(nn_structure, X, y, iter_num=5000, alpha=0.25):\n",
    "    W, b = setup_and_init_weights(nn_structure)\n",
    "    cnt = 0\n",
    "    N = len(y)\n",
    "    avg_cost_func = []\n",
    "    print('Starting gradient descent for {} iterations'.format(iter_num))\n",
    "    start_time = time.time()\n",
    "    while cnt < iter_num:\n",
    "        if cnt%10 == 0 and cnt != 0:\n",
    "            print('Iteration {} of {}'.format(cnt, iter_num))\n",
    "            print(\"average time for each iteration:\", ((start_time - time.time()) * -1)/(cnt+1))\n",
    "        #((start_time - time.time()) * -1)/(cnt+1) ) * (iter_num - cnt)\n",
    "        \n",
    "        if cnt%100 == 0 and cnt != 0:\n",
    "            appx_time_remaining = ((start_time - time.time()) * -1)/(cnt+1) * (iter_num-cnt)\n",
    "            print(\"Approximate Time Remaining:\", appx_time_remaining//60,\"minutes.\")\n",
    "        tri_W, tri_b = init_tri_values(nn_structure)\n",
    "        avg_cost = 0\n",
    "        for i in range(N):\n",
    "            delta = {}\n",
    "            # perform the feed forward pass and return the stored a and z values, to be used in the\n",
    "            # gradient descent step\n",
    "            a, z = feed_forward(X[i, :], W, b)\n",
    "            # loop from nl-1 to 1 backpropagating the errors\n",
    "            for l in range(len(nn_structure), 0, -1):\n",
    "                if l == len(nn_structure):\n",
    "                    delta[l] = calculate_out_layer_delta(y[i,:], a[l], z[l])\n",
    "                    avg_cost += np.linalg.norm((y[i,:]-a[l]))\n",
    "                else:\n",
    "                    if l > 1:\n",
    "                        delta[l] = calculate_hidden_delta(delta[l+1], W[l], z[l])\n",
    "                    # triW^(l) = triW^(l) + delta^(l+1) * transpose(a^(l))\n",
    "                    tri_W[l] += np.dot(delta[l+1][:,np.newaxis], np.transpose(a[l][:,np.newaxis]))# np.newaxis increase the number of dimensions\n",
    "                    # trib^(l) = trib^(l) + delta^(l+1)\n",
    "                    tri_b[l] += delta[l+1]\n",
    "        # perform the gradient descent step for the weights in each layer\n",
    "        for l in range(len(nn_structure) - 1, 0, -1):\n",
    "            #W[l] += -alpha * (1.0/N * tri_W[l])\n",
    "            W[l] += -alpha * (1.0/N * tri_W[l] + 0.001 * W[l]) #regularization\n",
    "            b[l] += -alpha * (1.0/N * tri_b[l])\n",
    "        # complete the average cost calculation\n",
    "        avg_cost = 1.0/N * avg_cost\n",
    "        avg_cost_func.append(avg_cost)\n",
    "        cnt += 1\n",
    "    return W, b, avg_cost_func\n",
    "\n",
    "\n",
    "def predict_y(W, b, X, n_layers):\n",
    "    N = X.shape[0]\n",
    "    y = np.zeros((N,))\n",
    "    for i in range(N):\n",
    "        a, z = feed_forward(X[i, :], W, b)\n",
    "        y[i] = np.argmax(a[n_layers])\n",
    "    return y"
   ]
  },
  {
   "cell_type": "code",
   "execution_count": null,
   "id": "10917093",
   "metadata": {},
   "outputs": [
    {
     "name": "stdout",
     "output_type": "stream",
     "text": [
      "Starting gradient descent for 3000 iterations\n",
      "Iteration 10 of 3000\n",
      "average time for each iteration: 0.5747069879011675\n",
      "Iteration 20 of 3000\n",
      "average time for each iteration: 0.5752564384823754\n",
      "Iteration 30 of 3000\n",
      "average time for each iteration: 0.5767419953500071\n",
      "Iteration 40 of 3000\n",
      "average time for each iteration: 0.5796018053845662\n",
      "Iteration 50 of 3000\n",
      "average time for each iteration: 0.5825845119999904\n",
      "Iteration 60 of 3000\n",
      "average time for each iteration: 0.5859974603183934\n",
      "Iteration 70 of 3000\n",
      "average time for each iteration: 0.5930310571697396\n",
      "Iteration 80 of 3000\n",
      "average time for each iteration: 0.5974584214481307\n",
      "Iteration 90 of 3000\n",
      "average time for each iteration: 0.5986890321249491\n",
      "Iteration 100 of 3000\n",
      "average time for each iteration: 0.5999854366378029\n",
      "Approximate Time Remaining: 28.0 minutes.\n",
      "Iteration 110 of 3000\n",
      "average time for each iteration: 0.6040347653466303\n",
      "Iteration 120 of 3000\n",
      "average time for each iteration: 0.6056244215689415\n",
      "Iteration 130 of 3000\n",
      "average time for each iteration: 0.6080945266112117\n",
      "Iteration 140 of 3000\n",
      "average time for each iteration: 0.6089227317918277\n",
      "Iteration 150 of 3000\n",
      "average time for each iteration: 0.6108154587398301\n",
      "Iteration 160 of 3000\n",
      "average time for each iteration: 0.6122953284601247\n",
      "Iteration 170 of 3000\n",
      "average time for each iteration: 0.6130693209798712\n",
      "Iteration 180 of 3000\n",
      "average time for each iteration: 0.6136912706807174\n",
      "Iteration 190 of 3000\n",
      "average time for each iteration: 0.6137708631485544\n",
      "Iteration 200 of 3000\n",
      "average time for each iteration: 0.6141966575413794\n",
      "Approximate Time Remaining: 28.0 minutes.\n",
      "Iteration 210 of 3000\n",
      "average time for each iteration: 0.6142152948967089\n",
      "Iteration 220 of 3000\n",
      "average time for each iteration: 0.6145212542417362\n",
      "Iteration 230 of 3000\n",
      "average time for each iteration: 0.6144344073869449\n",
      "Iteration 240 of 3000\n",
      "average time for each iteration: 0.6145029790173923\n",
      "Iteration 250 of 3000\n",
      "average time for each iteration: 0.614376968596561\n",
      "Iteration 260 of 3000\n",
      "average time for each iteration: 0.6144962301656204\n",
      "Iteration 270 of 3000\n",
      "average time for each iteration: 0.6146864873456779\n",
      "Iteration 280 of 3000\n",
      "average time for each iteration: 0.6154196729015201\n",
      "Iteration 290 of 3000\n",
      "average time for each iteration: 0.6154771105120682\n",
      "Iteration 300 of 3000\n",
      "average time for each iteration: 0.6180575789011198\n",
      "Approximate Time Remaining: 27.0 minutes.\n",
      "Iteration 310 of 3000\n",
      "average time for each iteration: 0.62159995480749\n",
      "Iteration 320 of 3000\n",
      "average time for each iteration: 0.6321550997618203\n",
      "Iteration 330 of 3000\n",
      "average time for each iteration: 0.6335883263014594\n",
      "Iteration 340 of 3000\n",
      "average time for each iteration: 0.6336971524873437\n",
      "Iteration 350 of 3000\n",
      "average time for each iteration: 0.6337538804763403\n",
      "Iteration 360 of 3000\n",
      "average time for each iteration: 0.633461579061281\n",
      "Iteration 370 of 3000\n",
      "average time for each iteration: 0.6331502671511668\n",
      "Iteration 380 of 3000\n",
      "average time for each iteration: 0.6325649814655775\n",
      "Iteration 390 of 3000\n",
      "average time for each iteration: 0.6321167903178183\n",
      "Iteration 400 of 3000\n",
      "average time for each iteration: 0.6316461747423966\n",
      "Approximate Time Remaining: 27.0 minutes.\n",
      "Iteration 410 of 3000\n",
      "average time for each iteration: 0.6312000246813697\n",
      "Iteration 420 of 3000\n",
      "average time for each iteration: 0.6307198718154798\n",
      "Iteration 430 of 3000\n",
      "average time for each iteration: 0.6302158838081803\n",
      "Iteration 440 of 3000\n",
      "average time for each iteration: 0.6297451476661526\n",
      "Iteration 450 of 3000\n",
      "average time for each iteration: 0.629299962599896\n",
      "Iteration 460 of 3000\n",
      "average time for each iteration: 0.6290179198838107\n",
      "Iteration 470 of 3000\n",
      "average time for each iteration: 0.6285067667627031\n",
      "Iteration 480 of 3000\n",
      "average time for each iteration: 0.6279911147333728\n",
      "Iteration 490 of 3000\n",
      "average time for each iteration: 0.6274665887875372\n",
      "Iteration 500 of 3000\n",
      "average time for each iteration: 0.6273599584659416\n",
      "Approximate Time Remaining: 26.0 minutes.\n",
      "Iteration 510 of 3000\n",
      "average time for each iteration: 0.6271367609617529\n",
      "Iteration 520 of 3000\n",
      "average time for each iteration: 0.6268719885491135\n",
      "Iteration 530 of 3000\n",
      "average time for each iteration: 0.626536476634541\n"
     ]
    }
   ],
   "source": [
    "# import time\n",
    "start_time = time.time()\n",
    "nn_structure = [64, 40, 36]\n",
    "# train the NN\n",
    "W, b, avg_cost_func = train_nn(nn_structure, X_train, y_v_train, 3000)\n",
    "print(\"--- %s seconds ---\" % (time.time() - start_time))"
   ]
  },
  {
   "cell_type": "code",
   "execution_count": null,
   "id": "59ed74a3",
   "metadata": {},
   "outputs": [],
   "source": []
  }
 ],
 "metadata": {
  "kernelspec": {
   "display_name": "Python 3 (ipykernel)",
   "language": "python",
   "name": "python3"
  },
  "language_info": {
   "codemirror_mode": {
    "name": "ipython",
    "version": 3
   },
   "file_extension": ".py",
   "mimetype": "text/x-python",
   "name": "python",
   "nbconvert_exporter": "python",
   "pygments_lexer": "ipython3",
   "version": "3.9.4"
  }
 },
 "nbformat": 4,
 "nbformat_minor": 5
}
