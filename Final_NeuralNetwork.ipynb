{
 "cells": [
  {
   "cell_type": "code",
   "execution_count": 2,
   "id": "2af88a99",
   "metadata": {},
   "outputs": [],
   "source": [
    "from sklearn.preprocessing import StandardScaler  # It is important in neural networks to scale the date\n",
    "from sklearn.metrics import accuracy_score \n",
    "import os\n",
    "os.environ['TF_CPP_MIN_LOG_LEVEL'] = '3'\n",
    "import numpy as np\n",
    "import numpy.random as r \n",
    "import matplotlib.pyplot as plt \n",
    "import cv2\n",
    "\n",
    "import glob\n",
    "import matplotlib.gridspec as gridspec #A grid layout to place subplots within a figure.\n",
    "import tensorflow as tf \n",
    "\n",
    "from keras.preprocessing.image import ImageDataGenerator\n",
    "from keras.preprocessing.image import load_img\n",
    "from keras.preprocessing.image import img_to_array\n",
    "from sklearn.preprocessing import LabelEncoder\n",
    "from tensorflow.keras.utils import to_categorical\n",
    "\n",
    "%matplotlib inline \n",
    "from sklearn.datasets import load_digits\n",
    "from sklearn.model_selection import train_test_split \n",
    "from sklearn import metrics\n",
    "from sklearn.metrics import confusion_matrix\n",
    "import seaborn as sn #for visualization"
   ]
  },
  {
   "cell_type": "code",
   "execution_count": 3,
   "id": "3ca2a282",
   "metadata": {},
   "outputs": [
    {
     "data": {
      "image/png": "[encoded data removed]",
      "text/plain": [
       "<Figure size 576x576 with 12 Axes>"
      ]
     },
     "metadata": {
      "needs_background": "light"
     },
     "output_type": "display_data"
    }
   ],
   "source": [
    "characters = glob.glob(\"dataset_characters/**/*.jpg\")\n",
    "cols=4\n",
    "rows=3\n",
    "fig = plt.figure(figsize=(8,8))\n",
    "plt.rcParams.update({\"font.size\":14})\n",
    "grid = gridspec.GridSpec(ncols=cols,nrows=rows,figure=fig)\n",
    "\n",
    "# create a random list of images will be displayed\n",
    "np.random.seed(45)\n",
    "rand = np.random.randint(0,len(characters),size=(cols*rows))\n",
    "\n",
    "# Plot example images\n",
    "for i in range(cols*rows):\n",
    "    fig.add_subplot(grid[i])\n",
    "    image = load_img(characters[rand[i]])\n",
    "    label = characters[rand[i]].split(os.path.sep)[-2]\n",
    "    plt.title('\"{:s}\"'.format(label))\n",
    "    plt.axis(False)\n",
    "    plt.imshow(image)"
   ]
  },
  {
   "cell_type": "code",
   "execution_count": 29,
   "id": "921bcef0",
   "metadata": {},
   "outputs": [
    {
     "name": "stdout",
     "output_type": "stream",
     "text": [
      "(28, 28)\n",
      "784\n",
      "[[  2.   0.   0.   1.   2.   0.   0.   0.   0.   0.   0.   0.   0.   0.\n",
      "    0.   0.   0.   3.   0.   0.   2.   1.   0.   2.   0.   0.   0.   0.]\n",
      " [  0.   5.   0.   0.   2.   0.   0.   0.   0.   0.   0.   0.   0.   0.\n",
      "    0.   0.   0.   0.   0.   3.   0.   0.   0.   1.   0.   0.   0.   0.]\n",
      " [  0.   0.   0.   3.   0.   0.   1.   1.   0.   0.   0.   0.   0.   0.\n",
      "    0.   0.   1.   0.   2.   3.   0.   1.   4.   0.   0.   0.   0.   0.]\n",
      " [  2.   0.   0.   0.   0.   5.   0. 254. 255. 255. 255. 255. 255. 255.\n",
      "  255. 255. 255. 255. 252. 252. 255. 253.   0.   0.   0.   0.   0.   0.]\n",
      " [  1.   1.   1.   1.   2.   0.   0. 255. 255. 255. 255. 255. 255. 255.\n",
      "  255. 255. 254. 255. 255. 255. 253. 255.   2.   3.   0.   0.   0.   0.]\n",
      " [  0.   0.   0.   0.   0.   0.   4. 254. 255. 255. 255. 255. 255. 255.\n",
      "  255. 255. 255. 255. 255. 252. 253. 255.   0.   0.   0.   0.   0.   0.]\n",
      " [  1.   2.   2.   0.   0.   2.   0.   1.   0.   0.   0.   0.   0.   0.\n",
      "    0.   0.   0.   1. 255. 255. 255.  41.   0.   3.   0.   0.   0.   0.]\n",
      " [  0.   0.   0.   0.   2.   0.   3.   0.   0.   0.   0.   0.   0.   0.\n",
      "    0.   0.   0. 229. 255. 254. 212.   1.   1.   0.   0.   0.   0.   0.]\n",
      " [  0.   0.   0.   0.   0.   0.   0.   0.   0.   0.   2.   0.   2.   0.\n",
      "    0.   1.  86. 255. 254. 253.   2.   0.   1.   0.   0.   0.   0.   0.]\n",
      " [  0.   0.   0.   0.   0.   0.   0.   0.   2.   0.   1.   0.   0.   0.\n",
      "    2.   0. 255. 250. 255.   1.   0.   1.   1.   0.   0.   0.   0.   0.]\n",
      " [  0.   0.   0.   0.   0.   0.   0.   0.   1.   0.   2.   0.   0.   4.\n",
      "    0. 255. 253. 255.   0.   4.   0.   0.   2.   1.   0.   0.   0.   0.]\n",
      " [  0.   0.   0.   0.   0.   0.   0.   0.   0.   4.   0.   1.   0.   0.\n",
      "  253. 255. 255. 121.   0.   0.   3.   2.   0.   0.   0.   0.   0.   0.]\n",
      " [  0.   0.   0.   0.   0.   0.   0.   0.   0.   0.   1.   0.   0. 185.\n",
      "  255. 251. 255.   0.   0.   0.   1.   0.   0.   4.   0.   0.   0.   0.]\n",
      " [  0.   0.   0.   0.   0.   0.   0.   0.   2.   1.   0.   0.  33. 255.\n",
      "  250. 255.   0.   4.   2.   0.   0.   2.   0.   0.   0.   0.   0.   0.]\n",
      " [  0.   0.   0.   0.   0.   0.   0.   0.   0.   0.   1.   0. 255. 253.\n",
      "  255.   0.   0.   0.   0.   2.   0.   0.   1.   0.   0.   0.   0.   0.]\n",
      " [  0.   0.   0.   0.   0.   0.   0.   0.   0.   1.   0. 255. 254. 255.\n",
      "    0.   1.   1.   0.   0.   2.   0.   0.   2.   0.   0.   0.   0.   0.]\n",
      " [  0.   1.   0.   2.   1.   0.   1.   0.   0.   1. 246. 255. 255.  12.\n",
      "    3.   0.   0.   3.   0.   0.   1.   0.   1.   0.   0.   0.   0.   0.]\n",
      " [  1.   0.   2.   0.   2.   1.   0.   2.   3. 113. 255. 255. 175.   0.\n",
      "    0.   1.   0.   0.   3.   0.   0.   2.   0.   1.   0.   0.   0.   0.]\n",
      " [  0.   1.   2.   0.   0.   1.   0.   2.   3. 255. 255. 251.   0.   0.\n",
      "    2.   0.   1.   3.   0.   0.   1.   0.   0.   0.   0.   0.   0.   0.]\n",
      " [  2.   0.   0.   3.   0.   0.   1.   0. 255. 253. 255.   0.   2.   1.\n",
      "    0.   0.   0.   0.   2.   0.   2.   2.   1.   0.   0.   0.   0.   0.]\n",
      " [  0.   1.   0.   3.   0.   1.   3. 254. 255. 251.   2.   0.   0.   0.\n",
      "    2.   0.   0.   0.   3.   1.   0.   0.   0.   1.   0.   0.   0.   0.]\n",
      " [  2.   0.   1.   0.   0.   0. 211. 255. 255.  71.   0.   0.   2.   2.\n",
      "    0.   0.   1.   1.   0.   0.   1.   1.   1.   0.   0.   0.   0.   0.]\n",
      " [  0.   0.   0.   0.   0.   1. 255. 253. 254. 254. 255. 253. 254. 254.\n",
      "  255. 255. 253. 254. 255. 255. 255. 253.   2.   0.   0.   0.   0.   0.]\n",
      " [  0.   0.   1.   0.   0.   0. 254. 255. 255. 252. 255. 255. 254. 255.\n",
      "  253. 254. 255. 255. 254. 253. 255. 255.   0.   0.   0.   0.   0.   0.]\n",
      " [  1.   0.   0.   1.   0.   0. 255. 255. 255. 255. 255. 255. 255. 255.\n",
      "  255. 255. 255. 255. 255. 254. 255. 255.   0.   0.   0.   0.   0.   0.]\n",
      " [  0.   2.   0.   0.   7.   0.   0.   0.   0.   0.   0.   0.   0.   0.\n",
      "    0.   0.   1.   0.   0.   4.   0.   0.   1.   0.   0.   0.   0.   0.]\n",
      " [  0.   1.   0.   1.   0.   0.   1.   2.   0.   0.   0.   0.   0.   0.\n",
      "    0.   0.   2.   0.   1.   0.   1.   2.   0.   0.   0.   0.   0.   0.]\n",
      " [  1.   0.   2.   0.   0.   1.   0.   0.   0.   0.   0.   0.   0.   0.\n",
      "    0.   0.   0.   1.   0.   0.   0.   0.   2.   0.   0.   0.   0.   0.]]\n",
      "Z\n",
      "37623\n",
      "(37623, 28, 28)\n"
     ]
    }
   ],
   "source": [
    "X=[]\n",
    "labels =[]\n",
    "\n",
    "for image_path in characters:\n",
    "    image = cv2.imread(image_path, 0) #0 = grayscale\n",
    "    image = cv2.resize(image, (28, 28)) \n",
    "    X.append(image)\n",
    "    label = image_path.split(os.path.sep)[-2]\n",
    "    labels.append(label)\n",
    "\n",
    "    \n",
    "print(image.shape)\n",
    "print(image.size)\n",
    " \n",
    "X = np.array(X, dtype = \"float\")\n",
    "print(X[10000])\n",
    "print(labels[10000])\n",
    "print(len(labels))\n",
    "print(X.shape)"
   ]
  },
  {
   "cell_type": "code",
   "execution_count": 22,
   "id": "c28d1dd0",
   "metadata": {},
   "outputs": [
    {
     "name": "stdout",
     "output_type": "stream",
     "text": [
      "(37623,)\n"
     ]
    }
   ],
   "source": [
    "#print(X[0])\n",
    "y = np.array(labels)\n",
    "#y = y.reshape(y.shape[0],1)\n",
    "print(y.shape)"
   ]
  },
  {
   "cell_type": "code",
   "execution_count": 30,
   "id": "cf8eef36",
   "metadata": {},
   "outputs": [
    {
     "name": "stdout",
     "output_type": "stream",
     "text": [
      "[[0. 0. 0. ... 0. 0. 0.]\n",
      " [0. 0. 3. ... 0. 0. 0.]\n",
      " [0. 0. 1. ... 0. 0. 0.]\n",
      " ...\n",
      " [0. 2. 0. ... 0. 0. 0.]\n",
      " [0. 2. 0. ... 0. 0. 0.]\n",
      " [0. 1. 0. ... 0. 0. 0.]]\n"
     ]
    },
    {
     "data": {
      "text/plain": [
       "(37623, 784)"
      ]
     },
     "execution_count": 30,
     "metadata": {},
     "output_type": "execute_result"
    }
   ],
   "source": [
    "X = X.reshape(X.shape[0], 784)\n",
    "print(X)\n",
    "\n",
    "X_scale = StandardScaler()\n",
    "X = X_scale.fit_transform(X)\n",
    "\n",
    "X[0,:] # Looking the new features after scaling\n",
    "X.shape "
   ]
  },
  {
   "cell_type": "code",
   "execution_count": 31,
   "id": "ff49baa4",
   "metadata": {},
   "outputs": [],
   "source": [
    "#Split the data into training and test set.  60% training and %40 test\n",
    "X_train, X_test, y_train, y_test = train_test_split(X, y, test_size=0.4)"
   ]
  },
  {
   "cell_type": "code",
   "execution_count": 59,
   "id": "941304fa",
   "metadata": {},
   "outputs": [
    {
     "name": "stdout",
     "output_type": "stream",
     "text": [
      "(22573, 784)\n",
      "(15050, 784)\n",
      "(22573,)\n",
      "(15050,)\n"
     ]
    }
   ],
   "source": [
    "print(X_train.shape)\n",
    "print(X_test.shape)\n",
    "print(y_train.shape)\n",
    "print(y_test.shape)"
   ]
  },
  {
   "cell_type": "code",
   "execution_count": 63,
   "id": "8e8dd6f9",
   "metadata": {},
   "outputs": [],
   "source": [
    "def f(z):\n",
    "    return 1 / (1 + np.exp(-z))\n",
    "    #return np.maximum(0,z) #ReLU\n",
    "    #return (np.exp(z)-np.exp(-z))/(np.exp(z)+np.exp(-z)) #tanh\n",
    "\n",
    "\n",
    "def f_deriv(z):\n",
    "    return f(z) * (1 - f(z))\n",
    "    #return np.greater(z, 0).astype(int) #ReLU\n",
    "    #return 1-(np.square(f(z))) #tanh"
   ]
  },
  {
   "cell_type": "code",
   "execution_count": 64,
   "id": "f2b70f58",
   "metadata": {},
   "outputs": [],
   "source": [
    "def setup_and_init_weights(nn_structure):\n",
    "    W = {} #creating a dictionary i.e. a set of key: value pairs\n",
    "    b = {}\n",
    "    for l in range(1, len(nn_structure)):\n",
    "        W[l] = r.random_sample((nn_structure[l], nn_structure[l-1])) #Return “continuous uniform” random floats in the half-open interval [0.0, 1.0). \n",
    "        b[l] = r.random_sample((nn_structure[l],))\n",
    "    return W, b"
   ]
  },
  {
   "cell_type": "code",
   "execution_count": 65,
   "id": "3d77efea",
   "metadata": {},
   "outputs": [],
   "source": [
    "def init_tri_values(nn_structure):\n",
    "    tri_W = {}\n",
    "    tri_b = {}\n",
    "    for l in range(1, len(nn_structure)):\n",
    "        tri_W[l] = np.zeros((nn_structure[l], nn_structure[l-1]))\n",
    "        tri_b[l] = np.zeros((nn_structure[l],))\n",
    "    return tri_W, tri_b"
   ]
  },
  {
   "cell_type": "code",
   "execution_count": 66,
   "id": "30f3e376",
   "metadata": {},
   "outputs": [],
   "source": [
    "def feed_forward(x, W, b):\n",
    "    a = {1: x} # create a dictionary for holding the a values for all levels\n",
    "    z = { } # create a dictionary for holding the z values for all the layers\n",
    "    for l in range(1, len(W) + 1): # for each layer\n",
    "        node_in = a[l]\n",
    "        z[l+1] = W[l].dot(node_in) + b[l]  # z^(l+1) = W^(l)*a^(l) + b^(l)\n",
    "        a[l+1] = f(z[l+1]) # a^(l+1) = f(z^(l+1))\n",
    "    return a, z"
   ]
  },
  {
   "cell_type": "code",
   "execution_count": 67,
   "id": "0907908b",
   "metadata": {},
   "outputs": [],
   "source": [
    "def calculate_out_layer_delta(y, a_out, z_out):\n",
    "    # delta^(nl) = -(y_i - a_i^(nl)) * f'(z_i^(nl))\n",
    "    return -(y-a_out) * f_deriv(z_out) \n",
    "\n",
    "\n",
    "def calculate_hidden_delta(delta_plus_1, w_l, z_l):\n",
    "    # delta^(l) = (transpose(W^(l)) * delta^(l+1)) * f'(z^(l))\n",
    "    return np.dot(np.transpose(w_l), delta_plus_1) * f_deriv(z_l)"
   ]
  },
  {
   "cell_type": "code",
   "execution_count": 68,
   "id": "47c09fcd",
   "metadata": {},
   "outputs": [],
   "source": [
    "def train_nn(nn_structure, X, y, iter_num=5000, alpha=0.25):\n",
    "    W, b = setup_and_init_weights(nn_structure)\n",
    "    cnt = 0\n",
    "    N = len(y)\n",
    "    avg_cost_func = []\n",
    "    print('Starting gradient descent for {} iterations'.format(iter_num))\n",
    "    while cnt < iter_num:\n",
    "        if cnt%1000 == 0:\n",
    "            print('Iteration {} of {}'.format(cnt, iter_num))\n",
    "        tri_W, tri_b = init_tri_values(nn_structure)\n",
    "        avg_cost = 0\n",
    "        for i in range(N):\n",
    "            delta = {}\n",
    "            # perform the feed forward pass and return the stored a and z values, to be used in the\n",
    "            # gradient descent step\n",
    "            a, z = feed_forward(X[i, :], W, b)\n",
    "            # loop from nl-1 to 1 backpropagating the errors\n",
    "            for l in range(len(nn_structure), 0, -1):\n",
    "                if l == len(nn_structure):\n",
    "                    delta[l] = calculate_out_layer_delta(y[i,:], a[l], z[l])\n",
    "                    avg_cost += np.linalg.norm((y[i,:]-a[l]))\n",
    "                else:\n",
    "                    if l > 1:\n",
    "                        delta[l] = calculate_hidden_delta(delta[l+1], W[l], z[l])\n",
    "                    # triW^(l) = triW^(l) + delta^(l+1) * transpose(a^(l))\n",
    "                    tri_W[l] += np.dot(delta[l+1][:,np.newaxis], np.transpose(a[l][:,np.newaxis]))# np.newaxis increase the number of dimensions\n",
    "                    # trib^(l) = trib^(l) + delta^(l+1)\n",
    "                    tri_b[l] += delta[l+1]\n",
    "        # perform the gradient descent step for the weights in each layer\n",
    "        for l in range(len(nn_structure) - 1, 0, -1):\n",
    "            #W[l] += -alpha * (1.0/N * tri_W[l])\n",
    "            W[l] += -alpha * (1.0/N * tri_W[l] + 0.001 * W[l]) #regularization\n",
    "            b[l] += -alpha * (1.0/N * tri_b[l])\n",
    "        # complete the average cost calculation\n",
    "        avg_cost = 1.0/N * avg_cost\n",
    "        avg_cost_func.append(avg_cost)\n",
    "        cnt += 1\n",
    "    return W, b, avg_cost_func\n",
    "\n",
    "\n",
    "def predict_y(W, b, X, n_layers):\n",
    "    N = X.shape[0]\n",
    "    y = np.zeros((N,))\n",
    "    for i in range(N):\n",
    "        a, z = feed_forward(X[i, :], W, b)\n",
    "        y[i] = np.argmax(a[n_layers])\n",
    "    return y"
   ]
  },
  {
   "cell_type": "code",
   "execution_count": 69,
   "id": "3c7f9a2e",
   "metadata": {},
   "outputs": [
    {
     "name": "stdout",
     "output_type": "stream",
     "text": [
      "Starting gradient descent for 3000 iterations\n",
      "Iteration 0 of 3000\n"
     ]
    },
    {
     "ename": "ValueError",
     "evalue": "shapes (40,64) and (784,) not aligned: 64 (dim 1) != 784 (dim 0)",
     "output_type": "error",
     "traceback": [
      "\u001b[0;31m---------------------------------------------------------------------------\u001b[0m",
      "\u001b[0;31mValueError\u001b[0m                                Traceback (most recent call last)",
      "\u001b[0;32m<ipython-input-69-5a85e9943e3f>\u001b[0m in \u001b[0;36m<module>\u001b[0;34m\u001b[0m\n\u001b[1;32m      2\u001b[0m \u001b[0;34m\u001b[0m\u001b[0m\n\u001b[1;32m      3\u001b[0m \u001b[0;31m# train the NN\u001b[0m\u001b[0;34m\u001b[0m\u001b[0;34m\u001b[0m\u001b[0;34m\u001b[0m\u001b[0m\n\u001b[0;32m----> 4\u001b[0;31m \u001b[0mW\u001b[0m\u001b[0;34m,\u001b[0m \u001b[0mb\u001b[0m\u001b[0;34m,\u001b[0m \u001b[0mavg_cost_func\u001b[0m \u001b[0;34m=\u001b[0m \u001b[0mtrain_nn\u001b[0m\u001b[0;34m(\u001b[0m\u001b[0mnn_structure\u001b[0m\u001b[0;34m,\u001b[0m \u001b[0mX_train\u001b[0m\u001b[0;34m,\u001b[0m \u001b[0my_train\u001b[0m\u001b[0;34m,\u001b[0m \u001b[0;36m3000\u001b[0m\u001b[0;34m)\u001b[0m\u001b[0;34m\u001b[0m\u001b[0;34m\u001b[0m\u001b[0m\n\u001b[0m",
      "\u001b[0;32m<ipython-input-68-279569d699d4>\u001b[0m in \u001b[0;36mtrain_nn\u001b[0;34m(nn_structure, X, y, iter_num, alpha)\u001b[0m\n\u001b[1;32m     14\u001b[0m             \u001b[0;31m# perform the feed forward pass and return the stored a and z values, to be used in the\u001b[0m\u001b[0;34m\u001b[0m\u001b[0;34m\u001b[0m\u001b[0;34m\u001b[0m\u001b[0m\n\u001b[1;32m     15\u001b[0m             \u001b[0;31m# gradient descent step\u001b[0m\u001b[0;34m\u001b[0m\u001b[0;34m\u001b[0m\u001b[0;34m\u001b[0m\u001b[0m\n\u001b[0;32m---> 16\u001b[0;31m             \u001b[0ma\u001b[0m\u001b[0;34m,\u001b[0m \u001b[0mz\u001b[0m \u001b[0;34m=\u001b[0m \u001b[0mfeed_forward\u001b[0m\u001b[0;34m(\u001b[0m\u001b[0mX\u001b[0m\u001b[0;34m[\u001b[0m\u001b[0mi\u001b[0m\u001b[0;34m,\u001b[0m \u001b[0;34m:\u001b[0m\u001b[0;34m]\u001b[0m\u001b[0;34m,\u001b[0m \u001b[0mW\u001b[0m\u001b[0;34m,\u001b[0m \u001b[0mb\u001b[0m\u001b[0;34m)\u001b[0m\u001b[0;34m\u001b[0m\u001b[0;34m\u001b[0m\u001b[0m\n\u001b[0m\u001b[1;32m     17\u001b[0m             \u001b[0;31m# loop from nl-1 to 1 backpropagating the errors\u001b[0m\u001b[0;34m\u001b[0m\u001b[0;34m\u001b[0m\u001b[0;34m\u001b[0m\u001b[0m\n\u001b[1;32m     18\u001b[0m             \u001b[0;32mfor\u001b[0m \u001b[0ml\u001b[0m \u001b[0;32min\u001b[0m \u001b[0mrange\u001b[0m\u001b[0;34m(\u001b[0m\u001b[0mlen\u001b[0m\u001b[0;34m(\u001b[0m\u001b[0mnn_structure\u001b[0m\u001b[0;34m)\u001b[0m\u001b[0;34m,\u001b[0m \u001b[0;36m0\u001b[0m\u001b[0;34m,\u001b[0m \u001b[0;34m-\u001b[0m\u001b[0;36m1\u001b[0m\u001b[0;34m)\u001b[0m\u001b[0;34m:\u001b[0m\u001b[0;34m\u001b[0m\u001b[0;34m\u001b[0m\u001b[0m\n",
      "\u001b[0;32m<ipython-input-66-1690b35d638a>\u001b[0m in \u001b[0;36mfeed_forward\u001b[0;34m(x, W, b)\u001b[0m\n\u001b[1;32m      4\u001b[0m     \u001b[0;32mfor\u001b[0m \u001b[0ml\u001b[0m \u001b[0;32min\u001b[0m \u001b[0mrange\u001b[0m\u001b[0;34m(\u001b[0m\u001b[0;36m1\u001b[0m\u001b[0;34m,\u001b[0m \u001b[0mlen\u001b[0m\u001b[0;34m(\u001b[0m\u001b[0mW\u001b[0m\u001b[0;34m)\u001b[0m \u001b[0;34m+\u001b[0m \u001b[0;36m1\u001b[0m\u001b[0;34m)\u001b[0m\u001b[0;34m:\u001b[0m \u001b[0;31m# for each layer\u001b[0m\u001b[0;34m\u001b[0m\u001b[0;34m\u001b[0m\u001b[0m\n\u001b[1;32m      5\u001b[0m         \u001b[0mnode_in\u001b[0m \u001b[0;34m=\u001b[0m \u001b[0ma\u001b[0m\u001b[0;34m[\u001b[0m\u001b[0ml\u001b[0m\u001b[0;34m]\u001b[0m\u001b[0;34m\u001b[0m\u001b[0;34m\u001b[0m\u001b[0m\n\u001b[0;32m----> 6\u001b[0;31m         \u001b[0mz\u001b[0m\u001b[0;34m[\u001b[0m\u001b[0ml\u001b[0m\u001b[0;34m+\u001b[0m\u001b[0;36m1\u001b[0m\u001b[0;34m]\u001b[0m \u001b[0;34m=\u001b[0m \u001b[0mW\u001b[0m\u001b[0;34m[\u001b[0m\u001b[0ml\u001b[0m\u001b[0;34m]\u001b[0m\u001b[0;34m.\u001b[0m\u001b[0mdot\u001b[0m\u001b[0;34m(\u001b[0m\u001b[0mnode_in\u001b[0m\u001b[0;34m)\u001b[0m \u001b[0;34m+\u001b[0m \u001b[0mb\u001b[0m\u001b[0;34m[\u001b[0m\u001b[0ml\u001b[0m\u001b[0;34m]\u001b[0m  \u001b[0;31m# z^(l+1) = W^(l)*a^(l) + b^(l)\u001b[0m\u001b[0;34m\u001b[0m\u001b[0;34m\u001b[0m\u001b[0m\n\u001b[0m\u001b[1;32m      7\u001b[0m         \u001b[0ma\u001b[0m\u001b[0;34m[\u001b[0m\u001b[0ml\u001b[0m\u001b[0;34m+\u001b[0m\u001b[0;36m1\u001b[0m\u001b[0;34m]\u001b[0m \u001b[0;34m=\u001b[0m \u001b[0mf\u001b[0m\u001b[0;34m(\u001b[0m\u001b[0mz\u001b[0m\u001b[0;34m[\u001b[0m\u001b[0ml\u001b[0m\u001b[0;34m+\u001b[0m\u001b[0;36m1\u001b[0m\u001b[0;34m]\u001b[0m\u001b[0;34m)\u001b[0m \u001b[0;31m# a^(l+1) = f(z^(l+1))\u001b[0m\u001b[0;34m\u001b[0m\u001b[0;34m\u001b[0m\u001b[0m\n\u001b[1;32m      8\u001b[0m     \u001b[0;32mreturn\u001b[0m \u001b[0ma\u001b[0m\u001b[0;34m,\u001b[0m \u001b[0mz\u001b[0m\u001b[0;34m\u001b[0m\u001b[0;34m\u001b[0m\u001b[0m\n",
      "\u001b[0;31mValueError\u001b[0m: shapes (40,64) and (784,) not aligned: 64 (dim 1) != 784 (dim 0)"
     ]
    }
   ],
   "source": [
    "nn_structure = [64, 40, 10]\n",
    "\n",
    "# train the NN\n",
    "W, b, avg_cost_func = train_nn(nn_structure, X_train, y_train, 3000)\n"
   ]
  },
  {
   "cell_type": "code",
   "execution_count": null,
   "id": "7d8c234e",
   "metadata": {},
   "outputs": [],
   "source": []
  }
 ],
 "metadata": {
  "kernelspec": {
   "display_name": "Python 3",
   "language": "python",
   "name": "python3"
  },
  "language_info": {
   "codemirror_mode": {
    "name": "ipython",
    "version": 3
   },
   "file_extension": ".py",
   "mimetype": "text/x-python",
   "name": "python",
   "nbconvert_exporter": "python",
   "pygments_lexer": "ipython3",
   "version": "3.8.8"
  }
 },
 "nbformat": 4,
 "nbformat_minor": 5
}
