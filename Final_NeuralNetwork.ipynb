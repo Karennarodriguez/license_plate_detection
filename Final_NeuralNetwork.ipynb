{
 "cells": [
  {
   "cell_type": "code",
   "execution_count": 22,
   "id": "2af88a99",
   "metadata": {},
   "outputs": [],
   "source": [
    "from sklearn.preprocessing import StandardScaler  # It is important in neural networks to scale the date\n",
    "from sklearn.metrics import accuracy_score \n",
    "import os\n",
    "os.environ['TF_CPP_MIN_LOG_LEVEL'] = '3'\n",
    "import numpy as np\n",
    "import numpy.random as r \n",
    "import matplotlib.pyplot as plt \n",
    "import cv2\n",
    "\n",
    "import glob\n",
    "import matplotlib.gridspec as gridspec #A grid layout to place subplots within a figure.\n",
    "import tensorflow as tf \n",
    "from tensorflow import keras\n",
    "from tensorflow.keras import layers\n",
    "\n",
    "from keras.preprocessing.image import ImageDataGenerator\n",
    "from keras.preprocessing.image import load_img\n",
    "from keras.preprocessing.image import img_to_array\n",
    "from sklearn.preprocessing import LabelEncoder\n",
    "from tensorflow.keras.utils import to_categorical\n",
    "\n",
    "%matplotlib inline \n",
    "from sklearn.datasets import load_digits\n",
    "from sklearn.model_selection import train_test_split \n",
    "from sklearn import metrics\n",
    "from sklearn.metrics import confusion_matrix\n",
    "import seaborn as sn #for visualization"
   ]
  },
  {
   "cell_type": "code",
   "execution_count": 30,
   "id": "3ca2a282",
   "metadata": {},
   "outputs": [
    {
     "data": {
      "image/png": "[encoded data removed]",
      "text/plain": [
       "<Figure size 576x576 with 12 Axes>"
      ]
     },
     "metadata": {
      "needs_background": "light"
     },
     "output_type": "display_data"
    }
   ],
   "source": [
    "characters = glob.glob(\"dataset_characters/**/*.jpg\")\n",
    "cols=4\n",
    "rows=3\n",
    "fig = plt.figure(figsize=(8,8))\n",
    "plt.rcParams.update({\"font.size\":14})\n",
    "grid = gridspec.GridSpec(ncols=cols,nrows=rows,figure=fig)\n",
    "\n",
    "# create a random list of images will be displayed\n",
    "np.random.seed(45)\n",
    "rand = np.random.randint(0,len(characters),size=(cols*rows))\n",
    "\n",
    "# Plot example images\n",
    "for i in range(cols*rows):\n",
    "    fig.add_subplot(grid[i])\n",
    "    image = load_img(characters[rand[i]])\n",
    "    label = characters[rand[i]].split(os.path.sep)[-2]\n",
    "    plt.title('\"{:s}\"'.format(label))\n",
    "    plt.axis(False)\n",
    "    plt.imshow(image)"
   ]
  },
  {
   "cell_type": "code",
   "execution_count": 31,
   "id": "921bcef0",
   "metadata": {},
   "outputs": [
    {
     "name": "stdout",
     "output_type": "stream",
     "text": [
      "(28, 28)\n",
      "784\n",
      "[[  2.   0.   0.   1.   2.   0.   0.   0.   0.   0.   0.   0.   0.   0.\n",
      "    0.   0.   0.   3.   0.   0.   2.   1.   0.   2.   0.   0.   0.   0.]\n",
      " [  0.   5.   0.   0.   2.   0.   0.   0.   0.   0.   0.   0.   0.   0.\n",
      "    0.   0.   0.   0.   0.   3.   0.   0.   0.   1.   0.   0.   0.   0.]\n",
      " [  0.   0.   0.   3.   0.   0.   1.   1.   0.   0.   0.   0.   0.   0.\n",
      "    0.   0.   1.   0.   2.   3.   0.   1.   4.   0.   0.   0.   0.   0.]\n",
      " [  2.   0.   0.   0.   0.   5.   0. 254. 255. 255. 255. 255. 255. 255.\n",
      "  255. 255. 255. 255. 252. 252. 255. 253.   0.   0.   0.   0.   0.   0.]\n",
      " [  1.   1.   1.   1.   2.   0.   0. 255. 255. 255. 255. 255. 255. 255.\n",
      "  255. 255. 254. 255. 255. 255. 253. 255.   2.   3.   0.   0.   0.   0.]\n",
      " [  0.   0.   0.   0.   0.   0.   4. 254. 255. 255. 255. 255. 255. 255.\n",
      "  255. 255. 255. 255. 255. 252. 253. 255.   0.   0.   0.   0.   0.   0.]\n",
      " [  1.   2.   2.   0.   0.   2.   0.   1.   0.   0.   0.   0.   0.   0.\n",
      "    0.   0.   0.   1. 255. 255. 255.  41.   0.   3.   0.   0.   0.   0.]\n",
      " [  0.   0.   0.   0.   2.   0.   3.   0.   0.   0.   0.   0.   0.   0.\n",
      "    0.   0.   0. 229. 255. 254. 212.   1.   1.   0.   0.   0.   0.   0.]\n",
      " [  0.   0.   0.   0.   0.   0.   0.   0.   0.   0.   2.   0.   2.   0.\n",
      "    0.   1.  86. 255. 254. 253.   2.   0.   1.   0.   0.   0.   0.   0.]\n",
      " [  0.   0.   0.   0.   0.   0.   0.   0.   2.   0.   1.   0.   0.   0.\n",
      "    2.   0. 255. 250. 255.   1.   0.   1.   1.   0.   0.   0.   0.   0.]\n",
      " [  0.   0.   0.   0.   0.   0.   0.   0.   1.   0.   2.   0.   0.   4.\n",
      "    0. 255. 253. 255.   0.   4.   0.   0.   2.   1.   0.   0.   0.   0.]\n",
      " [  0.   0.   0.   0.   0.   0.   0.   0.   0.   4.   0.   1.   0.   0.\n",
      "  253. 255. 255. 121.   0.   0.   3.   2.   0.   0.   0.   0.   0.   0.]\n",
      " [  0.   0.   0.   0.   0.   0.   0.   0.   0.   0.   1.   0.   0. 185.\n",
      "  255. 251. 255.   0.   0.   0.   1.   0.   0.   4.   0.   0.   0.   0.]\n",
      " [  0.   0.   0.   0.   0.   0.   0.   0.   2.   1.   0.   0.  33. 255.\n",
      "  250. 255.   0.   4.   2.   0.   0.   2.   0.   0.   0.   0.   0.   0.]\n",
      " [  0.   0.   0.   0.   0.   0.   0.   0.   0.   0.   1.   0. 255. 253.\n",
      "  255.   0.   0.   0.   0.   2.   0.   0.   1.   0.   0.   0.   0.   0.]\n",
      " [  0.   0.   0.   0.   0.   0.   0.   0.   0.   1.   0. 255. 254. 255.\n",
      "    0.   1.   1.   0.   0.   2.   0.   0.   2.   0.   0.   0.   0.   0.]\n",
      " [  0.   1.   0.   2.   1.   0.   1.   0.   0.   1. 246. 255. 255.  12.\n",
      "    3.   0.   0.   3.   0.   0.   1.   0.   1.   0.   0.   0.   0.   0.]\n",
      " [  1.   0.   2.   0.   2.   1.   0.   2.   3. 113. 255. 255. 175.   0.\n",
      "    0.   1.   0.   0.   3.   0.   0.   2.   0.   1.   0.   0.   0.   0.]\n",
      " [  0.   1.   2.   0.   0.   1.   0.   2.   3. 255. 255. 251.   0.   0.\n",
      "    2.   0.   1.   3.   0.   0.   1.   0.   0.   0.   0.   0.   0.   0.]\n",
      " [  2.   0.   0.   3.   0.   0.   1.   0. 255. 253. 255.   0.   2.   1.\n",
      "    0.   0.   0.   0.   2.   0.   2.   2.   1.   0.   0.   0.   0.   0.]\n",
      " [  0.   1.   0.   3.   0.   1.   3. 254. 255. 251.   2.   0.   0.   0.\n",
      "    2.   0.   0.   0.   3.   1.   0.   0.   0.   1.   0.   0.   0.   0.]\n",
      " [  2.   0.   1.   0.   0.   0. 211. 255. 255.  71.   0.   0.   2.   2.\n",
      "    0.   0.   1.   1.   0.   0.   1.   1.   1.   0.   0.   0.   0.   0.]\n",
      " [  0.   0.   0.   0.   0.   1. 255. 253. 254. 254. 255. 253. 254. 254.\n",
      "  255. 255. 253. 254. 255. 255. 255. 253.   2.   0.   0.   0.   0.   0.]\n",
      " [  0.   0.   1.   0.   0.   0. 254. 255. 255. 252. 255. 255. 254. 255.\n",
      "  253. 254. 255. 255. 254. 253. 255. 255.   0.   0.   0.   0.   0.   0.]\n",
      " [  1.   0.   0.   1.   0.   0. 255. 255. 255. 255. 255. 255. 255. 255.\n",
      "  255. 255. 255. 255. 255. 254. 255. 255.   0.   0.   0.   0.   0.   0.]\n",
      " [  0.   2.   0.   0.   7.   0.   0.   0.   0.   0.   0.   0.   0.   0.\n",
      "    0.   0.   1.   0.   0.   4.   0.   0.   1.   0.   0.   0.   0.   0.]\n",
      " [  0.   1.   0.   1.   0.   0.   1.   2.   0.   0.   0.   0.   0.   0.\n",
      "    0.   0.   2.   0.   1.   0.   1.   2.   0.   0.   0.   0.   0.   0.]\n",
      " [  1.   0.   2.   0.   0.   1.   0.   0.   0.   0.   0.   0.   0.   0.\n",
      "    0.   0.   0.   1.   0.   0.   0.   0.   2.   0.   0.   0.   0.   0.]]\n",
      "Z\n",
      "37623\n",
      "(37623, 28, 28)\n"
     ]
    }
   ],
   "source": [
    "X=[]\n",
    "labels =[]\n",
    "\n",
    "for image_path in characters:\n",
    "    image = cv2.imread(image_path, 0) #0 = grayscale\n",
    "    image = cv2.resize(image, (28, 28)) \n",
    "    X.append(image)\n",
    "    label = image_path.split(os.path.sep)[-2]\n",
    "    labels.append(label)\n",
    "\n",
    "    \n",
    "print(image.shape)\n",
    "print(image.size)\n",
    " \n",
    "X = np.array(X, dtype = \"float\")\n",
    "print(X[10000])\n",
    "print(labels[10000])\n",
    "print(len(labels))\n",
    "print(X.shape)"
   ]
  },
  {
   "cell_type": "code",
   "execution_count": 32,
   "id": "c28d1dd0",
   "metadata": {},
   "outputs": [
    {
     "name": "stdout",
     "output_type": "stream",
     "text": [
      "(37623,)\n"
     ]
    }
   ],
   "source": [
    "#print(X[0])\n",
    "y = np.array(labels)\n",
    "#y = y.reshape(y.shape[0],1)\n",
    "print(y.shape)"
   ]
  },
  {
   "cell_type": "code",
   "execution_count": 33,
   "id": "cf8eef36",
   "metadata": {},
   "outputs": [
    {
     "name": "stdout",
     "output_type": "stream",
     "text": [
      "[[0. 0. 0. ... 0. 0. 0.]\n",
      " [0. 0. 3. ... 0. 0. 0.]\n",
      " [0. 0. 1. ... 0. 0. 0.]\n",
      " ...\n",
      " [0. 2. 0. ... 0. 0. 0.]\n",
      " [0. 2. 0. ... 0. 0. 0.]\n",
      " [0. 1. 0. ... 0. 0. 0.]]\n"
     ]
    },
    {
     "data": {
      "text/plain": [
       "(37623, 784)"
      ]
     },
     "execution_count": 33,
     "metadata": {},
     "output_type": "execute_result"
    }
   ],
   "source": [
    "X = X.reshape(X.shape[0], 784)\n",
    "print(X)\n",
    "'''\n",
    "X_scale = StandardScaler()\n",
    "X = X_scale.fit_transform(X)\n",
    "'''\n",
    "X[0,:] # Looking the new features after scaling\n",
    "X.shape "
   ]
  },
  {
   "cell_type": "code",
   "execution_count": 34,
   "id": "ff49baa4",
   "metadata": {},
   "outputs": [],
   "source": [
    "#Split the data into training and test set.  60% training and %40 test\n",
    "X_train, X_test, y_train, y_test = train_test_split(X, y, test_size=0.4)"
   ]
  },
  {
   "cell_type": "code",
   "execution_count": 35,
   "id": "941304fa",
   "metadata": {},
   "outputs": [
    {
     "name": "stdout",
     "output_type": "stream",
     "text": [
      "(22573, 784)\n",
      "(15050, 784)\n",
      "(22573,)\n",
      "(15050,)\n",
      "[  0.   0.   2.   1.   0.   1.   0.   1.   1.   1.   0.   0.   0.   1.\n",
      "   2.   0.   0.   2.   0.   0.   1.   0.   0.   0.   0.   0.   0.   0.\n",
      "   2.   0.   0.   0.   1.   1.   0.   0.   0.   0.   2.   0.   1.   0.\n",
      "   0.   1.   1.   0.   1.   0.   0.   0.   0.   3.   0.   0.   0.   0.\n",
      "   0.   0.   2.   0.   2.   0.   1.   0.   0.   3.   0.   3.   0.   2.\n",
      "   2.   0.   0.   3.   0.   1.   1.   2.   0.   0.   0.   0.   0.   0.\n",
      "   0.   5.   0.   0.   2.   2.   0.   1.   2.   0.   0. 127. 254. 251.\n",
      " 255. 127.   0.   0.   0.   3.   0.   0.   2.   0.   0.   0.   0.   0.\n",
      "   0.   0.   1.   0.   0.   0.   5.   0.   0. 254. 255. 255. 255. 255.\n",
      " 252. 255. 255. 255.   1.   0.   3.   0.   0.   1.   0.   0.   0.   0.\n",
      "   4.   0.   0.   4.   0.   0.   0.   0. 255. 252. 252. 255. 255. 252.\n",
      " 255. 254. 255. 255. 253.   2.   0.   4.   0.   1.   0.   0.   0.   0.\n",
      "   0.   4.   0.   0.   0.   5.   0. 255. 254. 255. 255. 255. 200. 200.\n",
      " 255. 252. 254. 255. 255. 125.   0.   0.   3.   0.   0.   0.   0.   0.\n",
      "   2.   0.   0.   0.   2.   0.   0. 255. 255. 255. 255.   0.   0.   1.\n",
      "   0. 129. 255. 252. 255. 254.   1.   0.   1.   0.   0.   0.   0.   0.\n",
      "   0.   3.   0.   0.   2.   0.  55. 255. 254. 255. 255.   0.   2.   0.\n",
      "   0.   3. 255. 254. 255. 255.   1.   0.   3.   0.   0.   0.   0.   0.\n",
      "   0.   0.   2.   0.   1.   0.  57. 254. 255. 255. 252.   4.   0.   0.\n",
      "   1.   0. 255. 255. 255. 253.   0.   2.   0.   1.   0.   0.   0.   0.\n",
      "   0.   0.   2.   0.   0.   0.   0. 255. 252. 253. 255.   0.   0.   5.\n",
      "   0. 173. 254. 255. 252. 174.   4.   0.   1.   0.   0.   0.   0.   0.\n",
      "   1.   1.   0.   0.   0.   4.   1. 251. 255. 255. 252. 255.  16.   0.\n",
      " 254. 255. 254. 255. 255.   0.   0.   1.   1.   1.   0.   0.   0.   0.\n",
      "   1.   0.   2.   0.   2.   0.   1.   1. 253. 255. 255. 255. 255. 255.\n",
      " 254. 255. 255. 252.   0.   3.   0.   1.   0.   0.   0.   0.   0.   0.\n",
      "   0.   5.   0.   0.   1.   3.   0.   0.   2.   0. 252. 254. 254. 255.\n",
      " 253. 254.  13.   0.   2.   0.   1.   0.   2.   2.   0.   0.   0.   0.\n",
      "   0.   0.   2.   0.   0.   1.   0.   2.  72. 253. 255. 255. 254. 255.\n",
      " 255. 255. 254. 255.   1.   0.   2.   0.   0.   0.   0.   0.   0.   0.\n",
      "   0.   2.   0.   0.   2.   0.   1. 219. 255. 255. 254. 255. 198. 161.\n",
      " 255. 254. 254. 255. 254.   0.   0.   1.   0.   0.   0.   0.   0.   0.\n",
      "   2.   0.   2.   0.   0.   1.  50. 255. 254. 255. 255.   0.   0.   0.\n",
      "   2. 254. 254. 255. 255. 255.   0.   3.   0.   2.   0.   0.   0.   0.\n",
      "   0.   0.   0.   2.   0.   0. 255. 255. 255. 253.  66.   0.   4.   0.\n",
      "   0.   1. 255. 255. 254. 255.   1.   0.   0.   0.   0.   0.   0.   0.\n",
      "   0.   4.   0.   0.   0.   2. 253. 255. 254. 255.   0.   5.   0.   0.\n",
      "   1.   1. 237. 253. 255. 253.  16.   0.   2.   0.   0.   0.   0.   0.\n",
      "   0.   0.   0.   0.   0.   0. 255. 254. 255. 255.   0.   0.   4.   0.\n",
      "   1.   1. 238. 255. 255. 254.   0.   1.   0.   1.   0.   0.   0.   0.\n",
      "   1.   0.   3.   0.   0.   0. 252. 255. 254. 255. 156.   2.   0.   0.\n",
      "   4.   0. 253. 253. 255. 255.   2.   0.   0.   0.   0.   0.   0.   0.\n",
      "   0.   2.   0.   2.   0.   3. 255. 253. 255. 251. 255. 253.   0.   2.\n",
      " 198. 255. 255. 252. 254. 255.   0.   2.   4.   0.   0.   0.   0.   0.\n",
      "   2.   0.   2.   3.   0.   0.   0. 255. 255. 255. 252. 251. 255. 254.\n",
      " 255. 255. 252. 253. 255.   3.   0.   0.   0.   0.   0.   0.   0.   0.\n",
      "   0.   1.   0.   0.   2.   1.   0.   0. 253. 255. 255. 255. 255. 254.\n",
      " 255. 254. 255. 255.   0.   0.   0.   0.   1.   0.   0.   0.   0.   0.\n",
      "   0.   0.   0.   0.   0.   0.   0.   0.   0.   0. 255. 255. 254. 255.\n",
      " 255. 255.   7.   3.   0.   0.   1.   1.   0.   0.   0.   0.   0.   0.\n",
      "   0.   0.   0.   0.   0.   0.   0.   0.   0.   1.   0.   0.   4.   0.\n",
      "   0.   1.   3.   0.   0.   0.   1.   0.   0.   1.   0.   0.   0.   0.\n",
      "   0.   0.   0.   0.   0.   0.   0.   0.   0.   0.   2.   1.   0.   1.\n",
      "   0.   2.   0.   0.   0.   1.   0.   0.   0.   1.   0.   0.   0.   0.\n",
      "   0.   0.   0.   0.   0.   0.   0.   0.   0.   2.   0.   0.   0.   0.\n",
      "   1.   0.   0.   0.   0.   1.   1.   0.   0.   1.   0.   0.   0.   0.]\n",
      "8\n"
     ]
    }
   ],
   "source": [
    "print(X_train.shape)\n",
    "print(X_test.shape)\n",
    "print(y_train.shape)\n",
    "print(y_test.shape)\n",
    "print(X_train[0])\n",
    "print(y_train[0])"
   ]
  },
  {
   "cell_type": "code",
   "execution_count": 38,
   "id": "8e8dd6f9",
   "metadata": {},
   "outputs": [
    {
     "name": "stdout",
     "output_type": "stream",
     "text": [
      "Epoch 1/5\n"
     ]
    },
    {
     "ename": "UnimplementedError",
     "evalue": " Cast string to float is not supported\n\t [[node mean_squared_error/Cast\n (defined at /Users/liner1/opt/anaconda3/lib/python3.8/site-packages/keras/losses.py:1203)\n]] [Op:__inference_train_function_2019]\n\nErrors may have originated from an input operation.\nInput Source operations connected to node mean_squared_error/Cast:\nIn[0] ExpandDims (defined at /Users/liner1/opt/anaconda3/lib/python3.8/site-packages/keras/engine/compile_utils.py:677)\n\nOperation defined at: (most recent call last)\n>>>   File \"/Users/liner1/opt/anaconda3/lib/python3.8/runpy.py\", line 194, in _run_module_as_main\n>>>     return _run_code(code, main_globals, None,\n>>> \n>>>   File \"/Users/liner1/opt/anaconda3/lib/python3.8/runpy.py\", line 87, in _run_code\n>>>     exec(code, run_globals)\n>>> \n>>>   File \"/Users/liner1/opt/anaconda3/lib/python3.8/site-packages/ipykernel_launcher.py\", line 16, in <module>\n>>>     app.launch_new_instance()\n>>> \n>>>   File \"/Users/liner1/opt/anaconda3/lib/python3.8/site-packages/traitlets/config/application.py\", line 845, in launch_instance\n>>>     app.start()\n>>> \n>>>   File \"/Users/liner1/opt/anaconda3/lib/python3.8/site-packages/ipykernel/kernelapp.py\", line 612, in start\n>>>     self.io_loop.start()\n>>> \n>>>   File \"/Users/liner1/opt/anaconda3/lib/python3.8/site-packages/tornado/platform/asyncio.py\", line 199, in start\n>>>     self.asyncio_loop.run_forever()\n>>> \n>>>   File \"/Users/liner1/opt/anaconda3/lib/python3.8/asyncio/base_events.py\", line 570, in run_forever\n>>>     self._run_once()\n>>> \n>>>   File \"/Users/liner1/opt/anaconda3/lib/python3.8/asyncio/base_events.py\", line 1859, in _run_once\n>>>     handle._run()\n>>> \n>>>   File \"/Users/liner1/opt/anaconda3/lib/python3.8/asyncio/events.py\", line 81, in _run\n>>>     self._context.run(self._callback, *self._args)\n>>> \n>>>   File \"/Users/liner1/opt/anaconda3/lib/python3.8/site-packages/tornado/ioloop.py\", line 688, in <lambda>\n>>>     lambda f: self._run_callback(functools.partial(callback, future))\n>>> \n>>>   File \"/Users/liner1/opt/anaconda3/lib/python3.8/site-packages/tornado/ioloop.py\", line 741, in _run_callback\n>>>     ret = callback()\n>>> \n>>>   File \"/Users/liner1/opt/anaconda3/lib/python3.8/site-packages/tornado/gen.py\", line 814, in inner\n>>>     self.ctx_run(self.run)\n>>> \n>>>   File \"/Users/liner1/opt/anaconda3/lib/python3.8/site-packages/tornado/gen.py\", line 775, in run\n>>>     yielded = self.gen.send(value)\n>>> \n>>>   File \"/Users/liner1/opt/anaconda3/lib/python3.8/site-packages/ipykernel/kernelbase.py\", line 365, in process_one\n>>>     yield gen.maybe_future(dispatch(*args))\n>>> \n>>>   File \"/Users/liner1/opt/anaconda3/lib/python3.8/site-packages/tornado/gen.py\", line 234, in wrapper\n>>>     yielded = ctx_run(next, result)\n>>> \n>>>   File \"/Users/liner1/opt/anaconda3/lib/python3.8/site-packages/ipykernel/kernelbase.py\", line 268, in dispatch_shell\n>>>     yield gen.maybe_future(handler(stream, idents, msg))\n>>> \n>>>   File \"/Users/liner1/opt/anaconda3/lib/python3.8/site-packages/tornado/gen.py\", line 234, in wrapper\n>>>     yielded = ctx_run(next, result)\n>>> \n>>>   File \"/Users/liner1/opt/anaconda3/lib/python3.8/site-packages/ipykernel/kernelbase.py\", line 543, in execute_request\n>>>     self.do_execute(\n>>> \n>>>   File \"/Users/liner1/opt/anaconda3/lib/python3.8/site-packages/tornado/gen.py\", line 234, in wrapper\n>>>     yielded = ctx_run(next, result)\n>>> \n>>>   File \"/Users/liner1/opt/anaconda3/lib/python3.8/site-packages/ipykernel/ipkernel.py\", line 306, in do_execute\n>>>     res = shell.run_cell(code, store_history=store_history, silent=silent)\n>>> \n>>>   File \"/Users/liner1/opt/anaconda3/lib/python3.8/site-packages/ipykernel/zmqshell.py\", line 536, in run_cell\n>>>     return super(ZMQInteractiveShell, self).run_cell(*args, **kwargs)\n>>> \n>>>   File \"/Users/liner1/opt/anaconda3/lib/python3.8/site-packages/IPython/core/interactiveshell.py\", line 2894, in run_cell\n>>>     result = self._run_cell(\n>>> \n>>>   File \"/Users/liner1/opt/anaconda3/lib/python3.8/site-packages/IPython/core/interactiveshell.py\", line 2940, in _run_cell\n>>>     return runner(coro)\n>>> \n>>>   File \"/Users/liner1/opt/anaconda3/lib/python3.8/site-packages/IPython/core/async_helpers.py\", line 68, in _pseudo_sync_runner\n>>>     coro.send(None)\n>>> \n>>>   File \"/Users/liner1/opt/anaconda3/lib/python3.8/site-packages/IPython/core/interactiveshell.py\", line 3165, in run_cell_async\n>>>     has_raised = await self.run_ast_nodes(code_ast.body, cell_name,\n>>> \n>>>   File \"/Users/liner1/opt/anaconda3/lib/python3.8/site-packages/IPython/core/interactiveshell.py\", line 3357, in run_ast_nodes\n>>>     if (await self.run_code(code, result,  async_=asy)):\n>>> \n>>>   File \"/Users/liner1/opt/anaconda3/lib/python3.8/site-packages/IPython/core/interactiveshell.py\", line 3437, in run_code\n>>>     exec(code_obj, self.user_global_ns, self.user_ns)\n>>> \n>>>   File \"<ipython-input-38-bb44c02261fd>\", line 8, in <module>\n>>>     model.fit(X_train, y_train, epochs =5) #epochs pretty much num_iters\n>>> \n>>>   File \"/Users/liner1/opt/anaconda3/lib/python3.8/site-packages/keras/utils/traceback_utils.py\", line 64, in error_handler\n>>>     return fn(*args, **kwargs)\n>>> \n>>>   File \"/Users/liner1/opt/anaconda3/lib/python3.8/site-packages/keras/engine/training.py\", line 1216, in fit\n>>>     tmp_logs = self.train_function(iterator)\n>>> \n>>>   File \"/Users/liner1/opt/anaconda3/lib/python3.8/site-packages/keras/engine/training.py\", line 878, in train_function\n>>>     return step_function(self, iterator)\n>>> \n>>>   File \"/Users/liner1/opt/anaconda3/lib/python3.8/site-packages/keras/engine/training.py\", line 867, in step_function\n>>>     outputs = model.distribute_strategy.run(run_step, args=(data,))\n>>> \n>>>   File \"/Users/liner1/opt/anaconda3/lib/python3.8/site-packages/keras/engine/training.py\", line 860, in run_step\n>>>     outputs = model.train_step(data)\n>>> \n>>>   File \"/Users/liner1/opt/anaconda3/lib/python3.8/site-packages/keras/engine/training.py\", line 809, in train_step\n>>>     loss = self.compiled_loss(\n>>> \n>>>   File \"/Users/liner1/opt/anaconda3/lib/python3.8/site-packages/keras/engine/compile_utils.py\", line 201, in __call__\n>>>     loss_value = loss_obj(y_t, y_p, sample_weight=sw)\n>>> \n>>>   File \"/Users/liner1/opt/anaconda3/lib/python3.8/site-packages/keras/losses.py\", line 141, in __call__\n>>>     losses = call_fn(y_true, y_pred)\n>>> \n>>>   File \"/Users/liner1/opt/anaconda3/lib/python3.8/site-packages/keras/losses.py\", line 245, in call\n>>>     return ag_fn(y_true, y_pred, **self._fn_kwargs)\n>>> \n>>>   File \"/Users/liner1/opt/anaconda3/lib/python3.8/site-packages/keras/losses.py\", line 1203, in mean_squared_error\n>>>     y_true = tf.cast(y_true, y_pred.dtype)\n>>> ",
     "output_type": "error",
     "traceback": [
      "\u001b[0;31m---------------------------------------------------------------------------\u001b[0m",
      "\u001b[0;31mUnimplementedError\u001b[0m                        Traceback (most recent call last)",
      "\u001b[0;32m<ipython-input-38-bb44c02261fd>\u001b[0m in \u001b[0;36m<module>\u001b[0;34m\u001b[0m\n\u001b[1;32m      6\u001b[0m ) #optimizers allow you to train efficiently, loss  can also use mean squared error\n\u001b[1;32m      7\u001b[0m \u001b[0;34m\u001b[0m\u001b[0m\n\u001b[0;32m----> 8\u001b[0;31m \u001b[0mmodel\u001b[0m\u001b[0;34m.\u001b[0m\u001b[0mfit\u001b[0m\u001b[0;34m(\u001b[0m\u001b[0mX_train\u001b[0m\u001b[0;34m,\u001b[0m \u001b[0my_train\u001b[0m\u001b[0;34m,\u001b[0m \u001b[0mepochs\u001b[0m \u001b[0;34m=\u001b[0m\u001b[0;36m5\u001b[0m\u001b[0;34m)\u001b[0m \u001b[0;31m#epochs pretty much num_iters\u001b[0m\u001b[0;34m\u001b[0m\u001b[0;34m\u001b[0m\u001b[0m\n\u001b[0m",
      "\u001b[0;32m~/opt/anaconda3/lib/python3.8/site-packages/keras/utils/traceback_utils.py\u001b[0m in \u001b[0;36merror_handler\u001b[0;34m(*args, **kwargs)\u001b[0m\n\u001b[1;32m     65\u001b[0m     \u001b[0;32mexcept\u001b[0m \u001b[0mException\u001b[0m \u001b[0;32mas\u001b[0m \u001b[0me\u001b[0m\u001b[0;34m:\u001b[0m  \u001b[0;31m# pylint: disable=broad-except\u001b[0m\u001b[0;34m\u001b[0m\u001b[0;34m\u001b[0m\u001b[0m\n\u001b[1;32m     66\u001b[0m       \u001b[0mfiltered_tb\u001b[0m \u001b[0;34m=\u001b[0m \u001b[0m_process_traceback_frames\u001b[0m\u001b[0;34m(\u001b[0m\u001b[0me\u001b[0m\u001b[0;34m.\u001b[0m\u001b[0m__traceback__\u001b[0m\u001b[0;34m)\u001b[0m\u001b[0;34m\u001b[0m\u001b[0;34m\u001b[0m\u001b[0m\n\u001b[0;32m---> 67\u001b[0;31m       \u001b[0;32mraise\u001b[0m \u001b[0me\u001b[0m\u001b[0;34m.\u001b[0m\u001b[0mwith_traceback\u001b[0m\u001b[0;34m(\u001b[0m\u001b[0mfiltered_tb\u001b[0m\u001b[0;34m)\u001b[0m \u001b[0;32mfrom\u001b[0m \u001b[0;32mNone\u001b[0m\u001b[0;34m\u001b[0m\u001b[0;34m\u001b[0m\u001b[0m\n\u001b[0m\u001b[1;32m     68\u001b[0m     \u001b[0;32mfinally\u001b[0m\u001b[0;34m:\u001b[0m\u001b[0;34m\u001b[0m\u001b[0;34m\u001b[0m\u001b[0m\n\u001b[1;32m     69\u001b[0m       \u001b[0;32mdel\u001b[0m \u001b[0mfiltered_tb\u001b[0m\u001b[0;34m\u001b[0m\u001b[0;34m\u001b[0m\u001b[0m\n",
      "\u001b[0;32m~/opt/anaconda3/lib/python3.8/site-packages/tensorflow/python/eager/execute.py\u001b[0m in \u001b[0;36mquick_execute\u001b[0;34m(op_name, num_outputs, inputs, attrs, ctx, name)\u001b[0m\n\u001b[1;32m     56\u001b[0m   \u001b[0;32mtry\u001b[0m\u001b[0;34m:\u001b[0m\u001b[0;34m\u001b[0m\u001b[0;34m\u001b[0m\u001b[0m\n\u001b[1;32m     57\u001b[0m     \u001b[0mctx\u001b[0m\u001b[0;34m.\u001b[0m\u001b[0mensure_initialized\u001b[0m\u001b[0;34m(\u001b[0m\u001b[0;34m)\u001b[0m\u001b[0;34m\u001b[0m\u001b[0;34m\u001b[0m\u001b[0m\n\u001b[0;32m---> 58\u001b[0;31m     tensors = pywrap_tfe.TFE_Py_Execute(ctx._handle, device_name, op_name,\n\u001b[0m\u001b[1;32m     59\u001b[0m                                         inputs, attrs, num_outputs)\n\u001b[1;32m     60\u001b[0m   \u001b[0;32mexcept\u001b[0m \u001b[0mcore\u001b[0m\u001b[0;34m.\u001b[0m\u001b[0m_NotOkStatusException\u001b[0m \u001b[0;32mas\u001b[0m \u001b[0me\u001b[0m\u001b[0;34m:\u001b[0m\u001b[0;34m\u001b[0m\u001b[0;34m\u001b[0m\u001b[0m\n",
      "\u001b[0;31mUnimplementedError\u001b[0m:  Cast string to float is not supported\n\t [[node mean_squared_error/Cast\n (defined at /Users/liner1/opt/anaconda3/lib/python3.8/site-packages/keras/losses.py:1203)\n]] [Op:__inference_train_function_2019]\n\nErrors may have originated from an input operation.\nInput Source operations connected to node mean_squared_error/Cast:\nIn[0] ExpandDims (defined at /Users/liner1/opt/anaconda3/lib/python3.8/site-packages/keras/engine/compile_utils.py:677)\n\nOperation defined at: (most recent call last)\n>>>   File \"/Users/liner1/opt/anaconda3/lib/python3.8/runpy.py\", line 194, in _run_module_as_main\n>>>     return _run_code(code, main_globals, None,\n>>> \n>>>   File \"/Users/liner1/opt/anaconda3/lib/python3.8/runpy.py\", line 87, in _run_code\n>>>     exec(code, run_globals)\n>>> \n>>>   File \"/Users/liner1/opt/anaconda3/lib/python3.8/site-packages/ipykernel_launcher.py\", line 16, in <module>\n>>>     app.launch_new_instance()\n>>> \n>>>   File \"/Users/liner1/opt/anaconda3/lib/python3.8/site-packages/traitlets/config/application.py\", line 845, in launch_instance\n>>>     app.start()\n>>> \n>>>   File \"/Users/liner1/opt/anaconda3/lib/python3.8/site-packages/ipykernel/kernelapp.py\", line 612, in start\n>>>     self.io_loop.start()\n>>> \n>>>   File \"/Users/liner1/opt/anaconda3/lib/python3.8/site-packages/tornado/platform/asyncio.py\", line 199, in start\n>>>     self.asyncio_loop.run_forever()\n>>> \n>>>   File \"/Users/liner1/opt/anaconda3/lib/python3.8/asyncio/base_events.py\", line 570, in run_forever\n>>>     self._run_once()\n>>> \n>>>   File \"/Users/liner1/opt/anaconda3/lib/python3.8/asyncio/base_events.py\", line 1859, in _run_once\n>>>     handle._run()\n>>> \n>>>   File \"/Users/liner1/opt/anaconda3/lib/python3.8/asyncio/events.py\", line 81, in _run\n>>>     self._context.run(self._callback, *self._args)\n>>> \n>>>   File \"/Users/liner1/opt/anaconda3/lib/python3.8/site-packages/tornado/ioloop.py\", line 688, in <lambda>\n>>>     lambda f: self._run_callback(functools.partial(callback, future))\n>>> \n>>>   File \"/Users/liner1/opt/anaconda3/lib/python3.8/site-packages/tornado/ioloop.py\", line 741, in _run_callback\n>>>     ret = callback()\n>>> \n>>>   File \"/Users/liner1/opt/anaconda3/lib/python3.8/site-packages/tornado/gen.py\", line 814, in inner\n>>>     self.ctx_run(self.run)\n>>> \n>>>   File \"/Users/liner1/opt/anaconda3/lib/python3.8/site-packages/tornado/gen.py\", line 775, in run\n>>>     yielded = self.gen.send(value)\n>>> \n>>>   File \"/Users/liner1/opt/anaconda3/lib/python3.8/site-packages/ipykernel/kernelbase.py\", line 365, in process_one\n>>>     yield gen.maybe_future(dispatch(*args))\n>>> \n>>>   File \"/Users/liner1/opt/anaconda3/lib/python3.8/site-packages/tornado/gen.py\", line 234, in wrapper\n>>>     yielded = ctx_run(next, result)\n>>> \n>>>   File \"/Users/liner1/opt/anaconda3/lib/python3.8/site-packages/ipykernel/kernelbase.py\", line 268, in dispatch_shell\n>>>     yield gen.maybe_future(handler(stream, idents, msg))\n>>> \n>>>   File \"/Users/liner1/opt/anaconda3/lib/python3.8/site-packages/tornado/gen.py\", line 234, in wrapper\n>>>     yielded = ctx_run(next, result)\n>>> \n>>>   File \"/Users/liner1/opt/anaconda3/lib/python3.8/site-packages/ipykernel/kernelbase.py\", line 543, in execute_request\n>>>     self.do_execute(\n>>> \n>>>   File \"/Users/liner1/opt/anaconda3/lib/python3.8/site-packages/tornado/gen.py\", line 234, in wrapper\n>>>     yielded = ctx_run(next, result)\n>>> \n>>>   File \"/Users/liner1/opt/anaconda3/lib/python3.8/site-packages/ipykernel/ipkernel.py\", line 306, in do_execute\n>>>     res = shell.run_cell(code, store_history=store_history, silent=silent)\n>>> \n>>>   File \"/Users/liner1/opt/anaconda3/lib/python3.8/site-packages/ipykernel/zmqshell.py\", line 536, in run_cell\n>>>     return super(ZMQInteractiveShell, self).run_cell(*args, **kwargs)\n>>> \n>>>   File \"/Users/liner1/opt/anaconda3/lib/python3.8/site-packages/IPython/core/interactiveshell.py\", line 2894, in run_cell\n>>>     result = self._run_cell(\n>>> \n>>>   File \"/Users/liner1/opt/anaconda3/lib/python3.8/site-packages/IPython/core/interactiveshell.py\", line 2940, in _run_cell\n>>>     return runner(coro)\n>>> \n>>>   File \"/Users/liner1/opt/anaconda3/lib/python3.8/site-packages/IPython/core/async_helpers.py\", line 68, in _pseudo_sync_runner\n>>>     coro.send(None)\n>>> \n>>>   File \"/Users/liner1/opt/anaconda3/lib/python3.8/site-packages/IPython/core/interactiveshell.py\", line 3165, in run_cell_async\n>>>     has_raised = await self.run_ast_nodes(code_ast.body, cell_name,\n>>> \n>>>   File \"/Users/liner1/opt/anaconda3/lib/python3.8/site-packages/IPython/core/interactiveshell.py\", line 3357, in run_ast_nodes\n>>>     if (await self.run_code(code, result,  async_=asy)):\n>>> \n>>>   File \"/Users/liner1/opt/anaconda3/lib/python3.8/site-packages/IPython/core/interactiveshell.py\", line 3437, in run_code\n>>>     exec(code_obj, self.user_global_ns, self.user_ns)\n>>> \n>>>   File \"<ipython-input-38-bb44c02261fd>\", line 8, in <module>\n>>>     model.fit(X_train, y_train, epochs =5) #epochs pretty much num_iters\n>>> \n>>>   File \"/Users/liner1/opt/anaconda3/lib/python3.8/site-packages/keras/utils/traceback_utils.py\", line 64, in error_handler\n>>>     return fn(*args, **kwargs)\n>>> \n>>>   File \"/Users/liner1/opt/anaconda3/lib/python3.8/site-packages/keras/engine/training.py\", line 1216, in fit\n>>>     tmp_logs = self.train_function(iterator)\n>>> \n>>>   File \"/Users/liner1/opt/anaconda3/lib/python3.8/site-packages/keras/engine/training.py\", line 878, in train_function\n>>>     return step_function(self, iterator)\n>>> \n>>>   File \"/Users/liner1/opt/anaconda3/lib/python3.8/site-packages/keras/engine/training.py\", line 867, in step_function\n>>>     outputs = model.distribute_strategy.run(run_step, args=(data,))\n>>> \n>>>   File \"/Users/liner1/opt/anaconda3/lib/python3.8/site-packages/keras/engine/training.py\", line 860, in run_step\n>>>     outputs = model.train_step(data)\n>>> \n>>>   File \"/Users/liner1/opt/anaconda3/lib/python3.8/site-packages/keras/engine/training.py\", line 809, in train_step\n>>>     loss = self.compiled_loss(\n>>> \n>>>   File \"/Users/liner1/opt/anaconda3/lib/python3.8/site-packages/keras/engine/compile_utils.py\", line 201, in __call__\n>>>     loss_value = loss_obj(y_t, y_p, sample_weight=sw)\n>>> \n>>>   File \"/Users/liner1/opt/anaconda3/lib/python3.8/site-packages/keras/losses.py\", line 141, in __call__\n>>>     losses = call_fn(y_true, y_pred)\n>>> \n>>>   File \"/Users/liner1/opt/anaconda3/lib/python3.8/site-packages/keras/losses.py\", line 245, in call\n>>>     return ag_fn(y_true, y_pred, **self._fn_kwargs)\n>>> \n>>>   File \"/Users/liner1/opt/anaconda3/lib/python3.8/site-packages/keras/losses.py\", line 1203, in mean_squared_error\n>>>     y_true = tf.cast(y_true, y_pred.dtype)\n>>> "
     ]
    }
   ],
   "source": [
    "model = keras.Sequential([\n",
    "    keras.layers.Dense(36, input_shape=(784,),activation ='sigmoid') \n",
    "]) #stack layers in neural network \n",
    "model.compile(optimizer = 'adam', loss = 'mean_squared_error', \n",
    "              metrics = ['accuracy']\n",
    ") #optimizers allow you to train efficiently, loss  can also use mean squared error\n",
    "\n",
    "model.fit(X_train, y_train, epochs =5) #epochs pretty much num_iters"
   ]
  },
  {
   "cell_type": "code",
   "execution_count": null,
   "id": "7d8c234e",
   "metadata": {},
   "outputs": [],
   "source": []
  },
  {
   "cell_type": "code",
   "execution_count": null,
   "id": "f0d3d59d",
   "metadata": {},
   "outputs": [],
   "source": []
  }
 ],
 "metadata": {
  "kernelspec": {
   "display_name": "Python 3 (ipykernel)",
   "language": "python",
   "name": "python3"
  },
  "language_info": {
   "codemirror_mode": {
    "name": "ipython",
    "version": 3
   },
   "file_extension": ".py",
   "mimetype": "text/x-python",
   "name": "python",
   "nbconvert_exporter": "python",
   "pygments_lexer": "ipython3",
   "version": "3.9.4"
  }
 },
 "nbformat": 4,
 "nbformat_minor": 5
}
