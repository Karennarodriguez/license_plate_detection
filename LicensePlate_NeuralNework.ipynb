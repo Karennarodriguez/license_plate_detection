{
 "cells": [
  {
   "cell_type": "code",
   "execution_count": 1,
   "id": "2af88a99",
   "metadata": {},
   "outputs": [],
   "source": [
    "from sklearn.datasets import load_digits # The MNIST data set is in scikit learn data set\n",
    "from sklearn.preprocessing import StandardScaler  # It is important in neural networks to scale the date\n",
    "from sklearn.model_selection import train_test_split  # The standard - train/test to prevent overfitting and choose hyperparameters\n",
    "from sklearn.metrics import accuracy_score # \n",
    "import numpy as np\n",
    "import numpy.random as r # We will randomly initialize our weights\n",
    "import matplotlib.pyplot as plt \n",
    "from sklearn import metrics"
   ]
  },
  {
   "cell_type": "code",
   "execution_count": null,
   "id": "5bbe2011",
   "metadata": {},
   "outputs": [],
   "source": []
  },
  {
   "cell_type": "code",
   "execution_count": 2,
   "id": "3ca2a282",
   "metadata": {},
   "outputs": [
    {
     "name": "stdout",
     "output_type": "stream",
     "text": [
      "The shape of the digits dataset:\n",
      "(1797, 64)\n"
     ]
    },
    {
     "data": {
      "text/plain": [
       "<Figure size 432x288 with 0 Axes>"
      ]
     },
     "metadata": {},
     "output_type": "display_data"
    },
    {
     "data": {
      "image/png": "[encoded data removed]",
      "text/plain": [
       "<Figure size 288x288 with 1 Axes>"
      ]
     },
     "metadata": {
      "needs_background": "light"
     },
     "output_type": "display_data"
    },
    {
     "name": "stdout",
     "output_type": "stream",
     "text": [
      "[0]\n",
      "[ 0.  0.  5. 13.  9.  1.  0.  0.  0.  0. 13. 15. 10. 15.  5.  0.  0.  3.\n",
      " 15.  2.  0. 11.  8.  0.  0.  4. 12.  0.  0.  8.  8.  0.  0.  5.  8.  0.\n",
      "  0.  9.  8.  0.  0.  4. 11.  0.  1. 12.  7.  0.  0.  2. 14.  5. 10. 12.\n",
      "  0.  0.  0.  0.  6. 13. 10.  0.  0.  0.]\n"
     ]
    }
   ],
   "source": [
    "digits=load_digits()\n",
    "X = digits.data\n",
    "print(\"The shape of the digits dataset:\") \n",
    "print(digits.data.shape)\n",
    "plt.gray()\n",
    "plt.matshow(digits.images[12])\n",
    "plt.show()\n",
    "y = digits.target\n",
    "print(y[0:1])\n",
    "print(X[0,:])"
   ]
  },
  {
   "cell_type": "code",
   "execution_count": 3,
   "id": "7d8c234e",
   "metadata": {},
   "outputs": [
    {
     "data": {
      "text/plain": [
       "(1797, 64)"
      ]
     },
     "execution_count": 3,
     "metadata": {},
     "output_type": "execute_result"
    }
   ],
   "source": [
    "X_scale = StandardScaler()\n",
    "X = X_scale.fit_transform(digits.data)\n",
    "\n",
    "X[0,:] # Looking the new features after scaling\n",
    "X.shape "
   ]
  },
  {
   "cell_type": "code",
   "execution_count": 4,
   "id": "f0d3d59d",
   "metadata": {},
   "outputs": [
    {
     "name": "stdout",
     "output_type": "stream",
     "text": [
      "(1078, 64)\n",
      "(719, 64)\n",
      "(1078,)\n",
      "(719,)\n"
     ]
    }
   ],
   "source": [
    "#Split the data into training and test set.  60% training and %40 test\n",
    "X_train, X_, y_train, y_ = train_test_split(X, y, test_size=0.4)\n",
    "print(X_train.shape)\n",
    "print(X_.shape)\n",
    "print(y_train.shape)\n",
    "print(y_.shape)"
   ]
  },
  {
   "cell_type": "code",
   "execution_count": 5,
   "id": "07ddf533",
   "metadata": {},
   "outputs": [],
   "source": [
    "def convert_y_to_vect(y):\n",
    "    y_vect = np.zeros((len(y), 10))\n",
    "    for i in range(len(y)):\n",
    "        y_vect[i, y[i]] = 1\n",
    "    return y_vect"
   ]
  },
  {
   "cell_type": "code",
   "execution_count": 6,
   "id": "9fdf6057",
   "metadata": {},
   "outputs": [],
   "source": [
    "# convert digits to vectors\n",
    "y_v_train = convert_y_to_vect(y_train)\n",
    "y_v_test = convert_y_to_vect(y_)"
   ]
  },
  {
   "cell_type": "code",
   "execution_count": 7,
   "id": "3c0a3eb3",
   "metadata": {},
   "outputs": [
    {
     "name": "stdout",
     "output_type": "stream",
     "text": [
      "[4 3 3 1]\n",
      "[[0. 0. 0. 0. 1. 0. 0. 0. 0. 0.]\n",
      " [0. 0. 0. 1. 0. 0. 0. 0. 0. 0.]\n",
      " [0. 0. 0. 1. 0. 0. 0. 0. 0. 0.]\n",
      " [0. 1. 0. 0. 0. 0. 0. 0. 0. 0.]]\n"
     ]
    }
   ],
   "source": [
    "print(y_train[0:4])\n",
    "print(y_v_train[0:4])"
   ]
  },
  {
   "cell_type": "markdown",
   "id": "75995540",
   "metadata": {},
   "source": [
    "# Reading in One License Plate"
   ]
  },
  {
   "cell_type": "code",
   "execution_count": 8,
   "id": "9e283760",
   "metadata": {},
   "outputs": [
    {
     "name": "stdout",
     "output_type": "stream",
     "text": [
      "['test_lps/4779/9.jpg', 'test_lps/4779/7_1.jpg', 'test_lps/4779/4.jpg', 'test_lps/4779/7.jpg']\n"
     ]
    }
   ],
   "source": [
    "import glob\n",
    "license_plate = glob.glob(\"test_lps/4779/*.jpg\")\n",
    "#license_plate = glob.glob(\"test_lps/H2891/*.jpg\")\n",
    "print(license_plate)"
   ]
  },
  {
   "cell_type": "code",
   "execution_count": 9,
   "id": "f1f1459d",
   "metadata": {},
   "outputs": [
    {
     "name": "stdout",
     "output_type": "stream",
     "text": [
      "9\n",
      "7\n",
      "4\n",
      "7\n"
     ]
    },
    {
     "data": {
      "image/png": "[encoded data removed]",
      "text/plain": [
       "<Figure size 432x288 with 1 Axes>"
      ]
     },
     "metadata": {
      "needs_background": "light"
     },
     "output_type": "display_data"
    }
   ],
   "source": [
    "from keras.preprocessing.image import load_img\n",
    "for i in range(len(license_plate)):\n",
    "    label = license_plate[i].split(\"/\")[2][0]\n",
    "    if not label.isalpha():\n",
    "        #fig.add_subplot(grid[i])\n",
    "        image = load_img(license_plate[i])\n",
    "        #image = cv2.imread(license_plate[i])\n",
    "\n",
    "        \n",
    "        print(label)\n",
    "        plt.title('\"{:s}\"'.format(label))\n",
    "        plt.axis(False)\n",
    "        plt.imshow(image)"
   ]
  },
  {
   "cell_type": "code",
   "execution_count": 27,
   "id": "1bd04a84",
   "metadata": {},
   "outputs": [
    {
     "name": "stdout",
     "output_type": "stream",
     "text": [
      "test_lps/4779/9.jpg\n",
      "test_lps/4779/7_1.jpg\n",
      "test_lps/4779/4.jpg\n",
      "test_lps/4779/7.jpg\n",
      "(8, 8)\n",
      "64\n",
      "[[[  0.   0.   0.   0.   0.   0.   0.   0.]\n",
      "  [  0.   1. 255. 255. 255. 254.   0.   0.]\n",
      "  [  0. 255. 255.   0.   0. 255.   0.   0.]\n",
      "  [  0.   0. 255.   2. 248. 255.   0.   0.]\n",
      "  [  0.   0.   0. 252. 254. 255.   0.   0.]\n",
      "  [  0.   0.   0.   3. 255. 255.   0.   0.]\n",
      "  [  0. 255. 255. 255.   2.   0.   0.   0.]\n",
      "  [  0.   0.   0.   0.   0.   0.   0.   0.]]\n",
      "\n",
      " [[  0.   0.   0.   0.   0.   0.   0.   0.]\n",
      "  [  0. 255. 255. 255. 255. 255.   0.   0.]\n",
      "  [  0.   0.   0.   0. 255. 255.   0.   0.]\n",
      "  [  0.   0.   0.   1. 255.   0.   0.   0.]\n",
      "  [  0.   0.   0. 254. 255.   0.   0.   0.]\n",
      "  [  0.   0.   0. 255. 255.   0.   0.   0.]\n",
      "  [  0.   0.   0. 255. 255.   0.   0.   0.]\n",
      "  [  0.   0.   0.   0.   0.   0.   0.   0.]]\n",
      "\n",
      " [[  0.   0.   0.   0.   0.   0.   0.   0.]\n",
      "  [  0.   0.   0. 253. 255. 255.   0.   0.]\n",
      "  [  0.   0.   1. 255. 255. 252.   0.   0.]\n",
      "  [  0.   0. 255. 255. 254. 255.   0.   0.]\n",
      "  [  0.   1. 255.   2. 254. 255.   0.   0.]\n",
      "  [  0. 255. 255. 255. 255. 255.   0.   0.]\n",
      "  [  0.   0.   0.   0. 254. 255.   0.   0.]\n",
      "  [  0.   0.   0.   0.   0.   0.   0.   0.]]\n",
      "\n",
      " [[  0.   0.   0.   0.   0.   0.   0.   0.]\n",
      "  [  0. 178. 255. 255. 253. 255.   0.   0.]\n",
      "  [  0.   0.   0.   0. 255. 255.   0.   0.]\n",
      "  [  0.   0.   0. 255. 255.   0.   0.   0.]\n",
      "  [  0.   0.   0. 255. 255.   0.   0.   0.]\n",
      "  [  0.   0.   0. 255. 255.   0.   0.   0.]\n",
      "  [  0.   0.   0. 255. 255.   0.   0.   0.]\n",
      "  [  0.   0.   0.   0.   0.   0.   0.   0.]]]\n"
     ]
    },
    {
     "data": {
      "image/png": "[encoded data removed]",
      "text/plain": [
       "<Figure size 432x288 with 1 Axes>"
      ]
     },
     "metadata": {
      "needs_background": "light"
     },
     "output_type": "display_data"
    }
   ],
   "source": [
    "import cv2\n",
    "X=[]\n",
    "labels =[]\n",
    "\n",
    "for image_path in license_plate:\n",
    "    print(image_path)\n",
    "    label = image_path.split(\"/\")[2][0]\n",
    "    if not label.isalpha():\n",
    "        image = cv2.imread(image_path, 0) #0 = grayscale\n",
    "\n",
    "        PADDING = [0,0,0]\n",
    "        PAD = 30\n",
    "        image= cv2.copyMakeBorder(image,PAD,PAD+10,PAD,PAD+10,cv2.BORDER_CONSTANT,value=PADDING)         \n",
    "        image = cv2.resize(image, (8, 8))\n",
    "        plt.imshow(image)\n",
    "        #print(image)\n",
    "        X.append(image)\n",
    "        labels.append(label)\n",
    "\n",
    "    \n",
    "print(image.shape)\n",
    "print(image.size)\n",
    " \n",
    "X_test = np.array(X, dtype = \"float\")\n",
    "print(X_test)"
   ]
  },
  {
   "cell_type": "code",
   "execution_count": 28,
   "id": "84464b02",
   "metadata": {},
   "outputs": [
    {
     "name": "stdout",
     "output_type": "stream",
     "text": [
      "['9', '7', '4', '7']\n",
      "[9 7 4 7]\n",
      "(4, 64)\n",
      "(719, 10)\n"
     ]
    }
   ],
   "source": [
    "print(labels)\n",
    "y_test = np.array([int(i) for i in labels])\n",
    "print(y_test)\n",
    "# convert digits to vectors\n",
    "y_v_test = convert_y_to_vect(y_)\n",
    "X_test = X_test.reshape(X_test.shape[0], 64)\n",
    "print(X_test.shape)\n",
    "print(y_v_test.shape)"
   ]
  },
  {
   "cell_type": "markdown",
   "id": "42a8e150",
   "metadata": {},
   "source": [
    "# Sigmoid and Derivative of Sigmoid"
   ]
  },
  {
   "cell_type": "code",
   "execution_count": 12,
   "id": "98a28e30",
   "metadata": {},
   "outputs": [],
   "source": [
    "def f(z):\n",
    "    return 1 / (1 + np.exp(-z))\n",
    "    #return np.maximum(0,z) #ReLU\n",
    "    #return (np.exp(z)-np.exp(-z))/(np.exp(z)+np.exp(-z)) #tanh\n",
    "\n",
    "\n",
    "def f_deriv(z):\n",
    "    return f(z) * (1 - f(z))\n",
    "    #return np.greater(z, 0).astype(int) #ReLU\n",
    "    #return 1-(np.square(f(z))) #tanh"
   ]
  },
  {
   "cell_type": "code",
   "execution_count": 13,
   "id": "cb180c8a",
   "metadata": {},
   "outputs": [],
   "source": [
    "def setup_and_init_weights(nn_structure):\n",
    "    W = {} #creating a dictionary i.e. a set of key: value pairs\n",
    "    b = {}\n",
    "    for l in range(1, len(nn_structure)):\n",
    "        W[l] = r.random_sample((nn_structure[l], nn_structure[l-1])) #Return “continuous uniform” random floats in the half-open interval [0.0, 1.0). \n",
    "        b[l] = r.random_sample((nn_structure[l],))\n",
    "    return W, b"
   ]
  },
  {
   "cell_type": "code",
   "execution_count": 14,
   "id": "29248229",
   "metadata": {},
   "outputs": [],
   "source": [
    "def init_tri_values(nn_structure):\n",
    "    tri_W = {}\n",
    "    tri_b = {}\n",
    "    for l in range(1, len(nn_structure)):\n",
    "        tri_W[l] = np.zeros((nn_structure[l], nn_structure[l-1]))\n",
    "        tri_b[l] = np.zeros((nn_structure[l],))\n",
    "    return tri_W, tri_b"
   ]
  },
  {
   "cell_type": "code",
   "execution_count": 15,
   "id": "5a050cde",
   "metadata": {},
   "outputs": [],
   "source": [
    "def feed_forward(x, W, b):\n",
    "    a = {1: x} # create a dictionary for holding the a values for all levels\n",
    "    z = { } # create a dictionary for holding the z values for all the layers\n",
    "    for l in range(1, len(W) + 1): # for each layer\n",
    "        node_in = a[l]\n",
    "        z[l+1] = W[l].dot(node_in) + b[l]  # z^(l+1) = W^(l)*a^(l) + b^(l)\n",
    "        a[l+1] = f(z[l+1]) # a^(l+1) = f(z^(l+1))\n",
    "    return a, z"
   ]
  },
  {
   "cell_type": "code",
   "execution_count": 16,
   "id": "ede008b0",
   "metadata": {},
   "outputs": [],
   "source": [
    "def calculate_out_layer_delta(y, a_out, z_out):\n",
    "    # delta^(nl) = -(y_i - a_i^(nl)) * f'(z_i^(nl))\n",
    "    return -(y-a_out) * f_deriv(z_out) \n",
    "\n",
    "\n",
    "def calculate_hidden_delta(delta_plus_1, w_l, z_l):\n",
    "    # delta^(l) = (transpose(W^(l)) * delta^(l+1)) * f'(z^(l))\n",
    "    return np.dot(np.transpose(w_l), delta_plus_1) * f_deriv(z_l)"
   ]
  },
  {
   "cell_type": "code",
   "execution_count": 17,
   "id": "2550878c",
   "metadata": {},
   "outputs": [],
   "source": [
    "def train_nn(nn_structure, X, y, iter_num=5000, alpha=0.25):\n",
    "    W, b = setup_and_init_weights(nn_structure)\n",
    "    cnt = 0\n",
    "    N = len(y)\n",
    "    avg_cost_func = []\n",
    "    print('Starting gradient descent for {} iterations'.format(iter_num))\n",
    "    while cnt < iter_num:\n",
    "        if cnt%1000 == 0:\n",
    "            print('Iteration {} of {}'.format(cnt, iter_num))\n",
    "        tri_W, tri_b = init_tri_values(nn_structure)\n",
    "        avg_cost = 0\n",
    "        for i in range(N):\n",
    "            delta = {}\n",
    "            # perform the feed forward pass and return the stored a and z values, to be used in the\n",
    "            # gradient descent step\n",
    "            a, z = feed_forward(X[i, :], W, b)\n",
    "            # loop from nl-1 to 1 backpropagating the errors\n",
    "            for l in range(len(nn_structure), 0, -1):\n",
    "                if l == len(nn_structure):\n",
    "                    delta[l] = calculate_out_layer_delta(y[i,:], a[l], z[l])\n",
    "                    avg_cost += np.linalg.norm((y[i,:]-a[l]))\n",
    "                else:\n",
    "                    if l > 1:\n",
    "                        delta[l] = calculate_hidden_delta(delta[l+1], W[l], z[l])\n",
    "                    # triW^(l) = triW^(l) + delta^(l+1) * transpose(a^(l))\n",
    "                    tri_W[l] += np.dot(delta[l+1][:,np.newaxis], np.transpose(a[l][:,np.newaxis]))# np.newaxis increase the number of dimensions\n",
    "                    # trib^(l) = trib^(l) + delta^(l+1)\n",
    "                    tri_b[l] += delta[l+1]\n",
    "        # perform the gradient descent step for the weights in each layer\n",
    "        for l in range(len(nn_structure) - 1, 0, -1):\n",
    "            #W[l] += -alpha * (1.0/N * tri_W[l])\n",
    "            W[l] += -alpha * (1.0/N * tri_W[l] + 0.001 * W[l]) #regularization\n",
    "            b[l] += -alpha * (1.0/N * tri_b[l])\n",
    "        # complete the average cost calculation\n",
    "        avg_cost = 1.0/N * avg_cost\n",
    "        avg_cost_func.append(avg_cost)\n",
    "        cnt += 1\n",
    "    return W, b, avg_cost_func\n",
    "\n",
    "\n",
    "def predict_y(W, b, X, n_layers):\n",
    "    N = X.shape[0]\n",
    "    y = np.zeros((N,))\n",
    "    for i in range(N):\n",
    "        a, z = feed_forward(X[i, :], W, b)\n",
    "        y[i] = np.argmax(a[n_layers])\n",
    "    return y"
   ]
  },
  {
   "cell_type": "code",
   "execution_count": 18,
   "id": "3be28699",
   "metadata": {},
   "outputs": [
    {
     "name": "stdout",
     "output_type": "stream",
     "text": [
      "Starting gradient descent for 3000 iterations\n",
      "Iteration 0 of 3000\n",
      "Iteration 1000 of 3000\n",
      "Iteration 2000 of 3000\n"
     ]
    }
   ],
   "source": [
    "nn_structure = [64, 40, 10]\n",
    "\n",
    "# train the NN\n",
    "W, b, avg_cost_func = train_nn(nn_structure, X_train, y_v_train, 3000)"
   ]
  },
  {
   "cell_type": "code",
   "execution_count": 29,
   "id": "38985d34",
   "metadata": {},
   "outputs": [
    {
     "name": "stdout",
     "output_type": "stream",
     "text": [
      "[8. 8. 8. 8.]\n",
      "[9 7 4 7]\n",
      "Prediction accuracy is 0.0%\n"
     ]
    }
   ],
   "source": [
    "# get the prediction accuracy and print\n",
    "y_pred = predict_y(W, b, X_test, 3)\n",
    "print(y_pred)\n",
    "print(y_test)\n",
    "print('Prediction accuracy is {}%'.format(accuracy_score(y_test, y_pred) * 100))"
   ]
  },
  {
   "cell_type": "code",
   "execution_count": null,
   "id": "c1fbcd18",
   "metadata": {},
   "outputs": [],
   "source": [
    "print(metrics.classification_report(y_test, y_pred)) "
   ]
  },
  {
   "cell_type": "code",
   "execution_count": null,
   "id": "916e04dd",
   "metadata": {},
   "outputs": [],
   "source": []
  },
  {
   "cell_type": "code",
   "execution_count": null,
   "id": "90485256",
   "metadata": {},
   "outputs": [],
   "source": []
  }
 ],
 "metadata": {
  "kernelspec": {
   "display_name": "Python 3 (ipykernel)",
   "language": "python",
   "name": "python3"
  },
  "language_info": {
   "codemirror_mode": {
    "name": "ipython",
    "version": 3
   },
   "file_extension": ".py",
   "mimetype": "text/x-python",
   "name": "python",
   "nbconvert_exporter": "python",
   "pygments_lexer": "ipython3",
   "version": "3.9.4"
  }
 },
 "nbformat": 4,
 "nbformat_minor": 5
}
