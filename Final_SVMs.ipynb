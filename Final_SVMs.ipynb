{
 "cells": [
  {
   "cell_type": "code",
   "execution_count": 5,
   "id": "f49cd320",
   "metadata": {},
   "outputs": [],
   "source": [
    "from sklearn.preprocessing import StandardScaler  # It is important in neural networks to scale the date\n",
    "from sklearn.metrics import accuracy_score \n",
    "import os\n",
    "os.environ['TF_CPP_MIN_LOG_LEVEL'] = '3'\n",
    "import numpy as np\n",
    "import numpy.random as r \n",
    "import matplotlib.pyplot as plt \n",
    "import cv2\n",
    "\n",
    "import glob\n",
    "import matplotlib.gridspec as gridspec #A grid layout to place subplots within a figure.\n",
    "from keras.preprocessing.image import ImageDataGenerator\n",
    "from keras.preprocessing.image import load_img\n",
    "from keras.preprocessing.image import img_to_array\n",
    "from sklearn.preprocessing import LabelEncoder\n",
    "from tensorflow.keras.utils import to_categorical\n",
    "\n",
    "%matplotlib inline \n",
    "from sklearn.datasets import load_digits\n",
    "from sklearn.model_selection import train_test_split \n",
    "from sklearn import metrics, svm\n",
    "from sklearn.metrics import confusion_matrix\n",
    "import seaborn as sn #for visualization\n"
   ]
  },
  {
   "cell_type": "code",
   "execution_count": 6,
   "id": "df7315ed",
   "metadata": {},
   "outputs": [
    {
     "data": {
      "image/png": "[encoded data removed]",
      "text/plain": [
       "<Figure size 576x576 with 12 Axes>"
      ]
     },
     "metadata": {
      "needs_background": "light"
     },
     "output_type": "display_data"
    }
   ],
   "source": [
    "characters = glob.glob(\"dataset_characters/**/*.jpg\")\n",
    "cols=4\n",
    "rows=3\n",
    "fig = plt.figure(figsize=(8,8))\n",
    "plt.rcParams.update({\"font.size\":14})\n",
    "grid = gridspec.GridSpec(ncols=cols,nrows=rows,figure=fig)\n",
    "\n",
    "# create a random list of images will be displayed\n",
    "np.random.seed(45)\n",
    "rand = np.random.randint(0,len(characters),size=(cols*rows))\n",
    "\n",
    "# Plot example images\n",
    "for i in range(cols*rows):\n",
    "    fig.add_subplot(grid[i])\n",
    "    image = load_img(characters[rand[i]])\n",
    "    label = characters[rand[i]].split(os.path.sep)[-2]\n",
    "    plt.title('\"{:s}\"'.format(label))\n",
    "    plt.axis(False)\n",
    "    plt.imshow(image)"
   ]
  },
  {
   "cell_type": "code",
   "execution_count": 7,
   "id": "2aba588b",
   "metadata": {},
   "outputs": [
    {
     "name": "stdout",
     "output_type": "stream",
     "text": [
      "(28, 28)\n",
      "784\n",
      "37623\n"
     ]
    }
   ],
   "source": [
    "X=[]\n",
    "labels =[]\n",
    "\n",
    "for image_path in characters:\n",
    "    image = cv2.imread(image_path, 0) #0 = grayscale\n",
    "    image = cv2.resize(image, (28, 28)) \n",
    "    X.append(image)\n",
    "    label = image_path.split(os.path.sep)[-2]\n",
    "    labels.append(label)\n",
    "\n",
    "    \n",
    "print(image.shape)\n",
    "print(image.size)\n",
    " \n",
    "X = np.array(X, dtype = \"float\")\n",
    "print(len(labels))"
   ]
  },
  {
   "cell_type": "code",
   "execution_count": 9,
   "id": "53deca07",
   "metadata": {},
   "outputs": [
    {
     "name": "stdout",
     "output_type": "stream",
     "text": [
      "(37623,)\n"
     ]
    }
   ],
   "source": [
    "#print(X[0])\n",
    "y = np.array(labels)\n",
    "#y = y.reshape(y.shape[0],1)\n",
    "print(y.shape)"
   ]
  },
  {
   "cell_type": "code",
   "execution_count": 10,
   "id": "477ef236",
   "metadata": {},
   "outputs": [],
   "source": [
    "X_train, X_test, y_train, y_test = train_test_split(X, y, test_size = 0.3, random_state = 42)"
   ]
  },
  {
   "cell_type": "code",
   "execution_count": 11,
   "id": "6fb50bf8",
   "metadata": {},
   "outputs": [
    {
     "name": "stdout",
     "output_type": "stream",
     "text": [
      "(26336, 28, 28)\n",
      "(11287, 28, 28)\n",
      "(26336,)\n",
      "(11287,)\n"
     ]
    }
   ],
   "source": [
    "print(X_train.shape)\n",
    "print(X_test.shape)\n",
    "print(y_train.shape)\n",
    "print(y_test.shape)"
   ]
  },
  {
   "cell_type": "code",
   "execution_count": 12,
   "id": "af13040c",
   "metadata": {},
   "outputs": [
    {
     "name": "stdout",
     "output_type": "stream",
     "text": [
      "(26336, 784)\n",
      "(11287, 784)\n"
     ]
    }
   ],
   "source": [
    "num_pixels = 784 #28*28\n",
    "X_train = X_train.reshape(X_train.shape[0], num_pixels)\n",
    "X_test = X_test.reshape(X_test.shape[0], num_pixels)\n",
    "print(X_train.shape)\n",
    "print(X_test.shape)"
   ]
  },
  {
   "cell_type": "code",
   "execution_count": 13,
   "id": "f2e463ad",
   "metadata": {},
   "outputs": [],
   "source": [
    "#linear kernel\n",
    "param_C = 100\n",
    "param_gamma = 0.0001\n",
    "model = svm.SVC(kernel = 'poly', C=param_C,gamma=param_gamma) #'polynomial', 'rbf'"
   ]
  },
  {
   "cell_type": "code",
   "execution_count": 14,
   "id": "fc207876",
   "metadata": {},
   "outputs": [
    {
     "data": {
      "text/plain": [
       "SVC(C=100, gamma=0.0001, kernel='poly')"
      ]
     },
     "execution_count": 14,
     "metadata": {},
     "output_type": "execute_result"
    }
   ],
   "source": [
    "model.fit(X_train, y_train)"
   ]
  },
  {
   "cell_type": "code",
   "execution_count": 16,
   "id": "407cbce0",
   "metadata": {},
   "outputs": [],
   "source": [
    "expected = y_test \n",
    "y_predicted = model.predict(X_test)"
   ]
  },
  {
   "cell_type": "code",
   "execution_count": 17,
   "id": "b84018ed",
   "metadata": {},
   "outputs": [
    {
     "name": "stdout",
     "output_type": "stream",
     "text": [
      "              precision    recall  f1-score   support\n",
      "\n",
      "           0       0.68      0.81      0.74       339\n",
      "           1       0.80      0.87      0.84       300\n",
      "           2       0.94      0.95      0.94       311\n",
      "           3       0.89      0.91      0.90       314\n",
      "           4       0.93      0.92      0.93       292\n",
      "           5       0.93      0.90      0.91       343\n",
      "           6       0.96      0.87      0.91       323\n",
      "           7       0.91      0.93      0.92       318\n",
      "           8       0.88      0.88      0.88       340\n",
      "           9       0.92      0.89      0.91       330\n",
      "           A       0.93      0.90      0.91       316\n",
      "           B       0.80      0.86      0.83       324\n",
      "           C       0.93      0.92      0.92       306\n",
      "           D       0.96      0.94      0.95       351\n",
      "           E       0.94      0.88      0.91       302\n",
      "           F       0.74      0.94      0.83       279\n",
      "           G       0.78      0.91      0.84       337\n",
      "           H       0.84      0.90      0.87       331\n",
      "           I       0.53      0.82      0.64       309\n",
      "           J       0.91      0.86      0.88       308\n",
      "           K       0.94      0.92      0.93       291\n",
      "           L       0.97      0.84      0.90       312\n",
      "           M       0.96      0.91      0.93       320\n",
      "           N       0.94      0.86      0.90       306\n",
      "           O       0.71      0.77      0.74       279\n",
      "           P       0.95      0.88      0.91       327\n",
      "           Q       0.87      0.78      0.82       312\n",
      "           R       0.93      0.85      0.89       316\n",
      "           S       0.95      0.87      0.91       304\n",
      "           T       0.96      0.81      0.88       303\n",
      "           U       0.96      0.87      0.91       319\n",
      "           V       0.95      0.86      0.90       280\n",
      "           W       0.91      0.90      0.90       297\n",
      "           X       0.94      0.91      0.93       333\n",
      "           Y       0.97      0.82      0.89       323\n",
      "           Z       0.91      0.92      0.91       292\n",
      "\n",
      "    accuracy                           0.88     11287\n",
      "   macro avg       0.89      0.88      0.88     11287\n",
      "weighted avg       0.89      0.88      0.88     11287\n",
      "\n"
     ]
    }
   ],
   "source": [
    "print(metrics.classification_report(expected, y_predicted))"
   ]
  },
  {
   "cell_type": "code",
   "execution_count": 18,
   "id": "0d91b1f3",
   "metadata": {},
   "outputs": [
    {
     "name": "stdout",
     "output_type": "stream",
     "text": [
      "[[273   0   0 ...   0   0   0]\n",
      " [  0 262   2 ...   3   1   3]\n",
      " [  0   0 294 ...   0   0   2]\n",
      " ...\n",
      " [  0   2   0 ... 304   0   2]\n",
      " [  0   2   0 ...   1 264   0]\n",
      " [  0   4   2 ...   0   1 268]]\n"
     ]
    }
   ],
   "source": [
    "cm = metrics.confusion_matrix(expected, y_predicted)\n",
    "print(cm)"
   ]
  },
  {
   "cell_type": "code",
   "execution_count": 19,
   "id": "84ffb7e0",
   "metadata": {},
   "outputs": [
    {
     "data": {
      "text/plain": [
       "0.8786214228758749"
      ]
     },
     "execution_count": 19,
     "metadata": {},
     "output_type": "execute_result"
    }
   ],
   "source": [
    "model.score(X_test, y_test)#how good the model is "
   ]
  },
  {
   "cell_type": "code",
   "execution_count": 20,
   "id": "18f19df4",
   "metadata": {},
   "outputs": [],
   "source": [
    "acc_train_svm_linear = []\n",
    "acc_test_svm_linear = []\n",
    "cVals= [0.0001, 0.001, 0.01, 0.1, 1, 10]\n",
    "c_svm_linear = []"
   ]
  },
  {
   "cell_type": "code",
   "execution_count": 21,
   "id": "e46ed997",
   "metadata": {},
   "outputs": [],
   "source": [
    "from sklearn import svm\n",
    "\n",
    "# Complete the function below:\n",
    "# In this function and next 2 functions, we are not passing the data matrices as parameters \n",
    "# because we can use global variables inside the functions.\n",
    "def svm_linear(c):\n",
    "    # TODO - Create an object of svm.SVC(probability = False, kernel = 'linear', C = c) - 5 points\n",
    "    svc_linear = svm.SVC(probability = False, kernel = 'linear', C = c)\n",
    "    \n",
    "    # TODO - Fit the classifier on the training set - 5 points\n",
    "    svc_linear.fit(X_train, y_train)\n",
    "    # TODO - Find the prediction and accuracy on the training set - 5 points\n",
    "    Yhat_svc_linear_train = svc_linear.predict(X_train)\n",
    "    acc_train = svc_linear.score(X_train, y_train)\n",
    "    \n",
    "    # Adding testing accuracy to acc_train_svm\n",
    "    acc_train_svm_linear.append(acc_train)\n",
    "    print('Train Accuracy = {0:f}'.format(acc_train))\n",
    "    \n",
    "    # TODO - Find the prediction and accuracy on the test set - 5 points\n",
    "    Yhat_svc_linear_test = svc_linear.predict(X_test)\n",
    "    acc_test = svc_linear.score(X_test, y_test)\n",
    "    \n",
    "    # Adding testing accuracy to acc_test_svm\n",
    "    acc_test_svm_linear.append(acc_test)\n",
    "    print('Test Accuracy = {0:f}'.format(acc_test))\n",
    "    \n",
    "    # Appending value of c for graphing purposes\n",
    "    c_svm_linear.append(c)"
   ]
  },
  {
   "cell_type": "code",
   "execution_count": 22,
   "id": "0a3388e2",
   "metadata": {},
   "outputs": [
    {
     "name": "stdout",
     "output_type": "stream",
     "text": [
      "Train Accuracy = 0.996848\n",
      "Test Accuracy = 0.918933\n",
      "Train Accuracy = 0.998747\n",
      "Test Accuracy = 0.917782\n",
      "Train Accuracy = 0.999696\n",
      "Test Accuracy = 0.918047\n",
      "Train Accuracy = 0.999848\n",
      "Test Accuracy = 0.918136\n",
      "Train Accuracy = 0.999848\n",
      "Test Accuracy = 0.918136\n",
      "Train Accuracy = 0.999848\n",
      "Test Accuracy = 0.918136\n"
     ]
    }
   ],
   "source": [
    "for c in cVals:\n",
    "    svm_linear(c)"
   ]
  },
  {
   "cell_type": "code",
   "execution_count": 24,
   "id": "b23ee26a",
   "metadata": {},
   "outputs": [
    {
     "data": {
      "text/plain": [
       "<matplotlib.legend.Legend at 0x7f81f088cb20>"
      ]
     },
     "execution_count": 24,
     "metadata": {},
     "output_type": "execute_result"
    },
    {
     "data": {
      "image/png": "[encoded data removed]",
      "text/plain": [
       "<Figure size 432x288 with 1 Axes>"
      ]
     },
     "metadata": {
      "needs_background": "light"
     },
     "output_type": "display_data"
    }
   ],
   "source": [
    "plt.plot(cVals, acc_train_svm_linear, color=\"green\", marker=\"o\")\n",
    "plt.plot(cVals, acc_test_svm_linear, color=\"blue\", marker=\"o\")\n",
    "plt.xscale(\"log\")\n",
    "plt.grid()\n",
    "plt.xlabel(\"c\")\n",
    "plt.ylabel(\"Accuracy\")\n",
    "plt.title(\"Accuracy vs c\")\n",
    "\n",
    "# Use the following function to have a legend\n",
    "plt.legend(['Training Accuracy', 'Test Accuracy'], loc='upper right')"
   ]
  },
  {
   "cell_type": "code",
   "execution_count": null,
   "id": "6e7a990c",
   "metadata": {},
   "outputs": [],
   "source": []
  }
 ],
 "metadata": {
  "kernelspec": {
   "display_name": "Python 3",
   "language": "python",
   "name": "python3"
  },
  "language_info": {
   "codemirror_mode": {
    "name": "ipython",
    "version": 3
   },
   "file_extension": ".py",
   "mimetype": "text/x-python",
   "name": "python",
   "nbconvert_exporter": "python",
   "pygments_lexer": "ipython3",
   "version": "3.8.8"
  }
 },
 "nbformat": 4,
 "nbformat_minor": 5
}
