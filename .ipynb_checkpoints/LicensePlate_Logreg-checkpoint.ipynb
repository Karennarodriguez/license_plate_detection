{
 "cells": [
  {
   "cell_type": "code",
   "execution_count": 196,
   "id": "ecb438c2",
   "metadata": {},
   "outputs": [],
   "source": [
    "from sklearn.preprocessing import StandardScaler  # It is important in neural networks to scale the date\n",
    "from sklearn.metrics import accuracy_score \n",
    "import os\n",
    "os.environ['TF_CPP_MIN_LOG_LEVEL'] = '3'\n",
    "import numpy as np\n",
    "import numpy.random as r \n",
    "import matplotlib.pyplot as plt \n",
    "import cv2\n",
    "\n",
    "import glob\n",
    "import matplotlib.gridspec as gridspec #A grid layout to place subplots within a figure.\n",
    "from keras.preprocessing.image import ImageDataGenerator\n",
    "from keras.preprocessing.image import load_img\n",
    "from keras.preprocessing.image import img_to_array\n",
    "from sklearn.preprocessing import LabelEncoder\n",
    "from tensorflow.keras.utils import to_categorical\n",
    "\n",
    "%matplotlib inline \n",
    "from sklearn.datasets import load_digits\n",
    "from sklearn.model_selection import train_test_split \n",
    "from sklearn import metrics\n",
    "from sklearn.metrics import confusion_matrix\n",
    "import seaborn as sn #for visualization"
   ]
  },
  {
   "cell_type": "code",
   "execution_count": 197,
   "id": "2f984bdb",
   "metadata": {},
   "outputs": [
    {
     "name": "stdout",
     "output_type": "stream",
     "text": [
      "['test_lps/3P8757M/M.jpg', 'test_lps/3P8757M/8.jpg', 'test_lps/3P8757M/7_1.jpg', 'test_lps/3P8757M/5.jpg', 'test_lps/3P8757M/7.jpg', 'test_lps/3P8757M/3.jpg', 'test_lps/3P8757M/P.jpg']\n"
     ]
    }
   ],
   "source": [
    "license_plate = glob.glob(\"test_lps/3P8757M/*.jpg\")\n",
    "print(license_plate)"
   ]
  },
  {
   "cell_type": "code",
   "execution_count": 198,
   "id": "fe7df75b",
   "metadata": {},
   "outputs": [
    {
     "name": "stdout",
     "output_type": "stream",
     "text": [
      "7\n"
     ]
    },
    {
     "data": {
      "text/plain": [
       "<Figure size 576x576 with 0 Axes>"
      ]
     },
     "metadata": {},
     "output_type": "display_data"
    }
   ],
   "source": [
    "cols=3\n",
    "rows=2\n",
    "fig = plt.figure(figsize=(8,8))\n",
    "plt.rcParams.update({\"font.size\":14})\n",
    "grid = gridspec.GridSpec(ncols=cols,nrows=rows,figure=fig)\n",
    "print(len(license_plate))"
   ]
  },
  {
   "cell_type": "code",
   "execution_count": 269,
   "id": "9ca1100c",
   "metadata": {},
   "outputs": [
    {
     "name": "stdout",
     "output_type": "stream",
     "text": [
      "M\n",
      "8\n",
      "7\n",
      "5\n",
      "7\n"
     ]
    },
    {
     "name": "stderr",
     "output_type": "stream",
     "text": [
      "<ipython-input-269-4f21d1169118>:2: MatplotlibDeprecationWarning: Adding an axes using the same arguments as a previous axes currently reuses the earlier instance.  In a future version, a new instance will always be created and returned.  Meanwhile, this warning can be suppressed, and the future behavior ensured, by passing a unique label to each axes instance.\n",
      "  fig.add_subplot(grid[i])\n"
     ]
    },
    {
     "data": {
      "image/png": "[encoded data removed]",
      "text/plain": [
       "<Figure size 432x288 with 1 Axes>"
      ]
     },
     "metadata": {
      "needs_background": "light"
     },
     "output_type": "display_data"
    }
   ],
   "source": [
    "for i in range(len(license_plate)-2):\n",
    "    fig.add_subplot(grid[i])\n",
    "    image = load_img(license_plate[i])\n",
    "    #image = cv2.imread(license_plate[i])\n",
    "    \n",
    "    label = license_plate[i].split(\"/\")[2][0]\n",
    "    print(label)\n",
    "    plt.title('\"{:s}\"'.format(label))\n",
    "    plt.axis(False)\n",
    "    plt.imshow(image)"
   ]
  },
  {
   "cell_type": "code",
   "execution_count": 286,
   "id": "336f2d0e",
   "metadata": {},
   "outputs": [
    {
     "name": "stdout",
     "output_type": "stream",
     "text": [
      "test_lps/3P8757M/M.jpg\n"
     ]
    },
    {
     "ename": "IndexError",
     "evalue": "list index out of range",
     "output_type": "error",
     "traceback": [
      "\u001b[0;31m---------------------------------------------------------------------------\u001b[0m",
      "\u001b[0;31mIndexError\u001b[0m                                Traceback (most recent call last)",
      "\u001b[0;32m<ipython-input-286-bf9f85eea5d6>\u001b[0m in \u001b[0;36m<module>\u001b[0;34m\u001b[0m\n\u001b[1;32m     13\u001b[0m     \u001b[0;31m#print(image)\u001b[0m\u001b[0;34m\u001b[0m\u001b[0;34m\u001b[0m\u001b[0;34m\u001b[0m\u001b[0m\n\u001b[1;32m     14\u001b[0m     \u001b[0mX\u001b[0m\u001b[0;34m.\u001b[0m\u001b[0mappend\u001b[0m\u001b[0;34m(\u001b[0m\u001b[0mimage\u001b[0m\u001b[0;34m)\u001b[0m\u001b[0;34m\u001b[0m\u001b[0;34m\u001b[0m\u001b[0m\n\u001b[0;32m---> 15\u001b[0;31m     \u001b[0mlabel\u001b[0m \u001b[0;34m=\u001b[0m \u001b[0mlicense_plate\u001b[0m\u001b[0;34m[\u001b[0m\u001b[0mi\u001b[0m\u001b[0;34m]\u001b[0m\u001b[0;34m.\u001b[0m\u001b[0msplit\u001b[0m\u001b[0;34m(\u001b[0m\u001b[0;34m\"/\"\u001b[0m\u001b[0;34m)\u001b[0m\u001b[0;34m[\u001b[0m\u001b[0;36m2\u001b[0m\u001b[0;34m]\u001b[0m\u001b[0;34m[\u001b[0m\u001b[0;36m0\u001b[0m\u001b[0;34m]\u001b[0m\u001b[0;34m\u001b[0m\u001b[0;34m\u001b[0m\u001b[0m\n\u001b[0m\u001b[1;32m     16\u001b[0m     \u001b[0mlabels\u001b[0m\u001b[0;34m.\u001b[0m\u001b[0mappend\u001b[0m\u001b[0;34m(\u001b[0m\u001b[0mlabel\u001b[0m\u001b[0;34m)\u001b[0m\u001b[0;34m\u001b[0m\u001b[0;34m\u001b[0m\u001b[0m\n\u001b[1;32m     17\u001b[0m \u001b[0;34m\u001b[0m\u001b[0m\n",
      "\u001b[0;31mIndexError\u001b[0m: list index out of range"
     ]
    },
    {
     "data": {
      "image/png": "[encoded data removed]",
      "text/plain": [
       "<Figure size 432x288 with 1 Axes>"
      ]
     },
     "metadata": {
      "needs_background": "light"
     },
     "output_type": "display_data"
    }
   ],
   "source": [
    "X=[]\n",
    "labels =[]\n",
    "\n",
    "for image_path in license_plate[:-2:]:\n",
    "    print(image_path)\n",
    "    image = cv2.imread(image_path, 0) #0 = grayscale\n",
    "    \n",
    "    PADDING = [0,0,0]\n",
    "    PAD = 30\n",
    "    image= cv2.copyMakeBorder(image,PAD,PAD+10,PAD,PAD+10,cv2.BORDER_CONSTANT,value=PADDING)         \n",
    "    image = cv2.resize(image, (28, 28))\n",
    "    plt.imshow(image)\n",
    "    #print(image)\n",
    "    X.append(image)\n",
    "    label = image_path.split(\"/\")[2][0]\n",
    "    labels.append(label)\n",
    "\n",
    "    \n",
    "print(image.shape)\n",
    "print(image.size)\n",
    " \n",
    "X_test = np.array(X, dtype = \"float\")\n",
    "print(X_test[0])\n",
    "print(X_test[1])\n",
    "print(X_test[2])\n",
    "\n",
    "#print(X_test[6-2])"
   ]
  },
  {
   "cell_type": "code",
   "execution_count": 274,
   "id": "2fc718e9",
   "metadata": {},
   "outputs": [
    {
     "name": "stdout",
     "output_type": "stream",
     "text": [
      "(5,)\n"
     ]
    }
   ],
   "source": [
    "y_test = np.array(labels)\n",
    "print(y_test.shape)"
   ]
  },
  {
   "cell_type": "markdown",
   "id": "e5d48604",
   "metadata": {},
   "source": [
    "## CHARACTERS"
   ]
  },
  {
   "cell_type": "code",
   "execution_count": 275,
   "id": "d4617caf",
   "metadata": {},
   "outputs": [
    {
     "data": {
      "image/png": "[encoded data removed]",
      "text/plain": [
       "<Figure size 576x576 with 12 Axes>"
      ]
     },
     "metadata": {
      "needs_background": "light"
     },
     "output_type": "display_data"
    }
   ],
   "source": [
    "characters = glob.glob(\"dataset_characters/**/*.jpg\")\n",
    "cols=4\n",
    "rows=3\n",
    "fig = plt.figure(figsize=(8,8))\n",
    "plt.rcParams.update({\"font.size\":14})\n",
    "grid = gridspec.GridSpec(ncols=cols,nrows=rows,figure=fig)\n",
    "\n",
    "# create a random list of images will be displayed\n",
    "np.random.seed(45)\n",
    "rand = np.random.randint(0,len(characters),size=(cols*rows))\n",
    "\n",
    "# Plot example images\n",
    "for i in range(cols*rows):\n",
    "    fig.add_subplot(grid[i])\n",
    "    image = load_img(characters[rand[i]])\n",
    "    label = characters[rand[i]].split(os.path.sep)[-2]\n",
    "    plt.title('\"{:s}\"'.format(label))\n",
    "    plt.axis(False)\n",
    "    plt.imshow(image)"
   ]
  },
  {
   "cell_type": "code",
   "execution_count": 276,
   "id": "892ca6da",
   "metadata": {},
   "outputs": [
    {
     "name": "stdout",
     "output_type": "stream",
     "text": [
      "(28, 28)\n",
      "784\n",
      "[[  2.   0.   0.   1.   2.   0.   0.   0.   0.   0.   0.   0.   0.   0.\n",
      "    0.   0.   0.   3.   0.   0.   2.   1.   0.   2.   0.   0.   0.   0.]\n",
      " [  0.   5.   0.   0.   2.   0.   0.   0.   0.   0.   0.   0.   0.   0.\n",
      "    0.   0.   0.   0.   0.   3.   0.   0.   0.   1.   0.   0.   0.   0.]\n",
      " [  0.   0.   0.   3.   0.   0.   1.   1.   0.   0.   0.   0.   0.   0.\n",
      "    0.   0.   1.   0.   2.   3.   0.   1.   4.   0.   0.   0.   0.   0.]\n",
      " [  2.   0.   0.   0.   0.   5.   0. 254. 255. 255. 255. 255. 255. 255.\n",
      "  255. 255. 255. 255. 252. 252. 255. 253.   0.   0.   0.   0.   0.   0.]\n",
      " [  1.   1.   1.   1.   2.   0.   0. 255. 255. 255. 255. 255. 255. 255.\n",
      "  255. 255. 254. 255. 255. 255. 253. 255.   2.   3.   0.   0.   0.   0.]\n",
      " [  0.   0.   0.   0.   0.   0.   4. 254. 255. 255. 255. 255. 255. 255.\n",
      "  255. 255. 255. 255. 255. 252. 253. 255.   0.   0.   0.   0.   0.   0.]\n",
      " [  1.   2.   2.   0.   0.   2.   0.   1.   0.   0.   0.   0.   0.   0.\n",
      "    0.   0.   0.   1. 255. 255. 255.  41.   0.   3.   0.   0.   0.   0.]\n",
      " [  0.   0.   0.   0.   2.   0.   3.   0.   0.   0.   0.   0.   0.   0.\n",
      "    0.   0.   0. 229. 255. 254. 212.   1.   1.   0.   0.   0.   0.   0.]\n",
      " [  0.   0.   0.   0.   0.   0.   0.   0.   0.   0.   2.   0.   2.   0.\n",
      "    0.   1.  86. 255. 254. 253.   2.   0.   1.   0.   0.   0.   0.   0.]\n",
      " [  0.   0.   0.   0.   0.   0.   0.   0.   2.   0.   1.   0.   0.   0.\n",
      "    2.   0. 255. 250. 255.   1.   0.   1.   1.   0.   0.   0.   0.   0.]\n",
      " [  0.   0.   0.   0.   0.   0.   0.   0.   1.   0.   2.   0.   0.   4.\n",
      "    0. 255. 253. 255.   0.   4.   0.   0.   2.   1.   0.   0.   0.   0.]\n",
      " [  0.   0.   0.   0.   0.   0.   0.   0.   0.   4.   0.   1.   0.   0.\n",
      "  253. 255. 255. 121.   0.   0.   3.   2.   0.   0.   0.   0.   0.   0.]\n",
      " [  0.   0.   0.   0.   0.   0.   0.   0.   0.   0.   1.   0.   0. 185.\n",
      "  255. 251. 255.   0.   0.   0.   1.   0.   0.   4.   0.   0.   0.   0.]\n",
      " [  0.   0.   0.   0.   0.   0.   0.   0.   2.   1.   0.   0.  33. 255.\n",
      "  250. 255.   0.   4.   2.   0.   0.   2.   0.   0.   0.   0.   0.   0.]\n",
      " [  0.   0.   0.   0.   0.   0.   0.   0.   0.   0.   1.   0. 255. 253.\n",
      "  255.   0.   0.   0.   0.   2.   0.   0.   1.   0.   0.   0.   0.   0.]\n",
      " [  0.   0.   0.   0.   0.   0.   0.   0.   0.   1.   0. 255. 254. 255.\n",
      "    0.   1.   1.   0.   0.   2.   0.   0.   2.   0.   0.   0.   0.   0.]\n",
      " [  0.   1.   0.   2.   1.   0.   1.   0.   0.   1. 246. 255. 255.  12.\n",
      "    3.   0.   0.   3.   0.   0.   1.   0.   1.   0.   0.   0.   0.   0.]\n",
      " [  1.   0.   2.   0.   2.   1.   0.   2.   3. 113. 255. 255. 175.   0.\n",
      "    0.   1.   0.   0.   3.   0.   0.   2.   0.   1.   0.   0.   0.   0.]\n",
      " [  0.   1.   2.   0.   0.   1.   0.   2.   3. 255. 255. 251.   0.   0.\n",
      "    2.   0.   1.   3.   0.   0.   1.   0.   0.   0.   0.   0.   0.   0.]\n",
      " [  2.   0.   0.   3.   0.   0.   1.   0. 255. 253. 255.   0.   2.   1.\n",
      "    0.   0.   0.   0.   2.   0.   2.   2.   1.   0.   0.   0.   0.   0.]\n",
      " [  0.   1.   0.   3.   0.   1.   3. 254. 255. 251.   2.   0.   0.   0.\n",
      "    2.   0.   0.   0.   3.   1.   0.   0.   0.   1.   0.   0.   0.   0.]\n",
      " [  2.   0.   1.   0.   0.   0. 211. 255. 255.  71.   0.   0.   2.   2.\n",
      "    0.   0.   1.   1.   0.   0.   1.   1.   1.   0.   0.   0.   0.   0.]\n",
      " [  0.   0.   0.   0.   0.   1. 255. 253. 254. 254. 255. 253. 254. 254.\n",
      "  255. 255. 253. 254. 255. 255. 255. 253.   2.   0.   0.   0.   0.   0.]\n",
      " [  0.   0.   1.   0.   0.   0. 254. 255. 255. 252. 255. 255. 254. 255.\n",
      "  253. 254. 255. 255. 254. 253. 255. 255.   0.   0.   0.   0.   0.   0.]\n",
      " [  1.   0.   0.   1.   0.   0. 255. 255. 255. 255. 255. 255. 255. 255.\n",
      "  255. 255. 255. 255. 255. 254. 255. 255.   0.   0.   0.   0.   0.   0.]\n",
      " [  0.   2.   0.   0.   7.   0.   0.   0.   0.   0.   0.   0.   0.   0.\n",
      "    0.   0.   1.   0.   0.   4.   0.   0.   1.   0.   0.   0.   0.   0.]\n",
      " [  0.   1.   0.   1.   0.   0.   1.   2.   0.   0.   0.   0.   0.   0.\n",
      "    0.   0.   2.   0.   1.   0.   1.   2.   0.   0.   0.   0.   0.   0.]\n",
      " [  1.   0.   2.   0.   0.   1.   0.   0.   0.   0.   0.   0.   0.   0.\n",
      "    0.   0.   0.   1.   0.   0.   0.   0.   2.   0.   0.   0.   0.   0.]]\n"
     ]
    }
   ],
   "source": [
    "X=[]\n",
    "labels_train =[]\n",
    "\n",
    "for image_path in characters:\n",
    "    image = cv2.imread(image_path, 0) #0 = grayscale\n",
    "    image = cv2.resize(image, (28, 28)) \n",
    "    X.append(image)\n",
    "    label = image_path.split(os.path.sep)[-2]\n",
    "    labels_train.append(label)\n",
    "\n",
    "    \n",
    "print(image.shape)\n",
    "print(image.size)\n",
    " \n",
    "X = np.array(X, dtype = \"float\")\n",
    "print(X[10000])"
   ]
  },
  {
   "cell_type": "code",
   "execution_count": 277,
   "id": "1a5a21b7",
   "metadata": {},
   "outputs": [
    {
     "name": "stdout",
     "output_type": "stream",
     "text": [
      "(37623,)\n"
     ]
    }
   ],
   "source": [
    "y = np.array(labels_train)\n",
    "print(y.shape)"
   ]
  },
  {
   "cell_type": "code",
   "execution_count": 278,
   "id": "a05dc579",
   "metadata": {},
   "outputs": [],
   "source": [
    "X_train, x_ , y_train, y_ = train_test_split(X, y, test_size = 0.90, random_state = 42)"
   ]
  },
  {
   "cell_type": "code",
   "execution_count": 279,
   "id": "52aec65f",
   "metadata": {},
   "outputs": [
    {
     "name": "stdout",
     "output_type": "stream",
     "text": [
      "(3762, 28, 28)\n",
      "(5, 28, 28)\n",
      "(3762,)\n",
      "(5,)\n"
     ]
    }
   ],
   "source": [
    "print(X_train.shape)\n",
    "print(X_test.shape)\n",
    "print(y_train.shape)\n",
    "print(y_test.shape)"
   ]
  },
  {
   "cell_type": "code",
   "execution_count": 280,
   "id": "5ad574d3",
   "metadata": {},
   "outputs": [],
   "source": [
    "from sklearn.linear_model import LogisticRegression \n",
    "model = LogisticRegression(penalty= \"l2\", C = 50)"
   ]
  },
  {
   "cell_type": "code",
   "execution_count": 281,
   "id": "5d79f7b8",
   "metadata": {},
   "outputs": [
    {
     "name": "stdout",
     "output_type": "stream",
     "text": [
      "(3762, 784)\n",
      "(5, 784)\n"
     ]
    }
   ],
   "source": [
    "num_pixels = 784 #28*28\n",
    "X_train = X_train.reshape(X_train.shape[0], num_pixels)\n",
    "X_test = X_test.reshape(X_test.shape[0], num_pixels)\n",
    "print(X_train.shape)\n",
    "print(X_test.shape)"
   ]
  },
  {
   "cell_type": "code",
   "execution_count": 282,
   "id": "e140a3c7",
   "metadata": {},
   "outputs": [
    {
     "name": "stderr",
     "output_type": "stream",
     "text": [
      "/Users/liner1/opt/anaconda3/lib/python3.8/site-packages/sklearn/linear_model/_logistic.py:814: ConvergenceWarning: lbfgs failed to converge (status=1):\n",
      "STOP: TOTAL NO. of ITERATIONS REACHED LIMIT.\n",
      "\n",
      "Increase the number of iterations (max_iter) or scale the data as shown in:\n",
      "    https://scikit-learn.org/stable/modules/preprocessing.html\n",
      "Please also refer to the documentation for alternative solver options:\n",
      "    https://scikit-learn.org/stable/modules/linear_model.html#logistic-regression\n",
      "  n_iter_i = _check_optimize_result(\n"
     ]
    },
    {
     "data": {
      "text/plain": [
       "LogisticRegression(C=50)"
      ]
     },
     "execution_count": 282,
     "metadata": {},
     "output_type": "execute_result"
    }
   ],
   "source": [
    "model.fit(X_train, y_train)"
   ]
  },
  {
   "cell_type": "code",
   "execution_count": 283,
   "id": "1e9d03e5",
   "metadata": {},
   "outputs": [
    {
     "data": {
      "text/plain": [
       "0.4"
      ]
     },
     "execution_count": 283,
     "metadata": {},
     "output_type": "execute_result"
    }
   ],
   "source": [
    "model.score(X_test, y_test)#how good the model is "
   ]
  },
  {
   "cell_type": "code",
   "execution_count": 284,
   "id": "dc6271e6",
   "metadata": {},
   "outputs": [
    {
     "data": {
      "text/plain": [
       "array([[0, 0, 0, 0],\n",
       "       [1, 2, 1, 1],\n",
       "       [0, 0, 0, 0],\n",
       "       [0, 0, 0, 0]])"
      ]
     },
     "execution_count": 284,
     "metadata": {},
     "output_type": "execute_result"
    }
   ],
   "source": [
    "y_predicted = model.predict(X_test)\n",
    "cm = confusion_matrix(y_test, y_predicted)\n",
    "cm"
   ]
  },
  {
   "cell_type": "code",
   "execution_count": 285,
   "id": "96433a00",
   "metadata": {},
   "outputs": [
    {
     "name": "stdout",
     "output_type": "stream",
     "text": [
      "              precision    recall  f1-score   support\n",
      "\n",
      "           5       0.00      0.00      0.00         0\n",
      "           7       1.00      0.40      0.57         5\n",
      "           M       0.00      0.00      0.00         0\n",
      "           R       0.00      0.00      0.00         0\n",
      "\n",
      "    accuracy                           0.40         5\n",
      "   macro avg       0.25      0.10      0.14         5\n",
      "weighted avg       1.00      0.40      0.57         5\n",
      "\n"
     ]
    },
    {
     "name": "stderr",
     "output_type": "stream",
     "text": [
      "/Users/liner1/opt/anaconda3/lib/python3.8/site-packages/sklearn/metrics/_classification.py:1308: UndefinedMetricWarning: Recall and F-score are ill-defined and being set to 0.0 in labels with no true samples. Use `zero_division` parameter to control this behavior.\n",
      "  _warn_prf(average, modifier, msg_start, len(result))\n",
      "/Users/liner1/opt/anaconda3/lib/python3.8/site-packages/sklearn/metrics/_classification.py:1308: UndefinedMetricWarning: Recall and F-score are ill-defined and being set to 0.0 in labels with no true samples. Use `zero_division` parameter to control this behavior.\n",
      "  _warn_prf(average, modifier, msg_start, len(result))\n",
      "/Users/liner1/opt/anaconda3/lib/python3.8/site-packages/sklearn/metrics/_classification.py:1308: UndefinedMetricWarning: Recall and F-score are ill-defined and being set to 0.0 in labels with no true samples. Use `zero_division` parameter to control this behavior.\n",
      "  _warn_prf(average, modifier, msg_start, len(result))\n"
     ]
    }
   ],
   "source": [
    "print(metrics.classification_report(y_test, y_predicted)) "
   ]
  },
  {
   "cell_type": "code",
   "execution_count": null,
   "id": "140dd2df",
   "metadata": {},
   "outputs": [],
   "source": []
  },
  {
   "cell_type": "code",
   "execution_count": null,
   "id": "9d6bb5f1",
   "metadata": {},
   "outputs": [],
   "source": []
  }
 ],
 "metadata": {
  "kernelspec": {
   "display_name": "Python 3",
   "language": "python",
   "name": "python3"
  },
  "language_info": {
   "codemirror_mode": {
    "name": "ipython",
    "version": 3
   },
   "file_extension": ".py",
   "mimetype": "text/x-python",
   "name": "python",
   "nbconvert_exporter": "python",
   "pygments_lexer": "ipython3",
   "version": "3.8.8"
  }
 },
 "nbformat": 4,
 "nbformat_minor": 5
}
